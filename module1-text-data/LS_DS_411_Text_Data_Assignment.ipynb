{
 "cells": [
  {
   "cell_type": "markdown",
   "metadata": {},
   "source": [
    "<img align=\"left\" src=\"https://lever-client-logos.s3.amazonaws.com/864372b1-534c-480e-acd5-9711f850815c-1524247202159.png\" width=200>\n",
    "<br></br>\n",
    "<br></br>\n",
    "\n",
    "# Natural Language Processing (NLP)\n",
    "## *Data Science Unit 4 Sprint 1 Assignment 1*\n",
    "\n",
    "Your goal in this assignment: find the attributes of the best & worst coffee shops in the dataset. The text is fairly raw: dates in the review, extra words in the `star_rating` column, etc. You'll probably want to clean that stuff up for a better analysis. \n",
    "\n",
    "Analyze the corpus of text using text visualizations of token frequency. Try cleaning the data as much as possible. Try the following techniques: \n",
    "- Lemmatization\n",
    "- Custom stopword removal\n",
    "\n",
    "Keep in mind the attributes of good tokens. Once you have a solid baseline, layer in the star rating in your visualization(s). Key part of this assignment - produce a write-up of the attributes of the best and worst coffee shops. Based on your analysis, what makes the best the best and the worst the worst. Use graphs and numbesr from your analysis to support your conclusions. There should be plenty of markdown cells! :coffee:"
   ]
  },
  {
   "cell_type": "code",
   "execution_count": 2,
   "metadata": {},
   "outputs": [
    {
     "data": {
      "image/jpeg": "[encoded data removed]",
      "text/html": [
       "\n",
       "        <iframe\n",
       "            width=\"400\"\n",
       "            height=\"300\"\n",
       "            src=\"https://www.youtube.com/embed/Jml7NVYm8cs\"\n",
       "            frameborder=\"0\"\n",
       "            allowfullscreen\n",
       "        ></iframe>\n",
       "        "
      ],
      "text/plain": [
       "<IPython.lib.display.YouTubeVideo at 0x2589ad8b898>"
      ]
     },
     "execution_count": 2,
     "metadata": {},
     "output_type": "execute_result"
    }
   ],
   "source": [
    "from IPython.display import YouTubeVideo\n",
    "\n",
    "YouTubeVideo('Jml7NVYm8cs')"
   ]
  },
  {
   "cell_type": "code",
   "execution_count": 3,
   "metadata": {},
   "outputs": [
    {
     "data": {
      "text/plain": [
       "'C:\\\\Users\\\\hkang\\\\repos\\\\unit-4\\\\DS-Unit-4-Sprint-1-NLP\\\\module1-text-data'"
      ]
     },
     "execution_count": 3,
     "metadata": {},
     "output_type": "execute_result"
    }
   ],
   "source": [
    "%pwd"
   ]
  },
  {
   "cell_type": "code",
   "execution_count": 4,
   "metadata": {},
   "outputs": [],
   "source": [
    "import pandas as pd\n",
    "import spacy\n",
    "import squarify\n",
    "import matplotlib.pyplot as plt"
   ]
  },
  {
   "cell_type": "code",
   "execution_count": 5,
   "metadata": {},
   "outputs": [
    {
     "data": {
      "text/html": [
       "<div>\n",
       "<style scoped>\n",
       "    .dataframe tbody tr th:only-of-type {\n",
       "        vertical-align: middle;\n",
       "    }\n",
       "\n",
       "    .dataframe tbody tr th {\n",
       "        vertical-align: top;\n",
       "    }\n",
       "\n",
       "    .dataframe thead th {\n",
       "        text-align: right;\n",
       "    }\n",
       "</style>\n",
       "<table border=\"1\" class=\"dataframe\">\n",
       "  <thead>\n",
       "    <tr style=\"text-align: right;\">\n",
       "      <th></th>\n",
       "      <th>coffee_shop_name</th>\n",
       "      <th>full_review_text</th>\n",
       "      <th>star_rating</th>\n",
       "    </tr>\n",
       "  </thead>\n",
       "  <tbody>\n",
       "    <tr>\n",
       "      <th>0</th>\n",
       "      <td>The Factory - Cafe With a Soul</td>\n",
       "      <td>11/25/2016 1 check-in Love love loved the atm...</td>\n",
       "      <td>5.0 star rating</td>\n",
       "    </tr>\n",
       "    <tr>\n",
       "      <th>1</th>\n",
       "      <td>The Factory - Cafe With a Soul</td>\n",
       "      <td>12/2/2016 Listed in Date Night: Austin, Ambia...</td>\n",
       "      <td>4.0 star rating</td>\n",
       "    </tr>\n",
       "    <tr>\n",
       "      <th>2</th>\n",
       "      <td>The Factory - Cafe With a Soul</td>\n",
       "      <td>11/30/2016 1 check-in Listed in Brunch Spots ...</td>\n",
       "      <td>4.0 star rating</td>\n",
       "    </tr>\n",
       "    <tr>\n",
       "      <th>3</th>\n",
       "      <td>The Factory - Cafe With a Soul</td>\n",
       "      <td>11/25/2016 Very cool decor! Good drinks Nice ...</td>\n",
       "      <td>2.0 star rating</td>\n",
       "    </tr>\n",
       "    <tr>\n",
       "      <th>4</th>\n",
       "      <td>The Factory - Cafe With a Soul</td>\n",
       "      <td>12/3/2016 1 check-in They are located within ...</td>\n",
       "      <td>4.0 star rating</td>\n",
       "    </tr>\n",
       "  </tbody>\n",
       "</table>\n",
       "</div>"
      ],
      "text/plain": [
       "                  coffee_shop_name  \\\n",
       "0  The Factory - Cafe With a Soul    \n",
       "1  The Factory - Cafe With a Soul    \n",
       "2  The Factory - Cafe With a Soul    \n",
       "3  The Factory - Cafe With a Soul    \n",
       "4  The Factory - Cafe With a Soul    \n",
       "\n",
       "                                    full_review_text        star_rating  \n",
       "0   11/25/2016 1 check-in Love love loved the atm...   5.0 star rating   \n",
       "1   12/2/2016 Listed in Date Night: Austin, Ambia...   4.0 star rating   \n",
       "2   11/30/2016 1 check-in Listed in Brunch Spots ...   4.0 star rating   \n",
       "3   11/25/2016 Very cool decor! Good drinks Nice ...   2.0 star rating   \n",
       "4   12/3/2016 1 check-in They are located within ...   4.0 star rating   "
      ]
     },
     "execution_count": 5,
     "metadata": {},
     "output_type": "execute_result"
    }
   ],
   "source": [
    "\n",
    "url = \"https://raw.githubusercontent.com/LambdaSchool/DS-Unit-4-Sprint-1-NLP/master/module1-text-data/data/yelp_coffeeshop_review_data.csv\"\n",
    "\n",
    "shops = pd.read_csv(url)\n",
    "shops.head()"
   ]
  },
  {
   "cell_type": "code",
   "execution_count": 6,
   "metadata": {},
   "outputs": [],
   "source": [
    "# Start here \n",
    "\n",
    "# strip rating down to just the number\n",
    "shops['star_rating'] = shops['star_rating'].str.slice(0,2)"
   ]
  },
  {
   "cell_type": "code",
   "execution_count": 7,
   "metadata": {},
   "outputs": [],
   "source": [
    "# not sure if it's possible to just use a single function.  there's probably a way to do it by merging the results to the original instead of directly assigning new cols\n",
    "\"\"\"\n",
    "def date_split(text):\n",
    "    # strip the white space that occurs at the start of every review\n",
    "    text = text.strip()\n",
    "    \n",
    "    # split on the first space\n",
    "    text_split = text.split(\" \",1)\n",
    "    \n",
    "    return text_split[0], text_split[1]\n",
    "\"\"\"\n",
    "\n",
    "def date_split(text):\n",
    "    # strip the white space that occurs at the start of every review\n",
    "    text = text.strip()\n",
    "    \n",
    "    # split on the first space\n",
    "    text_split = text.split(\" \",1)\n",
    "    \n",
    "    return text_split[0]\n",
    "\n",
    "def review_split(text):\n",
    "    # strip the white space that occurs at the start of every review\n",
    "    text = text.strip()\n",
    "    \n",
    "    # split on the first space\n",
    "    text_split = text.split(\" \",1)\n",
    "    \n",
    "    return text_split[1]\n"
   ]
  },
  {
   "cell_type": "code",
   "execution_count": 8,
   "metadata": {},
   "outputs": [],
   "source": [
    "# Neither of these lines work. I'd probably have to use merge or something to assign both columns in a single step.\n",
    "#shops['date'], shops['full_review_text'] = shops['full_review_text'].apply(date_split)\n",
    "#shops['date'], shops['full_review_text'] = shops['full_review_text'].apply(date_split)[0], shops['full_review_text'].apply(date_split)[1]\n",
    "\n",
    "# split the date from the review and place in new column\n",
    "shops['date'] = shops['full_review_text'].apply(date_split)\n",
    "shops['full_review_text'] = shops['full_review_text'].apply(review_split)"
   ]
  },
  {
   "cell_type": "markdown",
   "metadata": {},
   "source": [
    "## How do we want to analyze these coffee shop tokens? \n",
    "\n",
    "- Overall Word / Token Count\n",
    "- View Counts by Rating \n",
    "- *Hint:* a 'bad' coffee shops has a rating betweeen 1 & 3 based on the distribution of ratings. A 'good' coffee shop is a 4 or 5. "
   ]
  },
  {
   "cell_type": "code",
   "execution_count": 9,
   "metadata": {},
   "outputs": [
    {
     "data": {
      "text/html": [
       "<div>\n",
       "<style scoped>\n",
       "    .dataframe tbody tr th:only-of-type {\n",
       "        vertical-align: middle;\n",
       "    }\n",
       "\n",
       "    .dataframe tbody tr th {\n",
       "        vertical-align: top;\n",
       "    }\n",
       "\n",
       "    .dataframe thead th {\n",
       "        text-align: right;\n",
       "    }\n",
       "</style>\n",
       "<table border=\"1\" class=\"dataframe\">\n",
       "  <thead>\n",
       "    <tr style=\"text-align: right;\">\n",
       "      <th></th>\n",
       "      <th>coffee_shop_name</th>\n",
       "      <th>full_review_text</th>\n",
       "      <th>star_rating</th>\n",
       "      <th>date</th>\n",
       "    </tr>\n",
       "  </thead>\n",
       "  <tbody>\n",
       "    <tr>\n",
       "      <th>0</th>\n",
       "      <td>The Factory - Cafe With a Soul</td>\n",
       "      <td>1 check-in Love love loved the atmosphere! Eve...</td>\n",
       "      <td>5</td>\n",
       "      <td>11/25/2016</td>\n",
       "    </tr>\n",
       "    <tr>\n",
       "      <th>1</th>\n",
       "      <td>The Factory - Cafe With a Soul</td>\n",
       "      <td>Listed in Date Night: Austin, Ambiance in Aust...</td>\n",
       "      <td>4</td>\n",
       "      <td>12/2/2016</td>\n",
       "    </tr>\n",
       "    <tr>\n",
       "      <th>2</th>\n",
       "      <td>The Factory - Cafe With a Soul</td>\n",
       "      <td>1 check-in Listed in Brunch Spots I loved the ...</td>\n",
       "      <td>4</td>\n",
       "      <td>11/30/2016</td>\n",
       "    </tr>\n",
       "    <tr>\n",
       "      <th>3</th>\n",
       "      <td>The Factory - Cafe With a Soul</td>\n",
       "      <td>Very cool decor! Good drinks Nice seating  How...</td>\n",
       "      <td>2</td>\n",
       "      <td>11/25/2016</td>\n",
       "    </tr>\n",
       "    <tr>\n",
       "      <th>4</th>\n",
       "      <td>The Factory - Cafe With a Soul</td>\n",
       "      <td>1 check-in They are located within the Northcr...</td>\n",
       "      <td>4</td>\n",
       "      <td>12/3/2016</td>\n",
       "    </tr>\n",
       "    <tr>\n",
       "      <th>...</th>\n",
       "      <td>...</td>\n",
       "      <td>...</td>\n",
       "      <td>...</td>\n",
       "      <td>...</td>\n",
       "    </tr>\n",
       "    <tr>\n",
       "      <th>7611</th>\n",
       "      <td>The Steeping Room</td>\n",
       "      <td>I actually step into this restaurant by chance...</td>\n",
       "      <td>4</td>\n",
       "      <td>2/19/2015</td>\n",
       "    </tr>\n",
       "    <tr>\n",
       "      <th>7612</th>\n",
       "      <td>The Steeping Room</td>\n",
       "      <td>Ok, The Steeping Room IS awesome. How do they ...</td>\n",
       "      <td>5</td>\n",
       "      <td>1/21/2016</td>\n",
       "    </tr>\n",
       "    <tr>\n",
       "      <th>7613</th>\n",
       "      <td>The Steeping Room</td>\n",
       "      <td>Loved coming here for tea, and the atmosphere ...</td>\n",
       "      <td>4</td>\n",
       "      <td>4/30/2015</td>\n",
       "    </tr>\n",
       "    <tr>\n",
       "      <th>7614</th>\n",
       "      <td>The Steeping Room</td>\n",
       "      <td>The food is just average. The booths didn't fe...</td>\n",
       "      <td>3</td>\n",
       "      <td>8/2/2015</td>\n",
       "    </tr>\n",
       "    <tr>\n",
       "      <th>7615</th>\n",
       "      <td>The Steeping Room</td>\n",
       "      <td>I finally stopped in for lunch with my colleag...</td>\n",
       "      <td>4</td>\n",
       "      <td>5/23/2015</td>\n",
       "    </tr>\n",
       "  </tbody>\n",
       "</table>\n",
       "<p>7616 rows × 4 columns</p>\n",
       "</div>"
      ],
      "text/plain": [
       "                     coffee_shop_name  \\\n",
       "0     The Factory - Cafe With a Soul    \n",
       "1     The Factory - Cafe With a Soul    \n",
       "2     The Factory - Cafe With a Soul    \n",
       "3     The Factory - Cafe With a Soul    \n",
       "4     The Factory - Cafe With a Soul    \n",
       "...                               ...   \n",
       "7611               The Steeping Room    \n",
       "7612               The Steeping Room    \n",
       "7613               The Steeping Room    \n",
       "7614               The Steeping Room    \n",
       "7615               The Steeping Room    \n",
       "\n",
       "                                       full_review_text star_rating  \\\n",
       "0     1 check-in Love love loved the atmosphere! Eve...           5   \n",
       "1     Listed in Date Night: Austin, Ambiance in Aust...           4   \n",
       "2     1 check-in Listed in Brunch Spots I loved the ...           4   \n",
       "3     Very cool decor! Good drinks Nice seating  How...           2   \n",
       "4     1 check-in They are located within the Northcr...           4   \n",
       "...                                                 ...         ...   \n",
       "7611  I actually step into this restaurant by chance...           4   \n",
       "7612  Ok, The Steeping Room IS awesome. How do they ...           5   \n",
       "7613  Loved coming here for tea, and the atmosphere ...           4   \n",
       "7614  The food is just average. The booths didn't fe...           3   \n",
       "7615  I finally stopped in for lunch with my colleag...           4   \n",
       "\n",
       "            date  \n",
       "0     11/25/2016  \n",
       "1      12/2/2016  \n",
       "2     11/30/2016  \n",
       "3     11/25/2016  \n",
       "4      12/3/2016  \n",
       "...          ...  \n",
       "7611   2/19/2015  \n",
       "7612   1/21/2016  \n",
       "7613   4/30/2015  \n",
       "7614    8/2/2015  \n",
       "7615   5/23/2015  \n",
       "\n",
       "[7616 rows x 4 columns]"
      ]
     },
     "execution_count": 9,
     "metadata": {},
     "output_type": "execute_result"
    }
   ],
   "source": [
    "shops"
   ]
  },
  {
   "cell_type": "code",
   "execution_count": 10,
   "metadata": {},
   "outputs": [
    {
     "name": "stdout",
     "output_type": "stream",
     "text": [
      "done 1\n",
      "done 2\n"
     ]
    }
   ],
   "source": [
    "print(\"done 1\")\n",
    "\n",
    "# load spacy datamodel\n",
    "nlp = spacy.load(\"en_core_web_lg\")\n",
    "\n",
    "print(\"done 2\")"
   ]
  },
  {
   "cell_type": "code",
   "execution_count": 11,
   "metadata": {},
   "outputs": [
    {
     "name": "stdout",
     "output_type": "stream",
     "text": [
      "Added ['coffee', 'place', 'drink', ' '] to stop words\n"
     ]
    }
   ],
   "source": [
    "# add some stop words\n",
    "\n",
    "new_stop_words = [\"coffee\", \"place\", \"drink\", \" \"]\n",
    "\n",
    "STOPS = nlp.Defaults.stop_words.union(new_stop_words)\n",
    "\n",
    "print(\"Added\", new_stop_words, \"to stop words\")"
   ]
  },
  {
   "cell_type": "code",
   "execution_count": 12,
   "metadata": {},
   "outputs": [],
   "source": [
    "# function for getting lemmas for a given text\n",
    "# will be used with .apply() to get lemmas for entire dataframe\n",
    "\n",
    "def get_lemmas(text):\n",
    "\n",
    "    lemmas = []\n",
    "    \n",
    "    doc = nlp(text)\n",
    "    \n",
    "    # Something goes here :P\n",
    "    for token in doc: \n",
    "        if ((token.text.lower() not in STOPS) and (token.is_punct == False)) and (token.pos_ != 'PRON'):\n",
    "            lemmas.append(token.lemma_)\n",
    "    \n",
    "    return lemmas"
   ]
  },
  {
   "cell_type": "code",
   "execution_count": 13,
   "metadata": {},
   "outputs": [],
   "source": [
    "shops['review_lemmas'] = shops['full_review_text'].apply(get_lemmas)"
   ]
  },
  {
   "cell_type": "code",
   "execution_count": 14,
   "metadata": {},
   "outputs": [
    {
     "data": {
      "text/html": [
       "<div>\n",
       "<style scoped>\n",
       "    .dataframe tbody tr th:only-of-type {\n",
       "        vertical-align: middle;\n",
       "    }\n",
       "\n",
       "    .dataframe tbody tr th {\n",
       "        vertical-align: top;\n",
       "    }\n",
       "\n",
       "    .dataframe thead th {\n",
       "        text-align: right;\n",
       "    }\n",
       "</style>\n",
       "<table border=\"1\" class=\"dataframe\">\n",
       "  <thead>\n",
       "    <tr style=\"text-align: right;\">\n",
       "      <th></th>\n",
       "      <th>coffee_shop_name</th>\n",
       "      <th>full_review_text</th>\n",
       "      <th>star_rating</th>\n",
       "      <th>date</th>\n",
       "      <th>review_lemmas</th>\n",
       "    </tr>\n",
       "  </thead>\n",
       "  <tbody>\n",
       "    <tr>\n",
       "      <th>0</th>\n",
       "      <td>The Factory - Cafe With a Soul</td>\n",
       "      <td>1 check-in Love love loved the atmosphere! Eve...</td>\n",
       "      <td>5</td>\n",
       "      <td>11/25/2016</td>\n",
       "      <td>[1, check, Love, love, love, atmosphere, corne...</td>\n",
       "    </tr>\n",
       "    <tr>\n",
       "      <th>1</th>\n",
       "      <td>The Factory - Cafe With a Soul</td>\n",
       "      <td>Listed in Date Night: Austin, Ambiance in Aust...</td>\n",
       "      <td>4</td>\n",
       "      <td>12/2/2016</td>\n",
       "      <td>[list, Date, Night, Austin, Ambiance, Austin, ...</td>\n",
       "    </tr>\n",
       "    <tr>\n",
       "      <th>2</th>\n",
       "      <td>The Factory - Cafe With a Soul</td>\n",
       "      <td>1 check-in Listed in Brunch Spots I loved the ...</td>\n",
       "      <td>4</td>\n",
       "      <td>11/30/2016</td>\n",
       "      <td>[1, check, list, Brunch, Spots, love, eclectic...</td>\n",
       "    </tr>\n",
       "    <tr>\n",
       "      <th>3</th>\n",
       "      <td>The Factory - Cafe With a Soul</td>\n",
       "      <td>Very cool decor! Good drinks Nice seating  How...</td>\n",
       "      <td>2</td>\n",
       "      <td>11/25/2016</td>\n",
       "      <td>[cool, decor, good, drink, nice, seating, over...</td>\n",
       "    </tr>\n",
       "    <tr>\n",
       "      <th>4</th>\n",
       "      <td>The Factory - Cafe With a Soul</td>\n",
       "      <td>1 check-in They are located within the Northcr...</td>\n",
       "      <td>4</td>\n",
       "      <td>12/3/2016</td>\n",
       "      <td>[1, check, locate, Northcross, mall, shopping,...</td>\n",
       "    </tr>\n",
       "    <tr>\n",
       "      <th>...</th>\n",
       "      <td>...</td>\n",
       "      <td>...</td>\n",
       "      <td>...</td>\n",
       "      <td>...</td>\n",
       "      <td>...</td>\n",
       "    </tr>\n",
       "    <tr>\n",
       "      <th>7611</th>\n",
       "      <td>The Steeping Room</td>\n",
       "      <td>I actually step into this restaurant by chance...</td>\n",
       "      <td>4</td>\n",
       "      <td>2/19/2015</td>\n",
       "      <td>[actually, step, restaurant, chance, favorite,...</td>\n",
       "    </tr>\n",
       "    <tr>\n",
       "      <th>7612</th>\n",
       "      <td>The Steeping Room</td>\n",
       "      <td>Ok, The Steeping Room IS awesome. How do they ...</td>\n",
       "      <td>5</td>\n",
       "      <td>1/21/2016</td>\n",
       "      <td>[ok, Steeping, Room, awesome, great, menu, ite...</td>\n",
       "    </tr>\n",
       "    <tr>\n",
       "      <th>7613</th>\n",
       "      <td>The Steeping Room</td>\n",
       "      <td>Loved coming here for tea, and the atmosphere ...</td>\n",
       "      <td>4</td>\n",
       "      <td>4/30/2015</td>\n",
       "      <td>[love, come, tea, atmosphere, pretty, fresh, o...</td>\n",
       "    </tr>\n",
       "    <tr>\n",
       "      <th>7614</th>\n",
       "      <td>The Steeping Room</td>\n",
       "      <td>The food is just average. The booths didn't fe...</td>\n",
       "      <td>3</td>\n",
       "      <td>8/2/2015</td>\n",
       "      <td>[food, average, booth, feel, clean, waitstaff,...</td>\n",
       "    </tr>\n",
       "    <tr>\n",
       "      <th>7615</th>\n",
       "      <td>The Steeping Room</td>\n",
       "      <td>I finally stopped in for lunch with my colleag...</td>\n",
       "      <td>4</td>\n",
       "      <td>5/23/2015</td>\n",
       "      <td>[finally, stop, lunch, colleague, glad, delici...</td>\n",
       "    </tr>\n",
       "  </tbody>\n",
       "</table>\n",
       "<p>7616 rows × 5 columns</p>\n",
       "</div>"
      ],
      "text/plain": [
       "                     coffee_shop_name  \\\n",
       "0     The Factory - Cafe With a Soul    \n",
       "1     The Factory - Cafe With a Soul    \n",
       "2     The Factory - Cafe With a Soul    \n",
       "3     The Factory - Cafe With a Soul    \n",
       "4     The Factory - Cafe With a Soul    \n",
       "...                               ...   \n",
       "7611               The Steeping Room    \n",
       "7612               The Steeping Room    \n",
       "7613               The Steeping Room    \n",
       "7614               The Steeping Room    \n",
       "7615               The Steeping Room    \n",
       "\n",
       "                                       full_review_text star_rating  \\\n",
       "0     1 check-in Love love loved the atmosphere! Eve...           5   \n",
       "1     Listed in Date Night: Austin, Ambiance in Aust...           4   \n",
       "2     1 check-in Listed in Brunch Spots I loved the ...           4   \n",
       "3     Very cool decor! Good drinks Nice seating  How...           2   \n",
       "4     1 check-in They are located within the Northcr...           4   \n",
       "...                                                 ...         ...   \n",
       "7611  I actually step into this restaurant by chance...           4   \n",
       "7612  Ok, The Steeping Room IS awesome. How do they ...           5   \n",
       "7613  Loved coming here for tea, and the atmosphere ...           4   \n",
       "7614  The food is just average. The booths didn't fe...           3   \n",
       "7615  I finally stopped in for lunch with my colleag...           4   \n",
       "\n",
       "            date                                      review_lemmas  \n",
       "0     11/25/2016  [1, check, Love, love, love, atmosphere, corne...  \n",
       "1      12/2/2016  [list, Date, Night, Austin, Ambiance, Austin, ...  \n",
       "2     11/30/2016  [1, check, list, Brunch, Spots, love, eclectic...  \n",
       "3     11/25/2016  [cool, decor, good, drink, nice, seating, over...  \n",
       "4      12/3/2016  [1, check, locate, Northcross, mall, shopping,...  \n",
       "...          ...                                                ...  \n",
       "7611   2/19/2015  [actually, step, restaurant, chance, favorite,...  \n",
       "7612   1/21/2016  [ok, Steeping, Room, awesome, great, menu, ite...  \n",
       "7613   4/30/2015  [love, come, tea, atmosphere, pretty, fresh, o...  \n",
       "7614    8/2/2015  [food, average, booth, feel, clean, waitstaff,...  \n",
       "7615   5/23/2015  [finally, stop, lunch, colleague, glad, delici...  \n",
       "\n",
       "[7616 rows x 5 columns]"
      ]
     },
     "execution_count": 14,
     "metadata": {},
     "output_type": "execute_result"
    }
   ],
   "source": [
    "shops"
   ]
  },
  {
   "cell_type": "code",
   "execution_count": 15,
   "metadata": {},
   "outputs": [
    {
     "data": {
      "text/plain": [
       "[('good', 5344),\n",
       " ('great', 3917),\n",
       " ('check', 3468),\n",
       " ('like', 3379),\n",
       " ('come', 2638),\n",
       " ('time', 2383),\n",
       " ('love', 2314),\n",
       " ('Austin', 2276),\n",
       " ('1', 2251),\n",
       " ('shop', 2184)]"
      ]
     },
     "execution_count": 15,
     "metadata": {},
     "output_type": "execute_result"
    }
   ],
   "source": [
    "# Object from Base Python\n",
    "from collections import Counter\n",
    "\n",
    "# The object `Counter` takes an iterable, but you can instaniate an empty one and update it. \n",
    "word_counts = Counter()\n",
    "\n",
    "# Update it based on a split of each of our documents\n",
    "shops['review_lemmas'].apply(lambda x: word_counts.update(x))\n",
    "\n",
    "# Print out the 10 most common words\n",
    "word_counts.most_common(10)"
   ]
  },
  {
   "cell_type": "code",
   "execution_count": 16,
   "metadata": {},
   "outputs": [
    {
     "data": {
      "text/plain": [
       "['1',\n",
       " 'check',\n",
       " 'Love',\n",
       " 'love',\n",
       " 'love',\n",
       " 'atmosphere',\n",
       " 'corner',\n",
       " 'shop',\n",
       " 'style',\n",
       " 'swing',\n",
       " 'order',\n",
       " 'matcha',\n",
       " 'latte',\n",
       " 'muy',\n",
       " 'fantastico',\n",
       " 'order',\n",
       " 'get',\n",
       " 'pretty',\n",
       " 'streamlined',\n",
       " 'order',\n",
       " 'iPad',\n",
       " 'include',\n",
       " 'beverage',\n",
       " 'selection',\n",
       " 'range',\n",
       " 'wine',\n",
       " 'desire',\n",
       " 'level',\n",
       " 'sweetness',\n",
       " 'checkout',\n",
       " 'system',\n",
       " 'get',\n",
       " 'latte',\n",
       " 'minute',\n",
       " 'hope',\n",
       " 'typical',\n",
       " 'heart',\n",
       " 'feather',\n",
       " 'latte',\n",
       " 'find',\n",
       " 'list',\n",
       " 'possibility',\n",
       " 'art',\n",
       " 'idea']"
      ]
     },
     "execution_count": 16,
     "metadata": {},
     "output_type": "execute_result"
    }
   ],
   "source": [
    "shops[\"review_lemmas\"][0]"
   ]
  },
  {
   "cell_type": "markdown",
   "metadata": {},
   "source": [
    "## Can visualize the words with the greatest difference in counts between 'good' & 'bad'?\n",
    "\n",
    "Couple Notes: \n",
    "- Rel. freq. instead of absolute counts b/c of different numbers of reviews\n",
    "- Only look at the top 5-10 words with the greatest differences\n"
   ]
  },
  {
   "cell_type": "code",
   "execution_count": 17,
   "metadata": {},
   "outputs": [],
   "source": [
    "def count(docs):\n",
    "\n",
    "        word_counts = Counter()\n",
    "        appears_in = Counter()\n",
    "        \n",
    "        total_docs = len(docs)\n",
    "\n",
    "        for doc in docs:\n",
    "            word_counts.update(doc)\n",
    "            appears_in.update(set(doc))\n",
    "\n",
    "        temp = zip(word_counts.keys(), word_counts.values())\n",
    "        \n",
    "        wc = pd.DataFrame(temp, columns = ['word', 'count'])\n",
    "\n",
    "        wc['rank'] = wc['count'].rank(method='first', ascending=False)\n",
    "        total = wc['count'].sum()\n",
    "\n",
    "        wc['pct_total'] = wc['count'].apply(lambda x: x / total)\n",
    "        \n",
    "        wc = wc.sort_values(by='rank')\n",
    "        wc['cul_pct_total'] = wc['pct_total'].cumsum()\n",
    "\n",
    "        t2 = zip(appears_in.keys(), appears_in.values())\n",
    "        ac = pd.DataFrame(t2, columns=['word', 'appears_in'])\n",
    "        wc = ac.merge(wc, on='word')\n",
    "\n",
    "        wc['appears_in_pct'] = wc['appears_in'].apply(lambda x: x / total_docs)\n",
    "        \n",
    "        return wc.sort_values(by='rank')"
   ]
  },
  {
   "cell_type": "code",
   "execution_count": 18,
   "metadata": {},
   "outputs": [
    {
     "data": {
      "image/png": "[encoded data removed]",
      "text/plain": [
       "<Figure size 432x288 with 1 Axes>"
      ]
     },
     "metadata": {
      "needs_background": "light"
     },
     "output_type": "display_data"
    }
   ],
   "source": [
    "wc = count(shops['review_lemmas'])\n",
    "wc_top20 = wc[wc['rank'] <= 20]\n",
    "\n",
    "squarify.plot(sizes=wc_top20['pct_total'], label=wc_top20['word'], alpha=.8 )\n",
    "plt.axis('off')\n",
    "plt.show()"
   ]
  },
  {
   "cell_type": "code",
   "execution_count": 22,
   "metadata": {},
   "outputs": [
    {
     "data": {
      "text/html": [
       "<div>\n",
       "<style scoped>\n",
       "    .dataframe tbody tr th:only-of-type {\n",
       "        vertical-align: middle;\n",
       "    }\n",
       "\n",
       "    .dataframe tbody tr th {\n",
       "        vertical-align: top;\n",
       "    }\n",
       "\n",
       "    .dataframe thead th {\n",
       "        text-align: right;\n",
       "    }\n",
       "</style>\n",
       "<table border=\"1\" class=\"dataframe\">\n",
       "  <thead>\n",
       "    <tr style=\"text-align: right;\">\n",
       "      <th></th>\n",
       "      <th>word</th>\n",
       "      <th>appears_in</th>\n",
       "      <th>count</th>\n",
       "      <th>rank</th>\n",
       "      <th>pct_total</th>\n",
       "      <th>cul_pct_total</th>\n",
       "      <th>appears_in_pct</th>\n",
       "    </tr>\n",
       "  </thead>\n",
       "  <tbody>\n",
       "    <tr>\n",
       "      <th>147</th>\n",
       "      <td>good</td>\n",
       "      <td>3575</td>\n",
       "      <td>5344</td>\n",
       "      <td>1.0</td>\n",
       "      <td>0.015468</td>\n",
       "      <td>0.015468</td>\n",
       "      <td>0.469407</td>\n",
       "    </tr>\n",
       "    <tr>\n",
       "      <th>134</th>\n",
       "      <td>great</td>\n",
       "      <td>2844</td>\n",
       "      <td>3917</td>\n",
       "      <td>2.0</td>\n",
       "      <td>0.011338</td>\n",
       "      <td>0.026806</td>\n",
       "      <td>0.373424</td>\n",
       "    </tr>\n",
       "    <tr>\n",
       "      <th>29</th>\n",
       "      <td>check</td>\n",
       "      <td>3174</td>\n",
       "      <td>3468</td>\n",
       "      <td>3.0</td>\n",
       "      <td>0.010038</td>\n",
       "      <td>0.036844</td>\n",
       "      <td>0.416754</td>\n",
       "    </tr>\n",
       "    <tr>\n",
       "      <th>159</th>\n",
       "      <td>like</td>\n",
       "      <td>2273</td>\n",
       "      <td>3379</td>\n",
       "      <td>4.0</td>\n",
       "      <td>0.009781</td>\n",
       "      <td>0.046625</td>\n",
       "      <td>0.298451</td>\n",
       "    </tr>\n",
       "    <tr>\n",
       "      <th>445</th>\n",
       "      <td>come</td>\n",
       "      <td>1932</td>\n",
       "      <td>2638</td>\n",
       "      <td>5.0</td>\n",
       "      <td>0.007636</td>\n",
       "      <td>0.054260</td>\n",
       "      <td>0.253676</td>\n",
       "    </tr>\n",
       "    <tr>\n",
       "      <th>...</th>\n",
       "      <td>...</td>\n",
       "      <td>...</td>\n",
       "      <td>...</td>\n",
       "      <td>...</td>\n",
       "      <td>...</td>\n",
       "      <td>...</td>\n",
       "      <td>...</td>\n",
       "    </tr>\n",
       "    <tr>\n",
       "      <th>16865</th>\n",
       "      <td>windowed</td>\n",
       "      <td>1</td>\n",
       "      <td>1</td>\n",
       "      <td>16867.0</td>\n",
       "      <td>0.000003</td>\n",
       "      <td>0.999988</td>\n",
       "      <td>0.000131</td>\n",
       "    </tr>\n",
       "    <tr>\n",
       "      <th>16867</th>\n",
       "      <td>actuality</td>\n",
       "      <td>1</td>\n",
       "      <td>1</td>\n",
       "      <td>16868.0</td>\n",
       "      <td>0.000003</td>\n",
       "      <td>0.999991</td>\n",
       "      <td>0.000131</td>\n",
       "    </tr>\n",
       "    <tr>\n",
       "      <th>16866</th>\n",
       "      <td>crass</td>\n",
       "      <td>1</td>\n",
       "      <td>1</td>\n",
       "      <td>16869.0</td>\n",
       "      <td>0.000003</td>\n",
       "      <td>0.999994</td>\n",
       "      <td>0.000131</td>\n",
       "    </tr>\n",
       "    <tr>\n",
       "      <th>16870</th>\n",
       "      <td>digestion</td>\n",
       "      <td>1</td>\n",
       "      <td>1</td>\n",
       "      <td>16870.0</td>\n",
       "      <td>0.000003</td>\n",
       "      <td>0.999997</td>\n",
       "      <td>0.000131</td>\n",
       "    </tr>\n",
       "    <tr>\n",
       "      <th>16868</th>\n",
       "      <td>Moroccan</td>\n",
       "      <td>1</td>\n",
       "      <td>1</td>\n",
       "      <td>16871.0</td>\n",
       "      <td>0.000003</td>\n",
       "      <td>1.000000</td>\n",
       "      <td>0.000131</td>\n",
       "    </tr>\n",
       "  </tbody>\n",
       "</table>\n",
       "<p>16871 rows × 7 columns</p>\n",
       "</div>"
      ],
      "text/plain": [
       "            word  appears_in  count     rank  pct_total  cul_pct_total  \\\n",
       "147         good        3575   5344      1.0   0.015468       0.015468   \n",
       "134        great        2844   3917      2.0   0.011338       0.026806   \n",
       "29         check        3174   3468      3.0   0.010038       0.036844   \n",
       "159         like        2273   3379      4.0   0.009781       0.046625   \n",
       "445         come        1932   2638      5.0   0.007636       0.054260   \n",
       "...          ...         ...    ...      ...        ...            ...   \n",
       "16865   windowed           1      1  16867.0   0.000003       0.999988   \n",
       "16867  actuality           1      1  16868.0   0.000003       0.999991   \n",
       "16866      crass           1      1  16869.0   0.000003       0.999994   \n",
       "16870  digestion           1      1  16870.0   0.000003       0.999997   \n",
       "16868   Moroccan           1      1  16871.0   0.000003       1.000000   \n",
       "\n",
       "       appears_in_pct  \n",
       "147          0.469407  \n",
       "134          0.373424  \n",
       "29           0.416754  \n",
       "159          0.298451  \n",
       "445          0.253676  \n",
       "...               ...  \n",
       "16865        0.000131  \n",
       "16867        0.000131  \n",
       "16866        0.000131  \n",
       "16870        0.000131  \n",
       "16868        0.000131  \n",
       "\n",
       "[16871 rows x 7 columns]"
      ]
     },
     "execution_count": 22,
     "metadata": {},
     "output_type": "execute_result"
    }
   ],
   "source": [
    "wc"
   ]
  },
  {
   "cell_type": "code",
   "execution_count": 27,
   "metadata": {},
   "outputs": [
    {
     "data": {
      "text/html": [
       "<div>\n",
       "<style scoped>\n",
       "    .dataframe tbody tr th:only-of-type {\n",
       "        vertical-align: middle;\n",
       "    }\n",
       "\n",
       "    .dataframe tbody tr th {\n",
       "        vertical-align: top;\n",
       "    }\n",
       "\n",
       "    .dataframe thead th {\n",
       "        text-align: right;\n",
       "    }\n",
       "</style>\n",
       "<table border=\"1\" class=\"dataframe\">\n",
       "  <thead>\n",
       "    <tr style=\"text-align: right;\">\n",
       "      <th></th>\n",
       "      <th>coffee_shop_name</th>\n",
       "      <th>full_review_text</th>\n",
       "      <th>star_rating</th>\n",
       "      <th>date</th>\n",
       "      <th>review_lemmas</th>\n",
       "    </tr>\n",
       "  </thead>\n",
       "  <tbody>\n",
       "    <tr>\n",
       "      <th>0</th>\n",
       "      <td>The Factory - Cafe With a Soul</td>\n",
       "      <td>1 check-in Love love loved the atmosphere! Eve...</td>\n",
       "      <td>5</td>\n",
       "      <td>11/25/2016</td>\n",
       "      <td>[1, check, Love, love, love, atmosphere, corne...</td>\n",
       "    </tr>\n",
       "    <tr>\n",
       "      <th>1</th>\n",
       "      <td>The Factory - Cafe With a Soul</td>\n",
       "      <td>Listed in Date Night: Austin, Ambiance in Aust...</td>\n",
       "      <td>4</td>\n",
       "      <td>12/2/2016</td>\n",
       "      <td>[list, Date, Night, Austin, Ambiance, Austin, ...</td>\n",
       "    </tr>\n",
       "    <tr>\n",
       "      <th>2</th>\n",
       "      <td>The Factory - Cafe With a Soul</td>\n",
       "      <td>1 check-in Listed in Brunch Spots I loved the ...</td>\n",
       "      <td>4</td>\n",
       "      <td>11/30/2016</td>\n",
       "      <td>[1, check, list, Brunch, Spots, love, eclectic...</td>\n",
       "    </tr>\n",
       "    <tr>\n",
       "      <th>3</th>\n",
       "      <td>The Factory - Cafe With a Soul</td>\n",
       "      <td>Very cool decor! Good drinks Nice seating  How...</td>\n",
       "      <td>2</td>\n",
       "      <td>11/25/2016</td>\n",
       "      <td>[cool, decor, good, drink, nice, seating, over...</td>\n",
       "    </tr>\n",
       "    <tr>\n",
       "      <th>4</th>\n",
       "      <td>The Factory - Cafe With a Soul</td>\n",
       "      <td>1 check-in They are located within the Northcr...</td>\n",
       "      <td>4</td>\n",
       "      <td>12/3/2016</td>\n",
       "      <td>[1, check, locate, Northcross, mall, shopping,...</td>\n",
       "    </tr>\n",
       "  </tbody>\n",
       "</table>\n",
       "</div>"
      ],
      "text/plain": [
       "                  coffee_shop_name  \\\n",
       "0  The Factory - Cafe With a Soul    \n",
       "1  The Factory - Cafe With a Soul    \n",
       "2  The Factory - Cafe With a Soul    \n",
       "3  The Factory - Cafe With a Soul    \n",
       "4  The Factory - Cafe With a Soul    \n",
       "\n",
       "                                    full_review_text star_rating        date  \\\n",
       "0  1 check-in Love love loved the atmosphere! Eve...           5  11/25/2016   \n",
       "1  Listed in Date Night: Austin, Ambiance in Aust...           4   12/2/2016   \n",
       "2  1 check-in Listed in Brunch Spots I loved the ...           4  11/30/2016   \n",
       "3  Very cool decor! Good drinks Nice seating  How...           2  11/25/2016   \n",
       "4  1 check-in They are located within the Northcr...           4   12/3/2016   \n",
       "\n",
       "                                       review_lemmas  \n",
       "0  [1, check, Love, love, love, atmosphere, corne...  \n",
       "1  [list, Date, Night, Austin, Ambiance, Austin, ...  \n",
       "2  [1, check, list, Brunch, Spots, love, eclectic...  \n",
       "3  [cool, decor, good, drink, nice, seating, over...  \n",
       "4  [1, check, locate, Northcross, mall, shopping,...  "
      ]
     },
     "execution_count": 27,
     "metadata": {},
     "output_type": "execute_result"
    }
   ],
   "source": [
    "shops.head()"
   ]
  },
  {
   "cell_type": "code",
   "execution_count": 21,
   "metadata": {},
   "outputs": [
    {
     "ename": "KeyError",
     "evalue": "True",
     "output_type": "error",
     "traceback": [
      "\u001b[1;31m---------------------------------------------------------------------------\u001b[0m",
      "\u001b[1;31mKeyError\u001b[0m                                  Traceback (most recent call last)",
      "\u001b[1;32m~\\anaconda3\\envs\\U4-S1-NLP\\lib\\site-packages\\pandas\\core\\indexes\\base.py\u001b[0m in \u001b[0;36mget_loc\u001b[1;34m(self, key, method, tolerance)\u001b[0m\n\u001b[0;32m   2645\u001b[0m             \u001b[1;32mtry\u001b[0m\u001b[1;33m:\u001b[0m\u001b[1;33m\u001b[0m\u001b[0m\n\u001b[1;32m-> 2646\u001b[1;33m                 \u001b[1;32mreturn\u001b[0m \u001b[0mself\u001b[0m\u001b[1;33m.\u001b[0m\u001b[0m_engine\u001b[0m\u001b[1;33m.\u001b[0m\u001b[0mget_loc\u001b[0m\u001b[1;33m(\u001b[0m\u001b[0mkey\u001b[0m\u001b[1;33m)\u001b[0m\u001b[1;33m\u001b[0m\u001b[0m\n\u001b[0m\u001b[0;32m   2647\u001b[0m             \u001b[1;32mexcept\u001b[0m \u001b[0mKeyError\u001b[0m\u001b[1;33m:\u001b[0m\u001b[1;33m\u001b[0m\u001b[0m\n",
      "\u001b[1;32mpandas\\_libs\\index.pyx\u001b[0m in \u001b[0;36mpandas._libs.index.IndexEngine.get_loc\u001b[1;34m()\u001b[0m\n",
      "\u001b[1;32mpandas\\_libs\\index.pyx\u001b[0m in \u001b[0;36mpandas._libs.index.IndexEngine.get_loc\u001b[1;34m()\u001b[0m\n",
      "\u001b[1;32mpandas\\_libs\\hashtable_class_helper.pxi\u001b[0m in \u001b[0;36mpandas._libs.hashtable.PyObjectHashTable.get_item\u001b[1;34m()\u001b[0m\n",
      "\u001b[1;32mpandas\\_libs\\hashtable_class_helper.pxi\u001b[0m in \u001b[0;36mpandas._libs.hashtable.PyObjectHashTable.get_item\u001b[1;34m()\u001b[0m\n",
      "\u001b[1;31mKeyError\u001b[0m: True",
      "\nDuring handling of the above exception, another exception occurred:\n",
      "\u001b[1;31mKeyError\u001b[0m                                  Traceback (most recent call last)",
      "\u001b[1;32m<ipython-input-21-f06af3006e3d>\u001b[0m in \u001b[0;36m<module>\u001b[1;34m\u001b[0m\n\u001b[1;32m----> 1\u001b[1;33m \u001b[0mshops\u001b[0m\u001b[1;33m[\u001b[0m\u001b[0many\u001b[0m\u001b[1;33m(\u001b[0m\u001b[1;34m\"good\"\u001b[0m \u001b[1;32min\u001b[0m \u001b[0msl\u001b[0m \u001b[1;32mfor\u001b[0m \u001b[0msl\u001b[0m \u001b[1;32min\u001b[0m \u001b[0mshops\u001b[0m\u001b[1;33m[\u001b[0m\u001b[1;34m\"review_lemmas\"\u001b[0m\u001b[1;33m]\u001b[0m\u001b[1;33m)\u001b[0m\u001b[1;33m]\u001b[0m\u001b[1;33m\u001b[0m\u001b[0m\n\u001b[0m",
      "\u001b[1;32m~\\anaconda3\\envs\\U4-S1-NLP\\lib\\site-packages\\pandas\\core\\frame.py\u001b[0m in \u001b[0;36m__getitem__\u001b[1;34m(self, key)\u001b[0m\n\u001b[0;32m   2798\u001b[0m             \u001b[1;32mif\u001b[0m \u001b[0mself\u001b[0m\u001b[1;33m.\u001b[0m\u001b[0mcolumns\u001b[0m\u001b[1;33m.\u001b[0m\u001b[0mnlevels\u001b[0m \u001b[1;33m>\u001b[0m \u001b[1;36m1\u001b[0m\u001b[1;33m:\u001b[0m\u001b[1;33m\u001b[0m\u001b[0m\n\u001b[0;32m   2799\u001b[0m                 \u001b[1;32mreturn\u001b[0m \u001b[0mself\u001b[0m\u001b[1;33m.\u001b[0m\u001b[0m_getitem_multilevel\u001b[0m\u001b[1;33m(\u001b[0m\u001b[0mkey\u001b[0m\u001b[1;33m)\u001b[0m\u001b[1;33m\u001b[0m\u001b[0m\n\u001b[1;32m-> 2800\u001b[1;33m             \u001b[0mindexer\u001b[0m \u001b[1;33m=\u001b[0m \u001b[0mself\u001b[0m\u001b[1;33m.\u001b[0m\u001b[0mcolumns\u001b[0m\u001b[1;33m.\u001b[0m\u001b[0mget_loc\u001b[0m\u001b[1;33m(\u001b[0m\u001b[0mkey\u001b[0m\u001b[1;33m)\u001b[0m\u001b[1;33m\u001b[0m\u001b[0m\n\u001b[0m\u001b[0;32m   2801\u001b[0m             \u001b[1;32mif\u001b[0m \u001b[0mis_integer\u001b[0m\u001b[1;33m(\u001b[0m\u001b[0mindexer\u001b[0m\u001b[1;33m)\u001b[0m\u001b[1;33m:\u001b[0m\u001b[1;33m\u001b[0m\u001b[0m\n\u001b[0;32m   2802\u001b[0m                 \u001b[0mindexer\u001b[0m \u001b[1;33m=\u001b[0m \u001b[1;33m[\u001b[0m\u001b[0mindexer\u001b[0m\u001b[1;33m]\u001b[0m\u001b[1;33m\u001b[0m\u001b[0m\n",
      "\u001b[1;32m~\\anaconda3\\envs\\U4-S1-NLP\\lib\\site-packages\\pandas\\core\\indexes\\base.py\u001b[0m in \u001b[0;36mget_loc\u001b[1;34m(self, key, method, tolerance)\u001b[0m\n\u001b[0;32m   2646\u001b[0m                 \u001b[1;32mreturn\u001b[0m \u001b[0mself\u001b[0m\u001b[1;33m.\u001b[0m\u001b[0m_engine\u001b[0m\u001b[1;33m.\u001b[0m\u001b[0mget_loc\u001b[0m\u001b[1;33m(\u001b[0m\u001b[0mkey\u001b[0m\u001b[1;33m)\u001b[0m\u001b[1;33m\u001b[0m\u001b[0m\n\u001b[0;32m   2647\u001b[0m             \u001b[1;32mexcept\u001b[0m \u001b[0mKeyError\u001b[0m\u001b[1;33m:\u001b[0m\u001b[1;33m\u001b[0m\u001b[0m\n\u001b[1;32m-> 2648\u001b[1;33m                 \u001b[1;32mreturn\u001b[0m \u001b[0mself\u001b[0m\u001b[1;33m.\u001b[0m\u001b[0m_engine\u001b[0m\u001b[1;33m.\u001b[0m\u001b[0mget_loc\u001b[0m\u001b[1;33m(\u001b[0m\u001b[0mself\u001b[0m\u001b[1;33m.\u001b[0m\u001b[0m_maybe_cast_indexer\u001b[0m\u001b[1;33m(\u001b[0m\u001b[0mkey\u001b[0m\u001b[1;33m)\u001b[0m\u001b[1;33m)\u001b[0m\u001b[1;33m\u001b[0m\u001b[0m\n\u001b[0m\u001b[0;32m   2649\u001b[0m         \u001b[0mindexer\u001b[0m \u001b[1;33m=\u001b[0m \u001b[0mself\u001b[0m\u001b[1;33m.\u001b[0m\u001b[0mget_indexer\u001b[0m\u001b[1;33m(\u001b[0m\u001b[1;33m[\u001b[0m\u001b[0mkey\u001b[0m\u001b[1;33m]\u001b[0m\u001b[1;33m,\u001b[0m \u001b[0mmethod\u001b[0m\u001b[1;33m=\u001b[0m\u001b[0mmethod\u001b[0m\u001b[1;33m,\u001b[0m \u001b[0mtolerance\u001b[0m\u001b[1;33m=\u001b[0m\u001b[0mtolerance\u001b[0m\u001b[1;33m)\u001b[0m\u001b[1;33m\u001b[0m\u001b[0m\n\u001b[0;32m   2650\u001b[0m         \u001b[1;32mif\u001b[0m \u001b[0mindexer\u001b[0m\u001b[1;33m.\u001b[0m\u001b[0mndim\u001b[0m \u001b[1;33m>\u001b[0m \u001b[1;36m1\u001b[0m \u001b[1;32mor\u001b[0m \u001b[0mindexer\u001b[0m\u001b[1;33m.\u001b[0m\u001b[0msize\u001b[0m \u001b[1;33m>\u001b[0m \u001b[1;36m1\u001b[0m\u001b[1;33m:\u001b[0m\u001b[1;33m\u001b[0m\u001b[0m\n",
      "\u001b[1;32mpandas\\_libs\\index.pyx\u001b[0m in \u001b[0;36mpandas._libs.index.IndexEngine.get_loc\u001b[1;34m()\u001b[0m\n",
      "\u001b[1;32mpandas\\_libs\\index.pyx\u001b[0m in \u001b[0;36mpandas._libs.index.IndexEngine.get_loc\u001b[1;34m()\u001b[0m\n",
      "\u001b[1;32mpandas\\_libs\\hashtable_class_helper.pxi\u001b[0m in \u001b[0;36mpandas._libs.hashtable.PyObjectHashTable.get_item\u001b[1;34m()\u001b[0m\n",
      "\u001b[1;32mpandas\\_libs\\hashtable_class_helper.pxi\u001b[0m in \u001b[0;36mpandas._libs.hashtable.PyObjectHashTable.get_item\u001b[1;34m()\u001b[0m\n",
      "\u001b[1;31mKeyError\u001b[0m: True"
     ]
    }
   ],
   "source": [
    "shops[any(\"good\" in sl for sl in shops[\"review_lemmas\"])]"
   ]
  },
  {
   "cell_type": "code",
   "execution_count": 25,
   "metadata": {},
   "outputs": [
    {
     "data": {
      "text/plain": [
       "0       [1, check, Love, love, love, atmosphere, corne...\n",
       "1       [list, Date, Night, Austin, Ambiance, Austin, ...\n",
       "2       [1, check, list, Brunch, Spots, love, eclectic...\n",
       "3       [cool, decor, good, drink, nice, seating, over...\n",
       "4       [1, check, locate, Northcross, mall, shopping,...\n",
       "                              ...                        \n",
       "7611    [actually, step, restaurant, chance, favorite,...\n",
       "7612    [ok, Steeping, Room, awesome, great, menu, ite...\n",
       "7613    [love, come, tea, atmosphere, pretty, fresh, o...\n",
       "7614    [food, average, booth, feel, clean, waitstaff,...\n",
       "7615    [finally, stop, lunch, colleague, glad, delici...\n",
       "Name: review_lemmas, Length: 7616, dtype: object"
      ]
     },
     "execution_count": 25,
     "metadata": {},
     "output_type": "execute_result"
    }
   ],
   "source": [
    "shops[\"review_lemmas\"]"
   ]
  },
  {
   "cell_type": "code",
   "execution_count": 33,
   "metadata": {},
   "outputs": [
    {
     "name": "stdout",
     "output_type": "stream",
     "text": [
      "['1', 'check', 'Love', 'love', 'love', 'atmosphere', 'corner', 'shop', 'style', 'swing', 'order', 'matcha', 'latte', 'muy', 'fantastico', 'order', 'get', 'pretty', 'streamlined', 'order', 'iPad', 'include', 'beverage', 'selection', 'range', 'wine', 'desire', 'level', 'sweetness', 'checkout', 'system', 'get', 'latte', 'minute', 'hope', 'typical', 'heart', 'feather', 'latte', 'find', 'list', 'possibility', 'art', 'idea']\n"
     ]
    },
    {
     "data": {
      "text/plain": [
       "False"
      ]
     },
     "execution_count": 33,
     "metadata": {},
     "output_type": "execute_result"
    }
   ],
   "source": [
    "word = \"good\"\n",
    "print(shops[\"review_lemmas\"][0])\n",
    "any(word in sl for sl in shops[\"review_lemmas\"][0])"
   ]
  },
  {
   "cell_type": "code",
   "execution_count": 34,
   "metadata": {},
   "outputs": [
    {
     "name": "stdout",
     "output_type": "stream",
     "text": [
      "['1', 'check', 'Love', 'love', 'love', 'atmosphere', 'corner', 'shop', 'style', 'swing', 'order', 'matcha', 'latte', 'muy', 'fantastico', 'order', 'get', 'pretty', 'streamlined', 'order', 'iPad', 'include', 'beverage', 'selection', 'range', 'wine', 'desire', 'level', 'sweetness', 'checkout', 'system', 'get', 'latte', 'minute', 'hope', 'typical', 'heart', 'feather', 'latte', 'find', 'list', 'possibility', 'art', 'idea']\n"
     ]
    },
    {
     "data": {
      "text/plain": [
       "True"
      ]
     },
     "execution_count": 34,
     "metadata": {},
     "output_type": "execute_result"
    }
   ],
   "source": [
    "word = \"Love\"\n",
    "print(shops[\"review_lemmas\"][0])\n",
    "any(word in sl for sl in shops[\"review_lemmas\"][0])"
   ]
  },
  {
   "cell_type": "code",
   "execution_count": 52,
   "metadata": {},
   "outputs": [
    {
     "data": {
      "text/plain": [
       "0       False\n",
       "1       False\n",
       "2       False\n",
       "3       False\n",
       "4       False\n",
       "        ...  \n",
       "7611    False\n",
       "7612    False\n",
       "7613    False\n",
       "7614    False\n",
       "7615    False\n",
       "Name: review_lemmas, Length: 7616, dtype: bool"
      ]
     },
     "execution_count": 52,
     "metadata": {},
     "output_type": "execute_result"
    }
   ],
   "source": [
    "#shops[[\"good\"].isin(shops[\"review_lemmas\"])]\n",
    "\n",
    "shops[\"review_lemmas\"].isin([\"good\"])\n",
    "\n"
   ]
  },
  {
   "cell_type": "code",
   "execution_count": 48,
   "metadata": {},
   "outputs": [
    {
     "data": {
      "text/plain": [
       "0       False\n",
       "1       False\n",
       "2       False\n",
       "3       False\n",
       "4       False\n",
       "        ...  \n",
       "7611    False\n",
       "7612    False\n",
       "7613    False\n",
       "7614    False\n",
       "7615    False\n",
       "Name: review_lemmas, Length: 7616, dtype: bool"
      ]
     },
     "execution_count": 48,
     "metadata": {},
     "output_type": "execute_result"
    }
   ],
   "source": [
    "shops[\"review_lemmas\"].isin([\"Love\"])"
   ]
  },
  {
   "cell_type": "code",
   "execution_count": null,
   "metadata": {},
   "outputs": [],
   "source": [
    "\"\"\"\n",
    "Need a way to:\n",
    " - Take a word\n",
    " - create a confitional statement that filters the dataframe down to entries with that word\n",
    " - use avg() on the ratings columns\n",
    "\n",
    "\"\"\""
   ]
  },
  {
   "cell_type": "code",
   "execution_count": null,
   "metadata": {},
   "outputs": [],
   "source": [
    "get dictionary \n",
    "each key is a word\n",
    "each value is an empty list\n",
    "\n",
    "\n",
    "write a loop that will iterate through each row in our df\n",
    "then write loop that checks to see if word is in review for that row\n",
    "if yes, append score to list\n",
    "\n",
    "\n",
    "for row in df\n",
    "    for word in dictionary\n",
    "        if word in row[review]\n",
    "            dictionary[word].append ( row[rating])\n",
    "\n"
   ]
  },
  {
   "cell_type": "markdown",
   "metadata": {
    "colab_type": "text",
    "id": "1dCb1q8XphcP",
    "toc-hr-collapsed": true
   },
   "source": [
    "## Stretch Goals\n",
    "\n",
    "* Analyze another corpus of documents - such as Indeed.com job listings ;).\n",
    "* Play with the Spacy API to\n",
    " - Extract Named Entities\n",
    " - Extracting 'noun chunks'\n",
    " - Attempt Document Classification with just Spacy\n",
    " - *Note:* This [course](https://course.spacy.io/) will be of interesting in helping you with these stretch goals. \n",
    "* Try to build a plotly dash app with your text data \n",
    "\n"
   ]
  }
 ],
 "metadata": {
  "colab": {
   "collapsed_sections": [],
   "name": "LS_DS_421_Text_Data_Assignment.ipynb",
   "provenance": [],
   "version": "0.3.2"
  },
  "kernelspec": {
   "display_name": "U4-S1-NLP (Python3)",
   "language": "python",
   "name": "u4-s1-nlp"
  },
  "language_info": {
   "codemirror_mode": {
    "name": "ipython",
    "version": 3
   },
   "file_extension": ".py",
   "mimetype": "text/x-python",
   "name": "python",
   "nbconvert_exporter": "python",
   "pygments_lexer": "ipython3",
   "version": "3.7.0"
  },
  "toc-autonumbering": false
 },
 "nbformat": 4,
 "nbformat_minor": 4
}
