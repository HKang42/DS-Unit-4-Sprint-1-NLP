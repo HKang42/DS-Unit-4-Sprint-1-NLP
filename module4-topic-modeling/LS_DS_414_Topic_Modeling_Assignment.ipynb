{
 "cells": [
  {
   "cell_type": "markdown",
   "metadata": {},
   "source": [
    "<img align=\"left\" src=\"https://lever-client-logos.s3.amazonaws.com/864372b1-534c-480e-acd5-9711f850815c-1524247202159.png\" width=200>\n",
    "<br></br>\n",
    "<br></br>\n",
    "\n",
    "# Topic Modeling\n",
    "## *Data Science Unit 4 Sprint 1 Assignment 4*\n",
    "\n",
    "Analyze a corpus of Amazon reviews from Unit 4 Sprint 1 Module 1's lecture using topic modeling: \n",
    "\n",
    "- Fit a Gensim LDA topic model on Amazon Reviews\n",
    "- Select appropriate number of topics\n",
    "- Create some dope visualization of the topics\n",
    "- Write a few bullets on your findings in markdown at the end\n",
    "- **Note**: You don't *have* to use generators for this assignment"
   ]
  },
  {
   "cell_type": "markdown",
   "metadata": {},
   "source": [
    "### Load and filter data"
   ]
  },
  {
   "cell_type": "code",
   "execution_count": 175,
   "metadata": {},
   "outputs": [],
   "source": [
    "#Start Here\n",
    "# for loading data\n",
    "import pandas as pd\n",
    "\n",
    "# for tokenization\n",
    "import spacy\n",
    "from collections import Counter\n",
    "\n",
    "# for building LDA model\n",
    "import gensim\n",
    "from gensim import corpora\n",
    "from gensim.models.ldamulticore import LdaMulticore\n",
    "\n",
    "# for printing topics in a readable manner\n",
    "import re\n",
    "\n",
    "# for visuzlization\n",
    "import pyLDAvis.gensim\n",
    "\n",
    "# for computing coherence\n",
    "from gensim.models.coherencemodel import CoherenceModel\n",
    "\n",
    "# for visualizing coherence \n",
    "import seaborn as sns"
   ]
  },
  {
   "cell_type": "code",
   "execution_count": 9,
   "metadata": {},
   "outputs": [],
   "source": [
    "\n",
    "df0 = pd.read_csv('data/Datafiniti_Amazon_Consumer_Reviews_of_Amazon_Products_May19.csv')"
   ]
  },
  {
   "cell_type": "code",
   "execution_count": 10,
   "metadata": {},
   "outputs": [
    {
     "data": {
      "text/html": [
       "<div>\n",
       "<style scoped>\n",
       "    .dataframe tbody tr th:only-of-type {\n",
       "        vertical-align: middle;\n",
       "    }\n",
       "\n",
       "    .dataframe tbody tr th {\n",
       "        vertical-align: top;\n",
       "    }\n",
       "\n",
       "    .dataframe thead th {\n",
       "        text-align: right;\n",
       "    }\n",
       "</style>\n",
       "<table border=\"1\" class=\"dataframe\">\n",
       "  <thead>\n",
       "    <tr style=\"text-align: right;\">\n",
       "      <th></th>\n",
       "      <th>id</th>\n",
       "      <th>dateAdded</th>\n",
       "      <th>dateUpdated</th>\n",
       "      <th>name</th>\n",
       "      <th>asins</th>\n",
       "      <th>brand</th>\n",
       "      <th>categories</th>\n",
       "      <th>primaryCategories</th>\n",
       "      <th>imageURLs</th>\n",
       "      <th>keys</th>\n",
       "      <th>...</th>\n",
       "      <th>reviews.didPurchase</th>\n",
       "      <th>reviews.doRecommend</th>\n",
       "      <th>reviews.id</th>\n",
       "      <th>reviews.numHelpful</th>\n",
       "      <th>reviews.rating</th>\n",
       "      <th>reviews.sourceURLs</th>\n",
       "      <th>reviews.text</th>\n",
       "      <th>reviews.title</th>\n",
       "      <th>reviews.username</th>\n",
       "      <th>sourceURLs</th>\n",
       "    </tr>\n",
       "  </thead>\n",
       "  <tbody>\n",
       "    <tr>\n",
       "      <th>0</th>\n",
       "      <td>AVpgNzjwLJeJML43Kpxn</td>\n",
       "      <td>2015-10-30T08:59:32Z</td>\n",
       "      <td>2019-04-25T09:08:16Z</td>\n",
       "      <td>AmazonBasics AAA Performance Alkaline Batterie...</td>\n",
       "      <td>B00QWO9P0O,B00LH3DMUO</td>\n",
       "      <td>Amazonbasics</td>\n",
       "      <td>AA,AAA,Health,Electronics,Health &amp; Household,C...</td>\n",
       "      <td>Health &amp; Beauty</td>\n",
       "      <td>https://images-na.ssl-images-amazon.com/images...</td>\n",
       "      <td>amazonbasics/hl002619,amazonbasicsaaaperforman...</td>\n",
       "      <td>...</td>\n",
       "      <td>NaN</td>\n",
       "      <td>NaN</td>\n",
       "      <td>NaN</td>\n",
       "      <td>NaN</td>\n",
       "      <td>3</td>\n",
       "      <td>https://www.amazon.com/product-reviews/B00QWO9...</td>\n",
       "      <td>I order 3 of them and one of the item is bad q...</td>\n",
       "      <td>... 3 of them and one of the item is bad quali...</td>\n",
       "      <td>Byger yang</td>\n",
       "      <td>https://www.barcodable.com/upc/841710106442,ht...</td>\n",
       "    </tr>\n",
       "    <tr>\n",
       "      <th>1</th>\n",
       "      <td>AVpgNzjwLJeJML43Kpxn</td>\n",
       "      <td>2015-10-30T08:59:32Z</td>\n",
       "      <td>2019-04-25T09:08:16Z</td>\n",
       "      <td>AmazonBasics AAA Performance Alkaline Batterie...</td>\n",
       "      <td>B00QWO9P0O,B00LH3DMUO</td>\n",
       "      <td>Amazonbasics</td>\n",
       "      <td>AA,AAA,Health,Electronics,Health &amp; Household,C...</td>\n",
       "      <td>Health &amp; Beauty</td>\n",
       "      <td>https://images-na.ssl-images-amazon.com/images...</td>\n",
       "      <td>amazonbasics/hl002619,amazonbasicsaaaperforman...</td>\n",
       "      <td>...</td>\n",
       "      <td>NaN</td>\n",
       "      <td>NaN</td>\n",
       "      <td>NaN</td>\n",
       "      <td>NaN</td>\n",
       "      <td>4</td>\n",
       "      <td>https://www.amazon.com/product-reviews/B00QWO9...</td>\n",
       "      <td>Bulk is always the less expensive way to go fo...</td>\n",
       "      <td>... always the less expensive way to go for pr...</td>\n",
       "      <td>ByMG</td>\n",
       "      <td>https://www.barcodable.com/upc/841710106442,ht...</td>\n",
       "    </tr>\n",
       "    <tr>\n",
       "      <th>2</th>\n",
       "      <td>AVpgNzjwLJeJML43Kpxn</td>\n",
       "      <td>2015-10-30T08:59:32Z</td>\n",
       "      <td>2019-04-25T09:08:16Z</td>\n",
       "      <td>AmazonBasics AAA Performance Alkaline Batterie...</td>\n",
       "      <td>B00QWO9P0O,B00LH3DMUO</td>\n",
       "      <td>Amazonbasics</td>\n",
       "      <td>AA,AAA,Health,Electronics,Health &amp; Household,C...</td>\n",
       "      <td>Health &amp; Beauty</td>\n",
       "      <td>https://images-na.ssl-images-amazon.com/images...</td>\n",
       "      <td>amazonbasics/hl002619,amazonbasicsaaaperforman...</td>\n",
       "      <td>...</td>\n",
       "      <td>NaN</td>\n",
       "      <td>NaN</td>\n",
       "      <td>NaN</td>\n",
       "      <td>NaN</td>\n",
       "      <td>5</td>\n",
       "      <td>https://www.amazon.com/product-reviews/B00QWO9...</td>\n",
       "      <td>Well they are not Duracell but for the price i...</td>\n",
       "      <td>... are not Duracell but for the price i am ha...</td>\n",
       "      <td>BySharon Lambert</td>\n",
       "      <td>https://www.barcodable.com/upc/841710106442,ht...</td>\n",
       "    </tr>\n",
       "    <tr>\n",
       "      <th>3</th>\n",
       "      <td>AVpgNzjwLJeJML43Kpxn</td>\n",
       "      <td>2015-10-30T08:59:32Z</td>\n",
       "      <td>2019-04-25T09:08:16Z</td>\n",
       "      <td>AmazonBasics AAA Performance Alkaline Batterie...</td>\n",
       "      <td>B00QWO9P0O,B00LH3DMUO</td>\n",
       "      <td>Amazonbasics</td>\n",
       "      <td>AA,AAA,Health,Electronics,Health &amp; Household,C...</td>\n",
       "      <td>Health &amp; Beauty</td>\n",
       "      <td>https://images-na.ssl-images-amazon.com/images...</td>\n",
       "      <td>amazonbasics/hl002619,amazonbasicsaaaperforman...</td>\n",
       "      <td>...</td>\n",
       "      <td>NaN</td>\n",
       "      <td>NaN</td>\n",
       "      <td>NaN</td>\n",
       "      <td>NaN</td>\n",
       "      <td>5</td>\n",
       "      <td>https://www.amazon.com/product-reviews/B00QWO9...</td>\n",
       "      <td>Seem to work as well as name brand batteries a...</td>\n",
       "      <td>... as well as name brand batteries at a much ...</td>\n",
       "      <td>Bymark sexson</td>\n",
       "      <td>https://www.barcodable.com/upc/841710106442,ht...</td>\n",
       "    </tr>\n",
       "    <tr>\n",
       "      <th>4</th>\n",
       "      <td>AVpgNzjwLJeJML43Kpxn</td>\n",
       "      <td>2015-10-30T08:59:32Z</td>\n",
       "      <td>2019-04-25T09:08:16Z</td>\n",
       "      <td>AmazonBasics AAA Performance Alkaline Batterie...</td>\n",
       "      <td>B00QWO9P0O,B00LH3DMUO</td>\n",
       "      <td>Amazonbasics</td>\n",
       "      <td>AA,AAA,Health,Electronics,Health &amp; Household,C...</td>\n",
       "      <td>Health &amp; Beauty</td>\n",
       "      <td>https://images-na.ssl-images-amazon.com/images...</td>\n",
       "      <td>amazonbasics/hl002619,amazonbasicsaaaperforman...</td>\n",
       "      <td>...</td>\n",
       "      <td>NaN</td>\n",
       "      <td>NaN</td>\n",
       "      <td>NaN</td>\n",
       "      <td>NaN</td>\n",
       "      <td>5</td>\n",
       "      <td>https://www.amazon.com/product-reviews/B00QWO9...</td>\n",
       "      <td>These batteries are very long lasting the pric...</td>\n",
       "      <td>... batteries are very long lasting the price ...</td>\n",
       "      <td>Bylinda</td>\n",
       "      <td>https://www.barcodable.com/upc/841710106442,ht...</td>\n",
       "    </tr>\n",
       "  </tbody>\n",
       "</table>\n",
       "<p>5 rows × 24 columns</p>\n",
       "</div>"
      ],
      "text/plain": [
       "                     id             dateAdded           dateUpdated  \\\n",
       "0  AVpgNzjwLJeJML43Kpxn  2015-10-30T08:59:32Z  2019-04-25T09:08:16Z   \n",
       "1  AVpgNzjwLJeJML43Kpxn  2015-10-30T08:59:32Z  2019-04-25T09:08:16Z   \n",
       "2  AVpgNzjwLJeJML43Kpxn  2015-10-30T08:59:32Z  2019-04-25T09:08:16Z   \n",
       "3  AVpgNzjwLJeJML43Kpxn  2015-10-30T08:59:32Z  2019-04-25T09:08:16Z   \n",
       "4  AVpgNzjwLJeJML43Kpxn  2015-10-30T08:59:32Z  2019-04-25T09:08:16Z   \n",
       "\n",
       "                                                name                  asins  \\\n",
       "0  AmazonBasics AAA Performance Alkaline Batterie...  B00QWO9P0O,B00LH3DMUO   \n",
       "1  AmazonBasics AAA Performance Alkaline Batterie...  B00QWO9P0O,B00LH3DMUO   \n",
       "2  AmazonBasics AAA Performance Alkaline Batterie...  B00QWO9P0O,B00LH3DMUO   \n",
       "3  AmazonBasics AAA Performance Alkaline Batterie...  B00QWO9P0O,B00LH3DMUO   \n",
       "4  AmazonBasics AAA Performance Alkaline Batterie...  B00QWO9P0O,B00LH3DMUO   \n",
       "\n",
       "          brand                                         categories  \\\n",
       "0  Amazonbasics  AA,AAA,Health,Electronics,Health & Household,C...   \n",
       "1  Amazonbasics  AA,AAA,Health,Electronics,Health & Household,C...   \n",
       "2  Amazonbasics  AA,AAA,Health,Electronics,Health & Household,C...   \n",
       "3  Amazonbasics  AA,AAA,Health,Electronics,Health & Household,C...   \n",
       "4  Amazonbasics  AA,AAA,Health,Electronics,Health & Household,C...   \n",
       "\n",
       "  primaryCategories                                          imageURLs  \\\n",
       "0   Health & Beauty  https://images-na.ssl-images-amazon.com/images...   \n",
       "1   Health & Beauty  https://images-na.ssl-images-amazon.com/images...   \n",
       "2   Health & Beauty  https://images-na.ssl-images-amazon.com/images...   \n",
       "3   Health & Beauty  https://images-na.ssl-images-amazon.com/images...   \n",
       "4   Health & Beauty  https://images-na.ssl-images-amazon.com/images...   \n",
       "\n",
       "                                                keys  ... reviews.didPurchase  \\\n",
       "0  amazonbasics/hl002619,amazonbasicsaaaperforman...  ...                 NaN   \n",
       "1  amazonbasics/hl002619,amazonbasicsaaaperforman...  ...                 NaN   \n",
       "2  amazonbasics/hl002619,amazonbasicsaaaperforman...  ...                 NaN   \n",
       "3  amazonbasics/hl002619,amazonbasicsaaaperforman...  ...                 NaN   \n",
       "4  amazonbasics/hl002619,amazonbasicsaaaperforman...  ...                 NaN   \n",
       "\n",
       "  reviews.doRecommend reviews.id reviews.numHelpful reviews.rating  \\\n",
       "0                 NaN        NaN                NaN              3   \n",
       "1                 NaN        NaN                NaN              4   \n",
       "2                 NaN        NaN                NaN              5   \n",
       "3                 NaN        NaN                NaN              5   \n",
       "4                 NaN        NaN                NaN              5   \n",
       "\n",
       "                                  reviews.sourceURLs  \\\n",
       "0  https://www.amazon.com/product-reviews/B00QWO9...   \n",
       "1  https://www.amazon.com/product-reviews/B00QWO9...   \n",
       "2  https://www.amazon.com/product-reviews/B00QWO9...   \n",
       "3  https://www.amazon.com/product-reviews/B00QWO9...   \n",
       "4  https://www.amazon.com/product-reviews/B00QWO9...   \n",
       "\n",
       "                                        reviews.text  \\\n",
       "0  I order 3 of them and one of the item is bad q...   \n",
       "1  Bulk is always the less expensive way to go fo...   \n",
       "2  Well they are not Duracell but for the price i...   \n",
       "3  Seem to work as well as name brand batteries a...   \n",
       "4  These batteries are very long lasting the pric...   \n",
       "\n",
       "                                       reviews.title  reviews.username  \\\n",
       "0  ... 3 of them and one of the item is bad quali...        Byger yang   \n",
       "1  ... always the less expensive way to go for pr...              ByMG   \n",
       "2  ... are not Duracell but for the price i am ha...  BySharon Lambert   \n",
       "3  ... as well as name brand batteries at a much ...     Bymark sexson   \n",
       "4  ... batteries are very long lasting the price ...           Bylinda   \n",
       "\n",
       "                                          sourceURLs  \n",
       "0  https://www.barcodable.com/upc/841710106442,ht...  \n",
       "1  https://www.barcodable.com/upc/841710106442,ht...  \n",
       "2  https://www.barcodable.com/upc/841710106442,ht...  \n",
       "3  https://www.barcodable.com/upc/841710106442,ht...  \n",
       "4  https://www.barcodable.com/upc/841710106442,ht...  \n",
       "\n",
       "[5 rows x 24 columns]"
      ]
     },
     "execution_count": 10,
     "metadata": {},
     "output_type": "execute_result"
    }
   ],
   "source": [
    "df0.head()"
   ]
  },
  {
   "cell_type": "code",
   "execution_count": 27,
   "metadata": {},
   "outputs": [],
   "source": [
    "df = df0.copy()[['primaryCategories',  'reviews.text']]"
   ]
  },
  {
   "cell_type": "code",
   "execution_count": 29,
   "metadata": {},
   "outputs": [
    {
     "data": {
      "text/html": [
       "<div>\n",
       "<style scoped>\n",
       "    .dataframe tbody tr th:only-of-type {\n",
       "        vertical-align: middle;\n",
       "    }\n",
       "\n",
       "    .dataframe tbody tr th {\n",
       "        vertical-align: top;\n",
       "    }\n",
       "\n",
       "    .dataframe thead th {\n",
       "        text-align: right;\n",
       "    }\n",
       "</style>\n",
       "<table border=\"1\" class=\"dataframe\">\n",
       "  <thead>\n",
       "    <tr style=\"text-align: right;\">\n",
       "      <th></th>\n",
       "      <th>primaryCategories</th>\n",
       "      <th>reviews.text</th>\n",
       "    </tr>\n",
       "  </thead>\n",
       "  <tbody>\n",
       "    <tr>\n",
       "      <th>0</th>\n",
       "      <td>Health &amp; Beauty</td>\n",
       "      <td>I order 3 of them and one of the item is bad quality. Is missing backup spring so I have to put ...</td>\n",
       "    </tr>\n",
       "    <tr>\n",
       "      <th>1</th>\n",
       "      <td>Health &amp; Beauty</td>\n",
       "      <td>Bulk is always the less expensive way to go for products like these</td>\n",
       "    </tr>\n",
       "    <tr>\n",
       "      <th>2</th>\n",
       "      <td>Health &amp; Beauty</td>\n",
       "      <td>Well they are not Duracell but for the price i am happy.</td>\n",
       "    </tr>\n",
       "    <tr>\n",
       "      <th>3</th>\n",
       "      <td>Health &amp; Beauty</td>\n",
       "      <td>Seem to work as well as name brand batteries at a much better price</td>\n",
       "    </tr>\n",
       "    <tr>\n",
       "      <th>4</th>\n",
       "      <td>Health &amp; Beauty</td>\n",
       "      <td>These batteries are very long lasting the price is great.</td>\n",
       "    </tr>\n",
       "    <tr>\n",
       "      <th>5</th>\n",
       "      <td>Health &amp; Beauty</td>\n",
       "      <td>Bought a lot of batteries for Christmas and the AmazonBasics Cell have been good. I haven't noti...</td>\n",
       "    </tr>\n",
       "    <tr>\n",
       "      <th>6</th>\n",
       "      <td>Health &amp; Beauty</td>\n",
       "      <td>ive not had any problame with these batteries have ordered them in the past been very pleased.</td>\n",
       "    </tr>\n",
       "    <tr>\n",
       "      <th>7</th>\n",
       "      <td>Health &amp; Beauty</td>\n",
       "      <td>Well if you are looking for cheap non-rechargeable batteries that last quite a while then these ...</td>\n",
       "    </tr>\n",
       "    <tr>\n",
       "      <th>8</th>\n",
       "      <td>Health &amp; Beauty</td>\n",
       "      <td>These do not hold the amount of high power juice like energizer or duracell, but they are half t...</td>\n",
       "    </tr>\n",
       "    <tr>\n",
       "      <th>9</th>\n",
       "      <td>Health &amp; Beauty</td>\n",
       "      <td>AmazonBasics AA AAA batteries have done well by me appear to have a good shelf life. I'll buy th...</td>\n",
       "    </tr>\n",
       "    <tr>\n",
       "      <th>10</th>\n",
       "      <td>Health &amp; Beauty</td>\n",
       "      <td>I find amazon basics batteries to be equal if not superior to name brand ones. Can't believe I d...</td>\n",
       "    </tr>\n",
       "    <tr>\n",
       "      <th>11</th>\n",
       "      <td>Health &amp; Beauty</td>\n",
       "      <td>When I first started getting the Amazon basic batteries I really liked them. With recent purchas...</td>\n",
       "    </tr>\n",
       "    <tr>\n",
       "      <th>12</th>\n",
       "      <td>Health &amp; Beauty</td>\n",
       "      <td>Use it for my fish tank's light at night and works great, I love how you can easily switch it of...</td>\n",
       "    </tr>\n",
       "    <tr>\n",
       "      <th>13</th>\n",
       "      <td>Health &amp; Beauty</td>\n",
       "      <td>just got em so I can't really comment on how good the do the job, good price, quick delivery but...</td>\n",
       "    </tr>\n",
       "    <tr>\n",
       "      <th>14</th>\n",
       "      <td>Health &amp; Beauty</td>\n",
       "      <td>we have many things that need aa battery they are great</td>\n",
       "    </tr>\n",
       "    <tr>\n",
       "      <th>15</th>\n",
       "      <td>Health &amp; Beauty</td>\n",
       "      <td>Thankful that I was able to find on Amazon for a great price and even better shipping. Arrived i...</td>\n",
       "    </tr>\n",
       "    <tr>\n",
       "      <th>16</th>\n",
       "      <td>Health &amp; Beauty</td>\n",
       "      <td>I don't know if I would buy thus brand again seems like they don't last as long as Duracell</td>\n",
       "    </tr>\n",
       "    <tr>\n",
       "      <th>17</th>\n",
       "      <td>Health &amp; Beauty</td>\n",
       "      <td>In my opinion these did not last anywhere near as long as Duracel in things like LED candles (wh...</td>\n",
       "    </tr>\n",
       "    <tr>\n",
       "      <th>18</th>\n",
       "      <td>Health &amp; Beauty</td>\n",
       "      <td>They don't last as long as the brand name but are good enough considering they are much cheaper.</td>\n",
       "    </tr>\n",
       "    <tr>\n",
       "      <th>19</th>\n",
       "      <td>Health &amp; Beauty</td>\n",
       "      <td>Bought these batteries for my Christmas gifts the month of (december) only lasted like 2months t...</td>\n",
       "    </tr>\n",
       "  </tbody>\n",
       "</table>\n",
       "</div>"
      ],
      "text/plain": [
       "   primaryCategories  \\\n",
       "0    Health & Beauty   \n",
       "1    Health & Beauty   \n",
       "2    Health & Beauty   \n",
       "3    Health & Beauty   \n",
       "4    Health & Beauty   \n",
       "5    Health & Beauty   \n",
       "6    Health & Beauty   \n",
       "7    Health & Beauty   \n",
       "8    Health & Beauty   \n",
       "9    Health & Beauty   \n",
       "10   Health & Beauty   \n",
       "11   Health & Beauty   \n",
       "12   Health & Beauty   \n",
       "13   Health & Beauty   \n",
       "14   Health & Beauty   \n",
       "15   Health & Beauty   \n",
       "16   Health & Beauty   \n",
       "17   Health & Beauty   \n",
       "18   Health & Beauty   \n",
       "19   Health & Beauty   \n",
       "\n",
       "                                                                                           reviews.text  \n",
       "0   I order 3 of them and one of the item is bad quality. Is missing backup spring so I have to put ...  \n",
       "1                                   Bulk is always the less expensive way to go for products like these  \n",
       "2                                              Well they are not Duracell but for the price i am happy.  \n",
       "3                                   Seem to work as well as name brand batteries at a much better price  \n",
       "4                                             These batteries are very long lasting the price is great.  \n",
       "5   Bought a lot of batteries for Christmas and the AmazonBasics Cell have been good. I haven't noti...  \n",
       "6        ive not had any problame with these batteries have ordered them in the past been very pleased.  \n",
       "7   Well if you are looking for cheap non-rechargeable batteries that last quite a while then these ...  \n",
       "8   These do not hold the amount of high power juice like energizer or duracell, but they are half t...  \n",
       "9   AmazonBasics AA AAA batteries have done well by me appear to have a good shelf life. I'll buy th...  \n",
       "10  I find amazon basics batteries to be equal if not superior to name brand ones. Can't believe I d...  \n",
       "11  When I first started getting the Amazon basic batteries I really liked them. With recent purchas...  \n",
       "12  Use it for my fish tank's light at night and works great, I love how you can easily switch it of...  \n",
       "13  just got em so I can't really comment on how good the do the job, good price, quick delivery but...  \n",
       "14                                              we have many things that need aa battery they are great  \n",
       "15  Thankful that I was able to find on Amazon for a great price and even better shipping. Arrived i...  \n",
       "16          I don't know if I would buy thus brand again seems like they don't last as long as Duracell  \n",
       "17  In my opinion these did not last anywhere near as long as Duracel in things like LED candles (wh...  \n",
       "18     They don't last as long as the brand name but are good enough considering they are much cheaper.  \n",
       "19  Bought these batteries for my Christmas gifts the month of (december) only lasted like 2months t...  "
      ]
     },
     "execution_count": 29,
     "metadata": {},
     "output_type": "execute_result"
    }
   ],
   "source": [
    "pd.set_option('display.max_colwidth', 100)\n",
    "df.head(20)"
   ]
  },
  {
   "cell_type": "code",
   "execution_count": 35,
   "metadata": {},
   "outputs": [
    {
     "data": {
      "text/plain": [
       "Electronics                    13995\n",
       "Health & Beauty                12071\n",
       "Toys & Games,Electronics        1676\n",
       "Office Supplies,Electronics      386\n",
       "Electronics,Media                185\n",
       "Office Supplies                    9\n",
       "Animals & Pet Supplies             6\n",
       "Home & Garden                      2\n",
       "Electronics,Furniture              2\n",
       "Name: primaryCategories, dtype: int64"
      ]
     },
     "execution_count": 35,
     "metadata": {},
     "output_type": "execute_result"
    }
   ],
   "source": [
    "df['primaryCategories'].value_counts(sort = True)"
   ]
  },
  {
   "cell_type": "code",
   "execution_count": 42,
   "metadata": {},
   "outputs": [],
   "source": [
    "subject = \"Health & Beauty\"\n",
    "df = df[df['primaryCategories'] == subject]"
   ]
  },
  {
   "cell_type": "code",
   "execution_count": 45,
   "metadata": {},
   "outputs": [
    {
     "data": {
      "text/html": [
       "<div>\n",
       "<style scoped>\n",
       "    .dataframe tbody tr th:only-of-type {\n",
       "        vertical-align: middle;\n",
       "    }\n",
       "\n",
       "    .dataframe tbody tr th {\n",
       "        vertical-align: top;\n",
       "    }\n",
       "\n",
       "    .dataframe thead th {\n",
       "        text-align: right;\n",
       "    }\n",
       "</style>\n",
       "<table border=\"1\" class=\"dataframe\">\n",
       "  <thead>\n",
       "    <tr style=\"text-align: right;\">\n",
       "      <th></th>\n",
       "      <th>primaryCategories</th>\n",
       "      <th>reviews.text</th>\n",
       "    </tr>\n",
       "  </thead>\n",
       "  <tbody>\n",
       "    <tr>\n",
       "      <th>0</th>\n",
       "      <td>Health &amp; Beauty</td>\n",
       "      <td>I order 3 of them and one of the item is bad quality. Is missing backup spring so I have to put ...</td>\n",
       "    </tr>\n",
       "    <tr>\n",
       "      <th>1</th>\n",
       "      <td>Health &amp; Beauty</td>\n",
       "      <td>Bulk is always the less expensive way to go for products like these</td>\n",
       "    </tr>\n",
       "    <tr>\n",
       "      <th>2</th>\n",
       "      <td>Health &amp; Beauty</td>\n",
       "      <td>Well they are not Duracell but for the price i am happy.</td>\n",
       "    </tr>\n",
       "    <tr>\n",
       "      <th>3</th>\n",
       "      <td>Health &amp; Beauty</td>\n",
       "      <td>Seem to work as well as name brand batteries at a much better price</td>\n",
       "    </tr>\n",
       "    <tr>\n",
       "      <th>4</th>\n",
       "      <td>Health &amp; Beauty</td>\n",
       "      <td>These batteries are very long lasting the price is great.</td>\n",
       "    </tr>\n",
       "  </tbody>\n",
       "</table>\n",
       "</div>"
      ],
      "text/plain": [
       "  primaryCategories  \\\n",
       "0   Health & Beauty   \n",
       "1   Health & Beauty   \n",
       "2   Health & Beauty   \n",
       "3   Health & Beauty   \n",
       "4   Health & Beauty   \n",
       "\n",
       "                                                                                          reviews.text  \n",
       "0  I order 3 of them and one of the item is bad quality. Is missing backup spring so I have to put ...  \n",
       "1                                  Bulk is always the less expensive way to go for products like these  \n",
       "2                                             Well they are not Duracell but for the price i am happy.  \n",
       "3                                  Seem to work as well as name brand batteries at a much better price  \n",
       "4                                            These batteries are very long lasting the price is great.  "
      ]
     },
     "execution_count": 45,
     "metadata": {},
     "output_type": "execute_result"
    }
   ],
   "source": [
    "df.head()"
   ]
  },
  {
   "cell_type": "code",
   "execution_count": 47,
   "metadata": {},
   "outputs": [
    {
     "data": {
      "text/html": [
       "<div>\n",
       "<style scoped>\n",
       "    .dataframe tbody tr th:only-of-type {\n",
       "        vertical-align: middle;\n",
       "    }\n",
       "\n",
       "    .dataframe tbody tr th {\n",
       "        vertical-align: top;\n",
       "    }\n",
       "\n",
       "    .dataframe thead th {\n",
       "        text-align: right;\n",
       "    }\n",
       "</style>\n",
       "<table border=\"1\" class=\"dataframe\">\n",
       "  <thead>\n",
       "    <tr style=\"text-align: right;\">\n",
       "      <th></th>\n",
       "      <th>reviews.text</th>\n",
       "    </tr>\n",
       "  </thead>\n",
       "  <tbody>\n",
       "    <tr>\n",
       "      <th>0</th>\n",
       "      <td>I order 3 of them and one of the item is bad quality. Is missing backup spring so I have to put ...</td>\n",
       "    </tr>\n",
       "    <tr>\n",
       "      <th>1</th>\n",
       "      <td>Bulk is always the less expensive way to go for products like these</td>\n",
       "    </tr>\n",
       "    <tr>\n",
       "      <th>2</th>\n",
       "      <td>Well they are not Duracell but for the price i am happy.</td>\n",
       "    </tr>\n",
       "    <tr>\n",
       "      <th>3</th>\n",
       "      <td>Seem to work as well as name brand batteries at a much better price</td>\n",
       "    </tr>\n",
       "    <tr>\n",
       "      <th>4</th>\n",
       "      <td>These batteries are very long lasting the price is great.</td>\n",
       "    </tr>\n",
       "  </tbody>\n",
       "</table>\n",
       "</div>"
      ],
      "text/plain": [
       "                                                                                          reviews.text\n",
       "0  I order 3 of them and one of the item is bad quality. Is missing backup spring so I have to put ...\n",
       "1                                  Bulk is always the less expensive way to go for products like these\n",
       "2                                             Well they are not Duracell but for the price i am happy.\n",
       "3                                  Seem to work as well as name brand batteries at a much better price\n",
       "4                                            These batteries are very long lasting the price is great."
      ]
     },
     "execution_count": 47,
     "metadata": {},
     "output_type": "execute_result"
    }
   ],
   "source": [
    "df = df.drop([\"primaryCategories\"], axis = 1)\n",
    "df.head()"
   ]
  },
  {
   "cell_type": "code",
   "execution_count": 52,
   "metadata": {},
   "outputs": [
    {
     "data": {
      "text/plain": [
       "(12071, 1)"
      ]
     },
     "execution_count": 52,
     "metadata": {},
     "output_type": "execute_result"
    }
   ],
   "source": [
    "# We have our filtered dataframe now. \n",
    "\n",
    "# We can do one last check to see if the size matches up with the value counts of the number of rows for the category\n",
    "\n",
    "df.shape"
   ]
  },
  {
   "cell_type": "markdown",
   "metadata": {},
   "source": [
    "### Tokenize data"
   ]
  },
  {
   "cell_type": "code",
   "execution_count": 171,
   "metadata": {},
   "outputs": [],
   "source": [
    "# get our pre-trained spacy neural network for lemmatization\n",
    "nlp = spacy.load(\"en_core_web_lg\")"
   ]
  },
  {
   "cell_type": "code",
   "execution_count": null,
   "metadata": {},
   "outputs": [],
   "source": [
    "#new_stop_words = ['battery', 'amazon', 'use']\n",
    "\n",
    "#STOPS = nlp.Defaults.stop_words.union(new_stop_words)"
   ]
  },
  {
   "cell_type": "code",
   "execution_count": 75,
   "metadata": {},
   "outputs": [],
   "source": [
    "# we will create a list of lists of tokens so we can input into gensim\n",
    "\n",
    "word_counts = Counter()\n",
    "tokens = []\n",
    "\n",
    "for doc in nlp.pipe(df['reviews.text']):\n",
    "\n",
    "    doc_tokens = []\n",
    "    \n",
    "    for token in doc:\n",
    "        if ((token.is_stop != True) and (token.pos_ != 'PRON')) and (token.is_punct !=True):\n",
    "            token = token.lemma_.strip()\n",
    "            doc_tokens.append(token)\n",
    "            word_counts[token]+=1\n",
    "    \n",
    "    tokens.append(doc_tokens)"
   ]
  },
  {
   "cell_type": "code",
   "execution_count": 79,
   "metadata": {},
   "outputs": [
    {
     "data": {
      "text/plain": [
       "True"
      ]
     },
     "execution_count": 79,
     "metadata": {},
     "output_type": "execute_result"
    }
   ],
   "source": [
    "# Check to make sure the length is the same as df.shape\n",
    "\n",
    "len(tokens) == df.shape[0]"
   ]
  },
  {
   "cell_type": "code",
   "execution_count": 80,
   "metadata": {},
   "outputs": [
    {
     "data": {
      "text/plain": [
       "['order',\n",
       " '3',\n",
       " 'item',\n",
       " 'bad',\n",
       " 'quality',\n",
       " 'miss',\n",
       " 'backup',\n",
       " 'spring',\n",
       " 'pc',\n",
       " 'aluminum',\n",
       " 'battery',\n",
       " 'work']"
      ]
     },
     "execution_count": 80,
     "metadata": {},
     "output_type": "execute_result"
    }
   ],
   "source": [
    "tokens[0]"
   ]
  },
  {
   "cell_type": "code",
   "execution_count": 82,
   "metadata": {},
   "outputs": [
    {
     "data": {
      "text/plain": [
       "[('battery', 9255),\n",
       " ('great', 3828),\n",
       " ('good', 3468),\n",
       " ('price', 3205),\n",
       " ('work', 2770),\n",
       " ('brand', 2200),\n",
       " ('long', 2116),\n",
       " ('buy', 1970),\n",
       " ('Amazon', 1286),\n",
       " ('use', 986)]"
      ]
     },
     "execution_count": 82,
     "metadata": {},
     "output_type": "execute_result"
    }
   ],
   "source": [
    "# Let's take a look at the most common words\n",
    "# Consider adding to stop words\n",
    "\n",
    "word_counts.most_common(10)"
   ]
  },
  {
   "cell_type": "markdown",
   "metadata": {},
   "source": [
    "### Create Gensim LDA Topic Model"
   ]
  },
  {
   "cell_type": "code",
   "execution_count": 90,
   "metadata": {},
   "outputs": [],
   "source": [
    "# \"fit\" \n",
    "id2word = corpora.Dictionary(tokens)"
   ]
  },
  {
   "cell_type": "code",
   "execution_count": 101,
   "metadata": {},
   "outputs": [
    {
     "name": "stdout",
     "output_type": "stream",
     "text": [
      "0 3\n",
      "1 aluminum\n",
      "2 backup\n",
      "3 bad\n",
      "4 battery\n",
      "5 item\n",
      "6 miss\n",
      "7 order\n",
      "8 pc\n",
      "9 quality\n",
      "10 spring\n",
      "11 work\n",
      "12 bulk\n",
      "13 expensive\n",
      "14 like\n",
      "15 product\n",
      "16 way\n",
      "17 Duracell\n",
      "18 happy\n",
      "19 price\n"
     ]
    }
   ],
   "source": [
    "i = 0\n",
    "for entry in id2word:\n",
    "    print(entry, id2word[entry])\n",
    "    i+=1\n",
    "    if i >= 20:\n",
    "        break"
   ]
  },
  {
   "cell_type": "code",
   "execution_count": 102,
   "metadata": {},
   "outputs": [
    {
     "data": {
      "text/plain": [
       "5248"
      ]
     },
     "execution_count": 102,
     "metadata": {},
     "output_type": "execute_result"
    }
   ],
   "source": [
    "len(id2word.keys())"
   ]
  },
  {
   "cell_type": "code",
   "execution_count": 103,
   "metadata": {},
   "outputs": [],
   "source": [
    "# Filter down the extremes\n",
    "id2word.filter_extremes(no_below=5, no_above=.95)"
   ]
  },
  {
   "cell_type": "code",
   "execution_count": 105,
   "metadata": {},
   "outputs": [
    {
     "data": {
      "text/plain": [
       "1415"
      ]
     },
     "execution_count": 105,
     "metadata": {},
     "output_type": "execute_result"
    }
   ],
   "source": [
    "len(id2word.keys())"
   ]
  },
  {
   "cell_type": "code",
   "execution_count": 136,
   "metadata": {},
   "outputs": [],
   "source": [
    "# create our matrix that we'll input into the model\n",
    "# I think it's just a frequency matrix\n",
    "corpus = [id2word.doc2bow(doc) for doc in tokens]"
   ]
  },
  {
   "cell_type": "code",
   "execution_count": 137,
   "metadata": {},
   "outputs": [
    {
     "data": {
      "text/plain": [
       "12071"
      ]
     },
     "execution_count": 137,
     "metadata": {},
     "output_type": "execute_result"
    }
   ],
   "source": [
    "len(corpus)"
   ]
  },
  {
   "cell_type": "code",
   "execution_count": 139,
   "metadata": {},
   "outputs": [
    {
     "data": {
      "text/plain": [
       "[(0, 1), (1, 1), (2, 1), (3, 1), (4, 1), (5, 1), (6, 1), (7, 1), (8, 1)]"
      ]
     },
     "execution_count": 139,
     "metadata": {},
     "output_type": "execute_result"
    }
   ],
   "source": [
    "corpus[0]"
   ]
  },
  {
   "cell_type": "code",
   "execution_count": 140,
   "metadata": {},
   "outputs": [],
   "source": [
    "# Generate model\n",
    "lda = LdaMulticore(corpus=corpus,\n",
    "                  id2word=id2word,\n",
    "                  num_topics=10, \n",
    "                  passes=100)"
   ]
  },
  {
   "cell_type": "code",
   "execution_count": 141,
   "metadata": {},
   "outputs": [
    {
     "data": {
      "text/plain": [
       "[(0,\n",
       "  '0.334*\"good\" + 0.101*\"battery\" + 0.090*\"price\" + 0.074*\"work\" + 0.053*\"far\" + 0.037*\"quality\" + 0.034*\"excellent\" + 0.031*\"product\" + 0.023*\"love\" + 0.020*\"buy\"'),\n",
       " (1,\n",
       "  '0.082*\"battery\" + 0.079*\"Amazon\" + 0.056*\"order\" + 0.041*\"thank\" + 0.035*\"buy\" + 0.031*\"cheap\" + 0.025*\"time\" + 0.018*\"quality\" + 0.015*\"super\" + 0.014*\"advertise\"'),\n",
       " (2,\n",
       "  '0.091*\"battery\" + 0.073*\"deal\" + 0.072*\"good\" + 0.051*\"brand\" + 0.041*\"long\" + 0.036*\"Duracell\" + 0.033*\"well\" + 0.028*\"price\" + 0.022*\"cost\" + 0.016*\"energizer\"'),\n",
       " (3,\n",
       "  '0.061*\"box\" + 0.060*\"battery\" + 0.056*\"package\" + 0.053*\"come\" + 0.039*\"packaging\" + 0.034*\"nice\" + 0.029*\"easy\" + 0.027*\"ok\" + 0.019*\"open\" + 0.019*\"fast\"'),\n",
       " (4,\n",
       "  '0.091*\"battery\" + 0.023*\"use\" + 0.016*\"week\" + 0.016*\"month\" + 0.014*\"2\" + 0.013*\"light\" + 0.013*\"day\" + 0.013*\"remote\" + 0.013*\"buy\" + 0.013*\"Amazon\"'),\n",
       " (5,\n",
       "  '0.135*\"battery\" + 0.094*\"brand\" + 0.047*\"price\" + 0.041*\"long\" + 0.037*\"buy\" + 0.024*\"work\" + 0.022*\"Amazon\" + 0.019*\"cheap\" + 0.016*\"store\" + 0.016*\"beat\"'),\n",
       " (6,\n",
       "  '0.086*\"battery\" + 0.067*\"money\" + 0.063*\"life\" + 0.042*\"work\" + 0.036*\"like\" + 0.030*\"awesome\" + 0.028*\"long\" + 0.025*\"buy\" + 0.019*\"short\" + 0.018*\"save\"'),\n",
       " (7,\n",
       "  '0.377*\"great\" + 0.138*\"price\" + 0.083*\"battery\" + 0.081*\"work\" + 0.074*\"value\" + 0.061*\"long\" + 0.030*\"product\" + 0.022*\"fine\" + 0.014*\"buy\" + 0.012*\"lasting\"'),\n",
       " (8,\n",
       "  '0.063*\"battery\" + 0.050*\"expect\" + 0.038*\"purchase\" + 0.030*\"work\" + 0.028*\"product\" + 0.026*\"problem\" + 0.025*\"Amazon\" + 0.021*\"time\" + 0.020*\"review\" + 0.018*\"leak\"'),\n",
       " (9,\n",
       "  '0.094*\"battery\" + 0.033*\"need\" + 0.033*\"use\" + 0.032*\"toy\" + 0.025*\"buy\" + 0.023*\"remote\" + 0.020*\"work\" + 0.018*\"kid\" + 0.017*\"controller\" + 0.015*\"like\"')]"
      ]
     },
     "execution_count": 141,
     "metadata": {},
     "output_type": "execute_result"
    }
   ],
   "source": [
    "lda.print_topics()"
   ]
  },
  {
   "cell_type": "code",
   "execution_count": 142,
   "metadata": {},
   "outputs": [
    {
     "name": "stdout",
     "output_type": "stream",
     "text": [
      "------ Topic 0 ------\n",
      "good battery price work far\n",
      "\n",
      "------ Topic 1 ------\n",
      "battery Amazon order thank buy\n",
      "\n",
      "------ Topic 2 ------\n",
      "battery deal good brand long\n",
      "\n",
      "------ Topic 3 ------\n",
      "box battery package come packaging\n",
      "\n",
      "------ Topic 4 ------\n",
      "battery use week month 2\n",
      "\n",
      "------ Topic 5 ------\n",
      "battery brand price long buy\n",
      "\n",
      "------ Topic 6 ------\n",
      "battery money life work like\n",
      "\n",
      "------ Topic 7 ------\n",
      "great price battery work value\n",
      "\n",
      "------ Topic 8 ------\n",
      "battery expect purchase work product\n",
      "\n",
      "------ Topic 9 ------\n",
      "battery need use toy buy\n",
      "\n"
     ]
    }
   ],
   "source": [
    "# print the topics in a readable manner\n",
    "words = [re.findall('\"([^\"]*)\"',t[1]) for t in lda.print_topics()]\n",
    "topics = [' '.join(t[0:5]) for t in words]\n",
    "\n",
    "for id, t in enumerate(topics): \n",
    "    print(f\"------ Topic {id} ------\")\n",
    "    print(t, end=\"\\n\\n\")"
   ]
  },
  {
   "cell_type": "markdown",
   "metadata": {},
   "source": [
    "### Visualize Results"
   ]
  },
  {
   "cell_type": "code",
   "execution_count": 143,
   "metadata": {},
   "outputs": [],
   "source": [
    "pyLDAvis.enable_notebook()"
   ]
  },
  {
   "cell_type": "code",
   "execution_count": 144,
   "metadata": {},
   "outputs": [
    {
     "data": {
      "text/html": [
       "\n",
       "<link rel=\"stylesheet\" type=\"text/css\" href=\"https://cdn.rawgit.com/bmabey/pyLDAvis/files/ldavis.v1.0.0.css\">\n",
       "\n",
       "\n",
       "<div id=\"ldavis_el1568818277968600242471934577\"></div>\n",
       "<script type=\"text/javascript\">\n",
       "\n",
       "var ldavis_el1568818277968600242471934577_data = {\"mdsDat\": {\"x\": [-0.1683917066313221, 0.041943086659677206, -0.10828676531641901, 0.2649453502662948, 0.11631934473680451, 0.2585018331229712, -0.07250975489591059, -0.1764986556779061, -0.07962801720464177, -0.07639471505954876], \"y\": [0.09577006586591444, 0.09176486372006643, 0.05828013808821939, -0.07519023417194123, 0.06875175749956168, -0.06739158131724157, 0.07946175903806504, -0.34684868776455835, 0.07250492406301205, 0.022896994978901925], \"topics\": [1, 2, 3, 4, 5, 6, 7, 8, 9, 10], \"cluster\": [1, 1, 1, 1, 1, 1, 1, 1, 1, 1], \"Freq\": [18.37070083618164, 16.021785736083984, 13.852226257324219, 9.15567684173584, 8.761871337890625, 7.850522518157959, 7.337669849395752, 6.820713043212891, 6.11448335647583, 5.714351654052734]}, \"tinfo\": {\"Term\": [\"great\", \"good\", \"price\", \"brand\", \"Amazon\", \"deal\", \"work\", \"value\", \"long\", \"money\", \"box\", \"life\", \"package\", \"come\", \"expect\", \"order\", \"far\", \"product\", \"Duracell\", \"toy\", \"quality\", \"purchase\", \"like\", \"packaging\", \"well\", \"need\", \"thank\", \"use\", \"remote\", \"excellent\", \"week\", \"3\", \"keyboard\", \"ago\", \"night\", \"Alkaline\", \"capacity\", \"detector\", \"sit\", \"headphone\", \"horrible\", \"30\", \"timer\", \"dim\", \"mAh\", \"weather\", \"green\", \"weak\", \"possible\", \"alarm\", \"7\", \"depend\", \"mic\", \"window\", \"garbage\", \"fire\", \"photo\", \"assume\", \"wireless\", \"hrs\", \"disappointed\", \"fail\", \"2\", \"mouse\", \"light\", \"1\", \"put\", \"month\", \"hour\", \"replace\", \"result\", \"digital\", \"tester\", \"day\", \"test\", \"couple\", \"candle\", \"clock\", \"change\", \"new\", \"maybe\", \"set\", \"bad\", \"led\", \"use\", \"remote\", \"battery\", \"year\", \"4\", \"last\", \"device\", \"go\", \"try\", \"Amazon\", \"Duracell\", \"get\", \"buy\", \"time\", \"AA\", \"purchase\", \"work\", \"major\", \"market\", \"basics\", \"par\", \"absolutely\", \"brainer\", \"higher\", \"competition\", \"9v\", \"highly\", \"truly\", \"forward\", \"yup\", \"hesitant\", \"compete\", \"significant\", \"present\", \"brightness\", \"unbeatable\", \"1/3\", \"reasonable\", \"beat\", \"insulin\", \"ratio\", \"versus\", \"wonderfully\", \"cheaply\", \"pic\", \"dry\", \"trick\", \"amazon\", \"expensive\", \"popular\", \"band\", \"brand\", \"recommend\", \"point\", \"alkaline\", \"big\", \"fan\", \"store\", \"AmazonBasics\", \"Basic\", \"better\", \"cheap\", \"lot\", \"continue\", \"battery\", \"long\", \"buy\", \"compare\", \"dollar\", \"price\", \"definitely\", \"Amazon\", \"notice\", \"difference\", \"one\", \"issue\", \"purchase\", \"find\", \"work\", \"quality\", \"love\", \"like\", \"last\", \"well\", \"AA\", \"controller\", \"Xbox\", \"xbox\", \"gaming\", \"holiday\", \"gadget\", \"kid\", \"video\", \"forever\", \"regularly\", \"forget\", \"space\", \"husband\", \"toy\", \"360\", \"individually\", \"gift\", \"staple\", \"recycle\", \"supply\", \"spare\", \"thinking\", \"apparently\", \"monthly\", \"costly\", \"repurchase\", \"tomorrow\", \"XBox\", \"gear\", \"mainly\", \"game\", \"handy\", \"hand\", \"grab\", \"subscribe\", \"need\", \"son\", \"rechargeable\", \"car\", \"child\", \"flashlight\", \"control\", \"remote\", \"Christmas\", \"house\", \"use\", \"bulk\", \"run\", \"have\", \"pack\", \"thing\", \"electronic\", \"lot\", \"battery\", \"AA\", \"buy\", \"like\", \"save\", \"item\", \"work\", \"power\", \"love\", \"time\", \"long\", \"great\", \"device\", \"purchase\", \"great\", \"superb\", \"value\", \"lasting\", \"story\", \"fair\", \"channel\", \"wonderful\", \"fine\", \"complain\", \"reasonably\", \"book\", \"bother\", \"extensive\", \"batt\", \"okay\", \"proof\", \"price\", \"business\", \"PRICE\", \"hurt\", \"suggest\", \"bring\", \"everyday\", \"quantity\", \"product\", \"friendly\", \"model\", \"ad\", \"claim\", \"work\", \"long\", \"service\", \"last\", \"nice\", \"wrong\", \"battery\", \"quality\", \"performance\", \"time\", \"buy\", \"fantastic\", \"ask\", \"pretty\", \"complaint\", \"brand\", \"item\", \"stock\", \"deal\", \"duracell\", \"Kirkland\", \"national\", \"effective\", \"Ray\", \"O\", \"season\", \"Time\", \"vac\", \"outdoor\", \"rayovac\", \"Sam\", \"repeat\", \"personally\", \"fix\", \"winner\", \"Club\", \"tier\", \"GREAT\", \"coppertop\", \"b\", \"logo\", \"willing\", \"Sams\", \"bunny\", \"consistently\", \"competitive\", \"fraction\", \"benefit\", \"determine\", \"amazing\", \"energizer\", \"Costco\", \"well\", \"cost\", \"average\", \"Duracell\", \"hold\", \"not\", \"appear\", \"comparable\", \"Energizer\", \"tell\", \"name\", \"cent\", \"bit\", \"think\", \"good\", \"charge\", \"brand\", \"long\", \"battery\", \"compare\", \"difference\", \"perform\", \"price\", \"longer\", \"value\", \"cheap\", \"work\", \"buy\", \"like\", \"time\", \"far\", \"describe\", \"bang\", \"yay\", \"excellent\", \"closet\", \"perfect\", \"basement\", \"A++++\", \"worthless\", \"bike\", \"maintain\", \"intend\", \"activate\", \"paper\", \"good\", \"exactly\", \"powerful\", \"motion\", \"delivery\", \"camping\", \"perfectly\", \"useful\", \"far\", \"sufficient\", \"originally\", \"lifetime\", \"buck\", \"rc\", \"smile\", \"hopefully\", \"quality\", \"complaint\", \"stuff\", \"love\", \"price\", \"product\", \"work\", \"battery\", \"fast\", \"high\", \"buy\", \"update\", \"advertise\", \"cheap\", \"item\", \"time\", \"pretty\", \"arrive\", \"power\", \"issue\", \"expect\", \"receive\", \"customer\", \"write\", \"Deal\", \"begin\", \"AMAZON\", \"outstanding\", \"allow\", \"wrapping\", \"decision\", \"3rd\", \"suit\", \"Good\", \"Brand\", \"mom\", \"form\", \"twin\", \"reading\", \"13\", \"thanks\", \"Energenizer\", \"sanity\", \"acceptable\", \"guarantee\", \"pocket\", \"directly\", \"miss\", \"contact\", \"problem\", \"provide\", \"triple\", \"date\", \"satisfied\", \"seller\", \"damage\", \"solid\", \"toddler\", \"deliver\", \"review\", \"leak\", \"door\", \"happy\", \"check\", \"purchase\", \"read\", \"product\", \"experience\", \"soon\", \"item\", \"Amazon\", \"time\", \"battery\", \"Batteries\", \"bad\", \"work\", \"wrong\", \"power\", \"find\", \"device\", \"need\", \"quality\", \"fine\", \"arrive\", \"charge\", \"buy\", \"try\", \"Basics\", \"package\", \"packaging\", \"wrap\", \"easy\", \"plastic\", \"cardboard\", \"nicely\", \"simple\", \"shrink\", \"group\", \"loose\", \"ok\", \"roll\", \"frustration\", \"sturdy\", \"Product\", \"wrapper\", \"neatly\", \"brick\", \"quick\", \"tight\", \"compact\", \"difficult\", \"x\", \"retail\", \"shipping\", \"free\", \"thesis\", \"organize\", \"2026\", \"Great\", \"box\", \"open\", \"storage\", \"come\", \"nice\", \"decent\", \"convenient\", \"ship\", \"seal\", \"fast\", \"quickly\", \"arrive\", \"make\", \"4\", \"job\", \"store\", \"battery\", \"like\", \"pack\", \"right\", \"need\", \"die\", \"price\", \"thank\", \"pro\", \"Love\", \"unfortunately\", \"hey\", \"to\", \"yeah\", \"truck\", \"rock\", \"folk\", \"hooked\", \"living\", \"excelent\", \"duracel\", \"create\", \"evaluate\", \"World\", \"site\", \"grandchild\", \"seemingly\", \"tree\", \"material\", \"attention\", \"room\", \"kill\", \"score\", \"shall\", \"pricey\", \"staff\", \"liquid\", \"inexpensive\", \"super\", \"recharge\", \"order\", \"advertise\", \"functional\", \"pleased\", \"reorder\", \"idea\", \"serve\", \"purpose\", \"dependable\", \"durability\", \"Amazon\", \"basic\", \"want\", \"pay\", \"hope\", \"cheap\", \"bunch\", \"home\", \"Prime\", \"sure\", \"time\", \"buy\", \"battery\", \"quality\", \"way\", \"Basics\", \"love\", \"poor\", \"will\", \"fast\", \"run\", \"know\", \"charge\", \"long\", \"product\", \"item\", \"need\", \"AA\", \"money\", \"awesome\", \"waste\", \"span\", \"trail\", \"saver\", \"christmas\", \"charm\", \"Dollar\", \"cabinet\", \"2015\", \"cam\", \"namebrand\", \"14\", \"ill\", \"recieve\", \"duty\", \"shiny\", \"weird\", \"m\", \"USA\", \"zero\", \"Tree\", \"counter\", \"Store\", \"anyways\", \"Quality\", \"short\", \"afford\", \"extremely\", \"life\", \"bargain\", \"spend\", \"shelf\", \"worth\", \"save\", \"star\", \"dead\", \"approximately\", \"alot\", \"like\", \"48\", \"alternative\", \"go\", \"camera\", \"dud\", \"5\", \"affordable\", \"battery\", \"work\", \"get\", \"long\", \"buy\", \"year\", \"far\", \"store\", \"run\", \"last\", \"box\", \"know\", \"purchase\", \"brand\"], \"Freq\": [3492.0, 3203.0, 2993.0, 2157.0, 1297.0, 623.0, 2646.0, 750.0, 2052.0, 372.0, 474.0, 502.0, 375.0, 472.0, 355.0, 472.0, 650.0, 848.0, 547.0, 455.0, 715.0, 712.0, 862.0, 262.0, 423.0, 654.0, 244.0, 981.0, 537.0, 280.0, 290.41937255859375, 179.02333068847656, 85.5948486328125, 68.69779205322266, 60.744537353515625, 60.73236846923828, 44.8368034362793, 30.916263580322266, 28.925472259521484, 27.931678771972656, 27.933265686035156, 27.90891456604004, 25.9368839263916, 24.952190399169922, 22.96392822265625, 20.97442626953125, 17.992267608642578, 17.99135398864746, 17.990848541259766, 16.99742889404297, 16.99763298034668, 16.996274948120117, 16.990882873535156, 16.987146377563477, 16.97635841369629, 16.00316619873047, 16.00229835510254, 16.001949310302734, 109.97111511230469, 15.010496139526367, 52.51910400390625, 37.506343841552734, 243.43556213378906, 167.12184143066406, 239.3075714111328, 69.17298889160156, 31.590147018432617, 281.2846984863281, 148.07948303222656, 190.07049560546875, 53.54795455932617, 28.462614059448242, 25.81647300720215, 236.8381805419922, 162.78602600097656, 79.33136749267578, 104.8128433227539, 74.52224731445312, 116.572265625, 136.1156463623047, 79.84130859375, 105.59906768798828, 155.8711395263672, 53.67497634887695, 411.7960205078125, 231.45472717285156, 1622.8941650390625, 141.1131134033203, 135.59840393066406, 202.42355346679688, 132.78689575195312, 139.3251953125, 128.40362548828125, 228.0969696044922, 147.4496612548828, 127.32955932617188, 228.29678344726562, 157.9650421142578, 118.97904968261719, 123.31058502197266, 137.83584594726562, 92.52371978759766, 25.390655517578125, 23.446182250976562, 23.434843063354492, 17.600799560546875, 16.63574981689453, 16.632192611694336, 13.715224266052246, 13.69514274597168, 101.22808074951172, 12.73818588256836, 10.797402381896973, 10.791913986206055, 10.74526596069336, 9.823043823242188, 8.849652290344238, 8.848377227783203, 8.845952987670898, 19.265193939208984, 7.870826244354248, 70.74230194091797, 242.06837463378906, 6.9048333168029785, 6.903263092041016, 6.902955532073975, 6.902767658233643, 6.901185989379883, 6.894161701202393, 6.894960880279541, 6.886476993560791, 183.28968811035156, 236.94400024414062, 21.08614158630371, 10.242484092712402, 1467.251220703125, 210.2781219482422, 53.04433059692383, 116.58245086669922, 166.70724487304688, 24.597747802734375, 254.64695739746094, 155.57533264160156, 29.2936954498291, 69.447021484375, 297.0479736328125, 209.33348083496094, 53.7926139831543, 2096.5810546875, 644.6567993164062, 569.7440795898438, 100.49706268310547, 55.9481086730957, 723.9791259765625, 99.60554504394531, 343.9033203125, 62.49107360839844, 87.70085906982422, 109.41960906982422, 75.68778228759766, 186.07537841796875, 118.91848754882812, 374.99609375, 171.40248107910156, 146.3193359375, 178.64617919921875, 131.8749237060547, 116.27519226074219, 111.8907470703125, 229.71994018554688, 97.51213836669922, 51.62345886230469, 33.8931999206543, 31.901880264282227, 27.927839279174805, 247.55032348632812, 22.95904541015625, 20.968748092651367, 18.982614517211914, 16.991121292114258, 16.988567352294922, 15.997960090637207, 431.3833923339844, 14.012121200561523, 14.009984970092773, 37.578739166259766, 10.03512954711914, 10.033984184265137, 42.803462982177734, 16.338193893432617, 9.037755966186523, 9.030906677246094, 8.048644065856934, 8.047415733337402, 8.046870231628418, 8.045470237731934, 7.051917552947998, 7.048508167266846, 24.4534912109375, 79.76378631591797, 42.15138244628906, 113.5114974975586, 17.32122802734375, 51.31863784790039, 449.87744140625, 61.437110900878906, 106.12367248535156, 39.57942199707031, 39.8365478515625, 124.98507690429688, 89.69050598144531, 305.5772399902344, 68.94749450683594, 109.20378875732422, 448.3834228515625, 95.62366485595703, 162.22523498535156, 86.88569641113281, 196.74594116210938, 121.43641662597656, 71.27558135986328, 178.1337432861328, 1270.248046875, 157.91986083984375, 342.90716552734375, 206.34457397460938, 86.2031478881836, 102.82124328613281, 264.6805114746094, 105.14200592041016, 120.87611389160156, 146.5613250732422, 171.94178771972656, 134.54205322265625, 92.1256332397461, 90.35850524902344, 3353.4072265625, 7.357045650482178, 654.1233520507812, 110.85525512695312, 5.445347785949707, 21.322174072265625, 7.358405590057373, 35.95574951171875, 199.56939697265625, 20.87689971923828, 10.312941551208496, 6.435970306396484, 3.3172309398651123, 3.9346420764923096, 7.879826068878174, 18.180288314819336, 2.8142898082733154, 1222.711181640625, 3.778756856918335, 4.015212059020996, 2.1464366912841797, 2.8150482177734375, 5.775047779083252, 7.245272636413574, 28.33173370361328, 262.9856872558594, 2.964033365249634, 2.241907835006714, 1.9450678825378418, 3.2059531211853027, 722.257568359375, 541.7308349609375, 10.090378761291504, 109.04273223876953, 60.741844177246094, 21.51666831970215, 741.7479248046875, 88.31542205810547, 35.4540901184082, 97.91453552246094, 124.66290283203125, 11.777420997619629, 10.125089645385742, 15.66237735748291, 12.511521339416504, 15.724644660949707, 11.19419002532959, 9.62296199798584, 622.27197265625, 116.24588775634766, 37.81590270996094, 25.908700942993164, 24.912796020507812, 21.938764572143555, 15.982658386230469, 15.978612899780273, 13.000211715698242, 16.586252212524414, 11.012694358825684, 9.030503273010254, 9.030412673950195, 8.038894653320312, 8.034749984741211, 8.034478187561035, 8.033395767211914, 6.053502559661865, 6.026957035064697, 5.061596870422363, 5.060513019561768, 5.058722972869873, 5.058491230010986, 5.056529998779297, 5.059244155883789, 20.49896240234375, 6.990075588226318, 9.897595405578613, 65.57642364501953, 6.0518670082092285, 9.905741691589355, 70.8766860961914, 136.98086547851562, 57.120731353759766, 276.545166015625, 183.827392578125, 34.86635208129883, 309.1504821777344, 122.68791198730469, 87.812255859375, 38.998592376708984, 59.16032791137695, 99.4865951538086, 86.96095275878906, 42.766239166259766, 21.924074172973633, 51.091552734375, 115.84989166259766, 608.641357421875, 90.25750732421875, 436.052490234375, 351.3013000488281, 778.03564453125, 69.34689331054688, 64.26065826416016, 55.667728424072266, 239.1708526611328, 67.11404418945312, 95.6787338256836, 87.95736694335938, 133.10182189941406, 119.1778564453125, 89.03214263916016, 90.2132339477539, 68.84324645996094, 128.59539794921875, 27.30997085571289, 13.699105262756348, 262.8146667480469, 10.970212936401367, 134.27944946289062, 7.343387603759766, 6.440200328826904, 5.5318498611450195, 5.5282769203186035, 5.526331901550293, 12.612839698791504, 4.624989032745361, 6.160357475280762, 2545.40625, 60.373252868652344, 15.140215873718262, 18.173721313476562, 60.91973114013672, 7.256097793579102, 49.29388427734375, 16.91944122314453, 401.5768737792969, 4.619814872741699, 4.56492280960083, 4.551096439361572, 28.473737716674805, 7.014429092407227, 3.139664649963379, 6.211783409118652, 282.3492431640625, 47.77280044555664, 34.188472747802734, 173.8114013671875, 688.1320190429688, 234.88478088378906, 561.6529541015625, 770.39794921875, 58.50965881347656, 46.851409912109375, 150.8901824951172, 21.778648376464844, 26.724302291870117, 68.3981704711914, 40.43980026245117, 53.69328689575195, 29.06366729736328, 26.031673431396484, 28.988544464111328, 22.12009048461914, 354.8384094238281, 109.06488037109375, 29.91905975341797, 21.692941665649414, 20.66449546813965, 19.635971069335938, 18.607328414916992, 17.480775833129883, 13.467251777648926, 12.438058853149414, 11.368176460266113, 10.379752159118652, 9.353894233703613, 8.326251983642578, 8.325626373291016, 8.324934005737305, 8.319195747375488, 7.298650741577148, 7.283725738525391, 7.241693496704102, 14.324870109558105, 6.271280288696289, 6.271280288696289, 6.270078182220459, 6.2696757316589355, 6.268802642822266, 6.267887115478516, 23.339109420776367, 16.798688888549805, 182.94671630859375, 38.400978088378906, 19.412641525268555, 53.92771530151367, 64.88610076904297, 22.27780532836914, 18.75914764404297, 33.49940872192383, 20.090362548828125, 58.37507247924805, 142.697509765625, 131.3322296142578, 32.894412994384766, 124.736328125, 41.05485916137695, 273.34771728515625, 34.25615692138672, 202.7648162841797, 40.93827438354492, 32.75240707397461, 86.77828979492188, 178.94541931152344, 146.79946899414062, 450.0804748535156, 47.86469268798828, 67.6756591796875, 215.91526794433594, 40.51072692871094, 71.71856689453125, 68.47148132324219, 62.589385986328125, 73.33110809326172, 63.52815246582031, 53.07646560668945, 43.4281005859375, 43.310672760009766, 54.988216400146484, 41.70564651489258, 41.03526306152344, 374.0575256347656, 261.17138671875, 126.48336029052734, 189.1903076171875, 100.59454345703125, 89.2007064819336, 52.93766403198242, 47.75642776489258, 44.651302337646484, 43.614471435546875, 28.07328224182129, 177.7855682373047, 19.782958984375, 18.74956512451172, 18.74951171875, 17.71251106262207, 16.673152923583984, 16.675647735595703, 15.640203475952148, 70.21940612792969, 14.6019868850708, 14.602981567382812, 13.547425270080566, 11.495444297790527, 11.494940757751465, 124.90620422363281, 57.5181999206543, 10.45644474029541, 9.425389289855957, 9.424880027770996, 44.42870330810547, 404.6169128417969, 128.19464111328125, 57.973838806152344, 351.07867431640625, 226.09498596191406, 82.15998840332031, 54.30959701538086, 51.489749908447266, 22.518465042114258, 127.5832290649414, 97.44596099853516, 91.2721939086914, 68.05287170410156, 115.76729583740234, 67.76115417480469, 123.77626037597656, 397.3420715332031, 114.92219543457031, 87.27708435058594, 62.34146499633789, 74.43736267089844, 57.59685134887695, 55.686988830566406, 241.1664276123047, 16.691179275512695, 15.653148651123047, 15.652512550354004, 14.616390228271484, 14.615588188171387, 13.580211639404297, 11.503989219665527, 11.503425598144531, 10.470013618469238, 8.395423889160156, 8.39423942565918, 7.359809875488281, 7.357549667358398, 7.30687952041626, 6.321796417236328, 6.3212571144104, 6.321913719177246, 6.320467948913574, 6.319700717926025, 7.209878444671631, 6.307480812072754, 6.2443156242370605, 17.854496002197266, 5.285995960235596, 5.285923480987549, 5.2845377922058105, 5.2840375900268555, 5.280650615692139, 5.27575159072876, 81.61731719970703, 87.97096252441406, 32.72806930541992, 330.4700622558594, 81.64865112304688, 9.432108879089355, 60.47275161743164, 23.550132751464844, 22.245534896850586, 15.526708602905273, 26.50152587890625, 13.476619720458984, 15.30341911315918, 470.1804504394531, 80.98507690429688, 51.619564056396484, 78.32942962646484, 35.47127914428711, 183.70858764648438, 21.667314529418945, 34.82987594604492, 26.78281593322754, 61.7337646484375, 149.5728759765625, 207.4412078857422, 488.3866882324219, 106.4229736328125, 58.31233596801758, 49.304203033447266, 73.92062377929688, 23.62677574157715, 34.79929733276367, 44.01151657104492, 47.9752311706543, 41.313411712646484, 39.74614334106445, 75.19160461425781, 50.1260871887207, 38.00567626953125, 40.91680908203125, 36.960567474365234, 371.1368408203125, 163.95066833496094, 91.01087188720703, 42.335025787353516, 29.687755584716797, 22.30072021484375, 17.016063690185547, 14.903385162353516, 12.78730297088623, 11.727447509765625, 9.583810806274414, 8.559072494506836, 8.558879852294922, 8.549125671386719, 7.502665996551514, 7.501960754394531, 7.501553535461426, 6.446319103240967, 6.445684909820557, 6.444057941436768, 6.400078296661377, 14.575030326843262, 5.389163970947266, 5.3884172439575195, 5.3878912925720215, 5.386855125427246, 5.360840797424316, 103.73695373535156, 7.454904556274414, 29.41444969177246, 347.0144348144531, 60.30165100097656, 67.74345397949219, 57.18919372558594, 98.73290252685547, 101.64337158203125, 55.25852966308594, 82.92021179199219, 11.706360816955566, 17.72178077697754, 202.037353515625, 39.72954559326172, 17.139135360717773, 95.5420913696289, 46.317317962646484, 20.624258041381836, 40.074462890625, 35.002540588378906, 476.32061767578125, 231.99778747558594, 70.04586791992188, 157.1433563232422, 141.34405517578125, 52.74303436279297, 70.78934478759766, 62.83374786376953, 40.63248825073242, 45.226783752441406, 40.05606460571289, 37.02994918823242, 38.34556198120117, 39.622310638427734], \"Total\": [3492.0, 3203.0, 2993.0, 2157.0, 1297.0, 623.0, 2646.0, 750.0, 2052.0, 372.0, 474.0, 502.0, 375.0, 472.0, 355.0, 472.0, 650.0, 848.0, 547.0, 455.0, 715.0, 712.0, 862.0, 262.0, 423.0, 654.0, 244.0, 981.0, 537.0, 280.0, 291.3142395019531, 179.95570373535156, 86.49395751953125, 69.59162139892578, 61.638545989990234, 61.63700866699219, 45.73048782348633, 31.809831619262695, 29.819177627563477, 28.825319290161133, 28.82742691040039, 28.82935905456543, 26.84007453918457, 25.845781326293945, 23.85747528076172, 21.867996215820312, 18.88580322265625, 18.88491439819336, 18.884422302246094, 17.89097023010254, 17.891189575195312, 17.889850616455078, 17.89059066772461, 17.890697479248047, 17.891525268554688, 16.89670753479004, 16.89590072631836, 16.895545959472656, 116.31967163085938, 15.90400505065918, 55.66936111450195, 39.820587158203125, 269.6745300292969, 184.9225311279297, 269.1212463378906, 75.66239166259766, 33.840023040771484, 327.1818542480469, 170.3753662109375, 223.9083709716797, 59.74942398071289, 30.877592086791992, 27.805118560791016, 311.54827880859375, 217.85528564453125, 98.29893493652344, 137.8295440673828, 93.44902038574219, 164.02249145507812, 198.9644775390625, 103.97642517089844, 147.50631713867188, 243.76246643066406, 66.60360717773438, 981.48193359375, 537.8312377929688, 9092.0341796875, 272.0284729003906, 278.9778747558594, 551.529541015625, 292.2792053222656, 355.6053161621094, 316.8851623535156, 1297.3560791015625, 547.4574584960938, 374.9426574707031, 1939.68896484375, 951.8809814453125, 448.49761962890625, 712.1809692382812, 2646.440185546875, 93.429443359375, 26.286405563354492, 24.34185028076172, 24.342632293701172, 18.500822067260742, 17.531448364257812, 17.527921676635742, 14.611080169677734, 14.611319541931152, 108.35905456542969, 13.635581970214844, 11.69308090209961, 11.68770980834961, 11.686761856079102, 10.718735694885254, 9.74543571472168, 9.744078636169434, 9.741693496704102, 21.446935653686523, 8.77319622039795, 79.18653869628906, 271.392822265625, 7.8004913330078125, 7.798953533172607, 7.798664093017578, 7.798473834991455, 7.796960830688477, 7.7899861335754395, 7.79102897644043, 7.796416759490967, 217.8505401611328, 287.1387939453125, 24.390338897705078, 11.726813316345215, 2157.924560546875, 289.01458740234375, 71.64400482177734, 173.39913940429688, 276.3820495605469, 32.26572799682617, 503.87225341796875, 288.8097229003906, 40.10558319091797, 115.87069702148438, 719.8162231445312, 468.27764892578125, 85.95018005371094, 9092.0341796875, 2052.493408203125, 1939.68896484375, 199.6101531982422, 94.22127532958984, 2993.54345703125, 214.96920776367188, 1297.3560791015625, 114.36746978759766, 186.9105987548828, 262.973388671875, 159.80221557617188, 712.1809692382812, 340.30914306640625, 2646.440185546875, 715.1512451171875, 534.6231079101562, 862.7890625, 551.529541015625, 423.6476745605469, 448.49761962890625, 230.61932373046875, 98.40788269042969, 52.679481506347656, 34.78683090209961, 32.79703140258789, 28.821502685546875, 255.7703857421875, 23.852622985839844, 21.86233901977539, 19.876176834106445, 17.88650894165039, 17.88469696044922, 16.891677856445312, 455.6374816894531, 14.90571403503418, 14.903640747070312, 40.829315185546875, 10.928730010986328, 10.92762565612793, 46.726043701171875, 17.905685424804688, 9.931413650512695, 9.924721717834473, 8.942207336425781, 8.940970420837402, 8.940467834472656, 8.939125061035156, 7.945520877838135, 7.942331790924072, 27.826725006103516, 91.06749725341797, 48.94664001464844, 134.6095733642578, 19.83650779724121, 63.27472686767578, 654.0208129882812, 78.85604858398438, 144.26052856445312, 49.6976432800293, 51.022708892822266, 186.8890838623047, 128.31600952148438, 537.8312377929688, 96.55744934082031, 172.86920166015625, 981.48193359375, 152.87794494628906, 315.52911376953125, 144.03639221191406, 436.8788146972656, 228.42808532714844, 117.9353256225586, 468.27764892578125, 9092.0341796875, 448.49761962890625, 1939.68896484375, 862.7890625, 188.96498107910156, 284.76849365234375, 2646.440185546875, 342.52911376953125, 534.6231079101562, 951.8809814453125, 2052.493408203125, 3492.96435546875, 292.2792053222656, 712.1809692382812, 3492.96435546875, 8.259231567382812, 750.931640625, 142.4953155517578, 7.4415178298950195, 29.81797218322754, 10.313559532165527, 50.7850227355957, 340.5375061035156, 36.97506332397461, 19.821880340576172, 12.45702838897705, 6.618278980255127, 8.499560356140137, 17.337499618530273, 41.268455505371094, 6.695679664611816, 2993.54345703125, 9.639869689941406, 10.551726341247559, 5.820926666259766, 7.6822381019592285, 17.58368492126465, 23.166332244873047, 91.20502471923828, 848.0241088867188, 9.857568740844727, 7.93989896774292, 6.94782018661499, 11.627135276794434, 2646.440185546875, 2052.493408203125, 37.81260681152344, 551.529541015625, 324.33319091796875, 97.76673126220703, 9092.0341796875, 715.1512451171875, 220.102294921875, 951.8809814453125, 1939.68896484375, 53.10269546508789, 50.81315612792969, 193.55545043945312, 108.85093688964844, 2157.924560546875, 284.76849365234375, 89.79290771484375, 623.5021362304688, 117.15147399902344, 38.71671676635742, 26.802654266357422, 25.808876037597656, 22.83246612548828, 16.87632942199707, 16.872337341308594, 13.896471977233887, 17.86804962158203, 11.906444549560547, 9.924192428588867, 9.925712585449219, 8.932565689086914, 8.928539276123047, 8.928239822387695, 8.927196502685547, 6.94736909866333, 6.946518421173096, 5.955234527587891, 5.954181671142578, 5.95242977142334, 5.952221393585205, 5.9503068923950195, 5.95350456237793, 25.813934326171875, 8.965889930725098, 12.719998359680176, 85.002197265625, 7.912635803222656, 12.975273132324219, 96.0481948852539, 191.4508819580078, 78.46623992919922, 423.6476745605469, 288.4388732910156, 47.66704177856445, 547.4574584960938, 202.92955017089844, 141.04103088378906, 59.4531135559082, 96.84464263916016, 180.1334991455078, 162.33419799804688, 69.97737884521484, 30.783174514770508, 98.52579498291016, 316.6783447265625, 3203.877685546875, 225.90484619140625, 2157.924560546875, 2052.493408203125, 9092.0341796875, 199.6101531982422, 186.9105987548828, 149.02516174316406, 2993.54345703125, 244.7354278564453, 750.931640625, 719.8162231445312, 2646.440185546875, 1939.68896484375, 862.7890625, 951.8809814453125, 650.479736328125, 130.92190551757812, 28.212238311767578, 14.601327896118164, 280.6601867675781, 11.872562408447266, 149.80686950683594, 8.246053695678711, 7.342391490936279, 6.4340620040893555, 6.430549621582031, 6.43025016784668, 14.699793815612793, 5.527188777923584, 7.362981796264648, 3203.877685546875, 76.3749008178711, 19.359315872192383, 25.362356185913086, 85.40857696533203, 10.192981719970703, 69.78572082519531, 27.211597442626953, 650.479736328125, 7.505055904388428, 7.510949611663818, 7.518144130706787, 47.04555892944336, 12.248223304748535, 5.730067729949951, 11.50744342803955, 715.1512451171875, 108.85093688964844, 75.25186920166016, 534.6231079101562, 2993.54345703125, 848.0241088867188, 2646.440185546875, 9092.0341796875, 246.92999267578125, 217.1178436279297, 1939.68896484375, 69.49030303955078, 109.17149353027344, 719.8162231445312, 284.76849365234375, 951.8809814453125, 193.55545043945312, 177.1865692138672, 342.52911376953125, 159.80221557617188, 355.7547912597656, 109.98795318603516, 30.809354782104492, 22.583480834960938, 21.554670333862305, 20.526161193847656, 19.49750328063965, 18.459609985351562, 14.357487678527832, 13.328269004821777, 12.298864364624023, 11.269948959350586, 10.244037628173828, 9.216386795043945, 9.215776443481445, 9.215200424194336, 9.214194297790527, 8.188761711120605, 8.18465518951416, 8.184063911437988, 16.346458435058594, 7.161375522613525, 7.161375522613525, 7.1601996421813965, 7.159832000732422, 7.158978462219238, 7.158078193664551, 26.68801498413086, 19.437694549560547, 211.89625549316406, 44.971221923828125, 22.546117782592773, 64.75684356689453, 79.6870346069336, 26.724205017089844, 22.48421287536621, 43.64876174926758, 25.113624572753906, 85.18186950683594, 236.37677001953125, 222.1896514892578, 45.297630310058594, 226.58621215820312, 63.41190719604492, 712.1809692382812, 58.69518280029297, 848.0241088867188, 79.86934661865234, 58.73544692993164, 284.76849365234375, 1297.3560791015625, 951.8809814453125, 9092.0341796875, 124.8132095336914, 243.76246643066406, 2646.440185546875, 97.76673126220703, 342.52911376953125, 340.30914306640625, 292.2792053222656, 654.0208129882812, 715.1512451171875, 340.5375061035156, 177.1865692138672, 225.90484619140625, 1939.68896484375, 316.8851623535156, 191.7607421875, 375.0011901855469, 262.0716247558594, 127.38631439208984, 190.56536865234375, 101.48582458496094, 90.09017181396484, 53.827064514160156, 48.6462287902832, 45.5406494140625, 44.503849029541016, 28.96293830871582, 185.35940551757812, 20.672809600830078, 19.638919830322266, 19.638904571533203, 18.601900100708008, 17.56264877319336, 17.56635284423828, 16.5296630859375, 74.33526611328125, 15.492345809936523, 15.494569778442383, 14.456801414489746, 12.384893417358398, 12.384805679321289, 134.6443634033203, 62.086360931396484, 11.347068786621094, 10.31474781036377, 10.314310073852539, 48.64933395385742, 474.06396484375, 149.34268188476562, 66.20206451416016, 472.48175048828125, 324.33319091796875, 114.63433074951172, 71.45185852050781, 68.3423843383789, 25.753454208374023, 246.92999267578125, 187.78094482421875, 177.1865692138672, 125.34606170654297, 278.9778747558594, 142.68858337402344, 503.87225341796875, 9092.0341796875, 862.7890625, 436.8788146972656, 152.38418579101562, 654.0208129882812, 192.7060546875, 2993.54345703125, 244.62969970703125, 17.58043670654297, 16.54247283935547, 16.54198455810547, 15.505911827087402, 15.505202293395996, 14.469490051269531, 12.393303871154785, 12.392803192138672, 11.359292030334473, 9.284701347351074, 9.283535957336426, 8.249045372009277, 8.246851921081543, 8.244410514831543, 7.211062908172607, 7.210555076599121, 7.211389541625977, 7.209780216217041, 7.2090163230896, 8.241098403930664, 7.210132122039795, 7.205538749694824, 20.670228958129883, 6.175253868103027, 6.175184726715088, 6.173804759979248, 6.173320293426514, 6.169987201690674, 6.165141582489014, 98.77887725830078, 112.91454315185547, 41.10301971435547, 472.0172119140625, 109.17149353027344, 11.310522079467773, 82.54627990722656, 31.0017032623291, 30.727529525756836, 20.51044273376465, 38.87301254272461, 17.551593780517578, 20.546907424926758, 1297.3560791015625, 165.0749053955078, 106.5326919555664, 196.49417114257812, 67.6657485961914, 719.8162231445312, 35.763275146484375, 73.91799926757812, 50.347900390625, 203.13880920410156, 951.8809814453125, 1939.68896484375, 9092.0341796875, 715.1512451171875, 235.71241760253906, 191.7607421875, 534.6231079101562, 43.712188720703125, 127.43682098388672, 246.92999267578125, 315.52911376953125, 241.08590698242188, 225.90484619140625, 2052.493408203125, 848.0241088867188, 284.76849365234375, 654.0208129882812, 448.49761962890625, 372.02813720703125, 164.83799743652344, 91.89945983886719, 43.27207946777344, 30.587718963623047, 23.18840789794922, 17.903623580932617, 15.790613174438477, 13.674565315246582, 12.614824295043945, 10.4993896484375, 9.446324348449707, 9.446159362792969, 9.436598777770996, 8.389925003051758, 8.38921070098877, 8.388812065124512, 7.333549499511719, 7.332921028137207, 7.331326961517334, 7.326366424560547, 16.732900619506836, 6.276394844055176, 6.275656700134277, 6.27516508102417, 6.274123668670654, 6.273388385772705, 125.46746826171875, 9.411307334899902, 37.728126525878906, 502.47265625, 81.79305267333984, 102.12655639648438, 89.72158813476562, 171.72230529785156, 188.96498107910156, 96.73100280761719, 172.2694091796875, 15.531941413879395, 27.79053497314453, 862.7890625, 91.82526397705078, 27.846542358398438, 355.6053161621094, 124.03480529785156, 37.08103942871094, 109.2203369140625, 90.3765869140625, 9092.0341796875, 2646.440185546875, 374.9426574707031, 2052.493408203125, 1939.68896484375, 272.0284729003906, 650.479736328125, 503.87225341796875, 315.52911376953125, 551.529541015625, 474.06396484375, 241.08590698242188, 712.1809692382812, 2157.924560546875], \"Category\": [\"Default\", \"Default\", \"Default\", \"Default\", \"Default\", \"Default\", \"Default\", \"Default\", \"Default\", \"Default\", \"Default\", \"Default\", \"Default\", \"Default\", \"Default\", \"Default\", \"Default\", \"Default\", \"Default\", \"Default\", \"Default\", \"Default\", \"Default\", \"Default\", \"Default\", \"Default\", \"Default\", \"Default\", \"Default\", \"Default\", \"Topic1\", \"Topic1\", \"Topic1\", \"Topic1\", \"Topic1\", \"Topic1\", \"Topic1\", \"Topic1\", \"Topic1\", \"Topic1\", \"Topic1\", \"Topic1\", \"Topic1\", \"Topic1\", \"Topic1\", \"Topic1\", \"Topic1\", \"Topic1\", \"Topic1\", \"Topic1\", \"Topic1\", \"Topic1\", \"Topic1\", \"Topic1\", \"Topic1\", \"Topic1\", \"Topic1\", \"Topic1\", \"Topic1\", \"Topic1\", \"Topic1\", \"Topic1\", \"Topic1\", \"Topic1\", \"Topic1\", \"Topic1\", \"Topic1\", \"Topic1\", \"Topic1\", \"Topic1\", \"Topic1\", \"Topic1\", \"Topic1\", \"Topic1\", \"Topic1\", \"Topic1\", \"Topic1\", \"Topic1\", \"Topic1\", \"Topic1\", \"Topic1\", \"Topic1\", \"Topic1\", \"Topic1\", \"Topic1\", \"Topic1\", \"Topic1\", \"Topic1\", \"Topic1\", \"Topic1\", \"Topic1\", \"Topic1\", \"Topic1\", \"Topic1\", \"Topic1\", \"Topic1\", \"Topic1\", \"Topic1\", \"Topic1\", \"Topic1\", \"Topic1\", \"Topic2\", \"Topic2\", \"Topic2\", \"Topic2\", \"Topic2\", \"Topic2\", \"Topic2\", \"Topic2\", \"Topic2\", \"Topic2\", \"Topic2\", \"Topic2\", \"Topic2\", \"Topic2\", \"Topic2\", \"Topic2\", \"Topic2\", \"Topic2\", \"Topic2\", \"Topic2\", \"Topic2\", \"Topic2\", \"Topic2\", \"Topic2\", \"Topic2\", \"Topic2\", \"Topic2\", \"Topic2\", \"Topic2\", \"Topic2\", \"Topic2\", \"Topic2\", \"Topic2\", \"Topic2\", \"Topic2\", \"Topic2\", \"Topic2\", \"Topic2\", \"Topic2\", \"Topic2\", \"Topic2\", \"Topic2\", \"Topic2\", \"Topic2\", \"Topic2\", \"Topic2\", \"Topic2\", \"Topic2\", \"Topic2\", \"Topic2\", \"Topic2\", \"Topic2\", \"Topic2\", \"Topic2\", \"Topic2\", \"Topic2\", \"Topic2\", \"Topic2\", \"Topic2\", \"Topic2\", \"Topic2\", \"Topic2\", \"Topic2\", \"Topic2\", \"Topic2\", \"Topic2\", \"Topic2\", \"Topic2\", \"Topic3\", \"Topic3\", \"Topic3\", \"Topic3\", \"Topic3\", \"Topic3\", \"Topic3\", \"Topic3\", \"Topic3\", \"Topic3\", \"Topic3\", \"Topic3\", \"Topic3\", \"Topic3\", \"Topic3\", \"Topic3\", \"Topic3\", \"Topic3\", \"Topic3\", \"Topic3\", \"Topic3\", \"Topic3\", \"Topic3\", \"Topic3\", \"Topic3\", \"Topic3\", \"Topic3\", \"Topic3\", \"Topic3\", \"Topic3\", \"Topic3\", \"Topic3\", \"Topic3\", \"Topic3\", \"Topic3\", \"Topic3\", \"Topic3\", \"Topic3\", \"Topic3\", \"Topic3\", \"Topic3\", \"Topic3\", \"Topic3\", \"Topic3\", \"Topic3\", \"Topic3\", \"Topic3\", \"Topic3\", \"Topic3\", \"Topic3\", \"Topic3\", \"Topic3\", \"Topic3\", \"Topic3\", \"Topic3\", \"Topic3\", \"Topic3\", \"Topic3\", \"Topic3\", \"Topic3\", \"Topic3\", \"Topic3\", \"Topic3\", \"Topic3\", \"Topic3\", \"Topic3\", \"Topic3\", \"Topic4\", \"Topic4\", \"Topic4\", \"Topic4\", \"Topic4\", \"Topic4\", \"Topic4\", \"Topic4\", \"Topic4\", \"Topic4\", \"Topic4\", \"Topic4\", \"Topic4\", \"Topic4\", \"Topic4\", \"Topic4\", \"Topic4\", \"Topic4\", \"Topic4\", \"Topic4\", \"Topic4\", \"Topic4\", \"Topic4\", \"Topic4\", \"Topic4\", \"Topic4\", \"Topic4\", \"Topic4\", \"Topic4\", \"Topic4\", \"Topic4\", \"Topic4\", \"Topic4\", \"Topic4\", \"Topic4\", \"Topic4\", \"Topic4\", \"Topic4\", \"Topic4\", \"Topic4\", \"Topic4\", \"Topic4\", \"Topic4\", \"Topic4\", \"Topic4\", \"Topic4\", \"Topic4\", \"Topic4\", \"Topic5\", \"Topic5\", \"Topic5\", \"Topic5\", \"Topic5\", \"Topic5\", \"Topic5\", \"Topic5\", \"Topic5\", \"Topic5\", \"Topic5\", \"Topic5\", \"Topic5\", \"Topic5\", \"Topic5\", \"Topic5\", \"Topic5\", \"Topic5\", \"Topic5\", \"Topic5\", \"Topic5\", \"Topic5\", \"Topic5\", \"Topic5\", \"Topic5\", \"Topic5\", \"Topic5\", \"Topic5\", \"Topic5\", \"Topic5\", \"Topic5\", \"Topic5\", \"Topic5\", \"Topic5\", \"Topic5\", \"Topic5\", \"Topic5\", \"Topic5\", \"Topic5\", \"Topic5\", \"Topic5\", \"Topic5\", \"Topic5\", \"Topic5\", \"Topic5\", \"Topic5\", \"Topic5\", \"Topic5\", \"Topic5\", \"Topic5\", \"Topic5\", \"Topic5\", \"Topic5\", \"Topic5\", \"Topic5\", \"Topic5\", \"Topic5\", \"Topic5\", \"Topic5\", \"Topic5\", \"Topic5\", \"Topic5\", \"Topic5\", \"Topic5\", \"Topic5\", \"Topic6\", \"Topic6\", \"Topic6\", \"Topic6\", \"Topic6\", \"Topic6\", \"Topic6\", \"Topic6\", \"Topic6\", \"Topic6\", \"Topic6\", \"Topic6\", \"Topic6\", \"Topic6\", \"Topic6\", \"Topic6\", \"Topic6\", \"Topic6\", \"Topic6\", \"Topic6\", \"Topic6\", \"Topic6\", \"Topic6\", \"Topic6\", \"Topic6\", \"Topic6\", \"Topic6\", \"Topic6\", \"Topic6\", \"Topic6\", \"Topic6\", \"Topic6\", \"Topic6\", \"Topic6\", \"Topic6\", \"Topic6\", \"Topic6\", \"Topic6\", \"Topic6\", \"Topic6\", \"Topic6\", \"Topic6\", \"Topic6\", \"Topic6\", \"Topic6\", \"Topic6\", \"Topic6\", \"Topic6\", \"Topic6\", \"Topic6\", \"Topic7\", \"Topic7\", \"Topic7\", \"Topic7\", \"Topic7\", \"Topic7\", \"Topic7\", \"Topic7\", \"Topic7\", \"Topic7\", \"Topic7\", \"Topic7\", \"Topic7\", \"Topic7\", \"Topic7\", \"Topic7\", \"Topic7\", \"Topic7\", \"Topic7\", \"Topic7\", \"Topic7\", \"Topic7\", \"Topic7\", \"Topic7\", \"Topic7\", \"Topic7\", \"Topic7\", \"Topic7\", \"Topic7\", \"Topic7\", \"Topic7\", \"Topic7\", \"Topic7\", \"Topic7\", \"Topic7\", \"Topic7\", \"Topic7\", \"Topic7\", \"Topic7\", \"Topic7\", \"Topic7\", \"Topic7\", \"Topic7\", \"Topic7\", \"Topic7\", \"Topic7\", \"Topic7\", \"Topic7\", \"Topic7\", \"Topic7\", \"Topic7\", \"Topic7\", \"Topic7\", \"Topic7\", \"Topic7\", \"Topic7\", \"Topic7\", \"Topic7\", \"Topic7\", \"Topic7\", \"Topic7\", \"Topic7\", \"Topic7\", \"Topic7\", \"Topic7\", \"Topic7\", \"Topic7\", \"Topic7\", \"Topic8\", \"Topic8\", \"Topic8\", \"Topic8\", \"Topic8\", \"Topic8\", \"Topic8\", \"Topic8\", \"Topic8\", \"Topic8\", \"Topic8\", \"Topic8\", \"Topic8\", \"Topic8\", \"Topic8\", \"Topic8\", \"Topic8\", \"Topic8\", \"Topic8\", \"Topic8\", \"Topic8\", \"Topic8\", \"Topic8\", \"Topic8\", \"Topic8\", \"Topic8\", \"Topic8\", \"Topic8\", \"Topic8\", \"Topic8\", \"Topic8\", \"Topic8\", \"Topic8\", \"Topic8\", \"Topic8\", \"Topic8\", \"Topic8\", \"Topic8\", \"Topic8\", \"Topic8\", \"Topic8\", \"Topic8\", \"Topic8\", \"Topic8\", \"Topic8\", \"Topic8\", \"Topic8\", \"Topic8\", \"Topic8\", \"Topic8\", \"Topic8\", \"Topic8\", \"Topic8\", \"Topic8\", \"Topic9\", \"Topic9\", \"Topic9\", \"Topic9\", \"Topic9\", \"Topic9\", \"Topic9\", \"Topic9\", \"Topic9\", \"Topic9\", \"Topic9\", \"Topic9\", \"Topic9\", \"Topic9\", \"Topic9\", \"Topic9\", \"Topic9\", \"Topic9\", \"Topic9\", \"Topic9\", \"Topic9\", \"Topic9\", \"Topic9\", \"Topic9\", \"Topic9\", \"Topic9\", \"Topic9\", \"Topic9\", \"Topic9\", \"Topic9\", \"Topic9\", \"Topic9\", \"Topic9\", \"Topic9\", \"Topic9\", \"Topic9\", \"Topic9\", \"Topic9\", \"Topic9\", \"Topic9\", \"Topic9\", \"Topic9\", \"Topic9\", \"Topic9\", \"Topic9\", \"Topic9\", \"Topic9\", \"Topic9\", \"Topic9\", \"Topic9\", \"Topic9\", \"Topic9\", \"Topic9\", \"Topic9\", \"Topic9\", \"Topic9\", \"Topic9\", \"Topic9\", \"Topic9\", \"Topic9\", \"Topic9\", \"Topic9\", \"Topic9\", \"Topic9\", \"Topic9\", \"Topic9\", \"Topic9\", \"Topic9\", \"Topic9\", \"Topic9\", \"Topic9\", \"Topic10\", \"Topic10\", \"Topic10\", \"Topic10\", \"Topic10\", \"Topic10\", \"Topic10\", \"Topic10\", \"Topic10\", \"Topic10\", \"Topic10\", \"Topic10\", \"Topic10\", \"Topic10\", \"Topic10\", \"Topic10\", \"Topic10\", \"Topic10\", \"Topic10\", \"Topic10\", \"Topic10\", \"Topic10\", \"Topic10\", \"Topic10\", \"Topic10\", \"Topic10\", \"Topic10\", \"Topic10\", \"Topic10\", \"Topic10\", \"Topic10\", \"Topic10\", \"Topic10\", \"Topic10\", \"Topic10\", \"Topic10\", \"Topic10\", \"Topic10\", \"Topic10\", \"Topic10\", \"Topic10\", \"Topic10\", \"Topic10\", \"Topic10\", \"Topic10\", \"Topic10\", \"Topic10\", \"Topic10\", \"Topic10\", \"Topic10\", \"Topic10\", \"Topic10\", \"Topic10\", \"Topic10\", \"Topic10\", \"Topic10\", \"Topic10\", \"Topic10\", \"Topic10\", \"Topic10\", \"Topic10\", \"Topic10\"], \"logprob\": [30.0, 29.0, 28.0, 27.0, 26.0, 25.0, 24.0, 23.0, 22.0, 21.0, 20.0, 19.0, 18.0, 17.0, 16.0, 15.0, 14.0, 13.0, 12.0, 11.0, 10.0, 9.0, 8.0, 7.0, 6.0, 5.0, 4.0, 3.0, 2.0, 1.0, -4.117700099945068, -4.601500034332275, -5.339399814605713, -5.559299945831299, -5.682400226593018, -5.682600021362305, -5.986000061035156, -6.357699871063232, -6.424300193786621, -6.4593000411987305, -6.459199905395508, -6.460100173950195, -6.533400058746338, -6.5721001625061035, -6.655099868774414, -6.745699882507324, -6.899099826812744, -6.899099826812744, -6.899199962615967, -6.955999851226807, -6.955999851226807, -6.955999851226807, -6.956399917602539, -6.956600189208984, -6.957200050354004, -7.016200065612793, -7.016300201416016, -7.016300201416016, -5.088799953460693, -7.0802998542785645, -5.827899932861328, -6.1645002365112305, -4.2941999435424805, -4.670300006866455, -4.311299800872803, -5.5524001121521, -6.33620023727417, -4.149700164794922, -4.791299819946289, -4.541600227355957, -5.808499813079834, -6.440400123596191, -6.538000106811523, -4.321700096130371, -4.696599960327148, -5.41540002822876, -5.136899948120117, -5.47790002822876, -5.0304999351501465, -4.875500202178955, -5.408999919891357, -5.12939977645874, -4.739999771118164, -5.806099891662598, -3.7685000896453857, -4.344600200653076, -2.3970999717712402, -4.8394999504089355, -4.879300117492676, -4.478700160980225, -4.900300025939941, -4.852200031280518, -4.933800220489502, -4.359300136566162, -4.795499801635742, -4.942200183868408, -4.358399868011475, -4.7266998291015625, -5.0100998878479, -4.974299907684326, -4.86299991607666, -5.124800205230713, -6.417799949645996, -6.497499942779541, -6.498000144958496, -6.784299850463867, -6.840700149536133, -6.84089994430542, -7.033699989318848, -7.035200119018555, -5.034800052642822, -7.107600212097168, -7.272900104522705, -7.273399829864502, -7.2778000831604, -7.367499828338623, -7.471799850463867, -7.4720001220703125, -7.472300052642822, -6.693900108337402, -7.589099884033203, -5.393199920654297, -4.163000106811523, -7.71999979019165, -7.720200061798096, -7.720300197601318, -7.720300197601318, -7.7204999923706055, -7.721499919891357, -7.721399784088135, -7.722700119018555, -4.441199779510498, -4.1844000816345215, -6.603600025177002, -7.325699806213379, -2.3610999584198, -4.303800106048584, -5.681099891662598, -4.893599987030029, -4.535999774932861, -6.4496002197265625, -4.112299919128418, -4.605100154876709, -6.274799823760986, -5.4116997718811035, -3.9583001136779785, -4.308300018310547, -5.667099952697754, -2.004199981689453, -3.183500051498413, -3.306999921798706, -5.042099952697754, -5.627799987792969, -3.067500114440918, -5.051000118255615, -3.8118999004364014, -5.517199993133545, -5.178299903869629, -4.956999778747559, -5.3256001472473145, -4.42609977722168, -4.873799800872803, -3.7253000736236572, -4.508200168609619, -4.666399955749512, -4.466800212860107, -4.770400047302246, -4.896299839019775, -4.934700012207031, -4.069900035858154, -4.926700115203857, -5.562699794769287, -5.983500003814697, -6.044099807739258, -6.17710018157959, -3.9951000213623047, -6.373000144958496, -6.463699817657471, -6.563199996948242, -6.673999786376953, -6.674200057983398, -6.734300136566162, -3.43969988822937, -6.866799831390381, -6.8668999671936035, -5.880300045013428, -7.2006001472473145, -7.200699806213379, -5.750100135803223, -6.713200092315674, -7.305300235748291, -7.306099891662598, -7.421199798583984, -7.42140007019043, -7.42140007019043, -7.421599864959717, -7.553400039672852, -7.553899765014648, -6.309899806976318, -5.127600193023682, -5.765399932861328, -4.774799823760986, -6.654799938201904, -5.568699836730957, -3.397700071334839, -5.388700008392334, -4.842100143432617, -5.828400135040283, -5.821899890899658, -4.678500175476074, -5.01039981842041, -3.7844998836517334, -5.273399829864502, -4.813499927520752, -3.401099920272827, -4.946300029754639, -4.417699813842773, -5.042099952697754, -4.224800109863281, -4.707300186157227, -5.240200042724609, -4.32420015335083, -2.3596999645233154, -4.4446001052856445, -3.669300079345703, -4.177199840545654, -5.050000190734863, -4.873700141906738, -3.9282000064849854, -4.851399898529053, -4.711999893188477, -4.5192999839782715, -4.359600067138672, -4.604800224304199, -4.98360013961792, -5.002900123596191, -0.9749000072479248, -7.0970001220703125, -2.609299898147583, -4.384399890899658, -7.397900104522705, -6.032899856567383, -7.096799850463867, -5.51039981842041, -3.7964999675750732, -6.053999900817871, -6.759200096130371, -7.2307000160217285, -7.893499851226807, -7.722799777984619, -7.028299808502197, -6.192299842834473, -8.057900428771973, -1.9838000535964966, -7.763199806213379, -7.702600002288818, -8.328800201416016, -8.057700157165527, -7.339099884033203, -7.112299919128418, -5.748700141906738, -3.5204999446868896, -8.006099700927734, -8.285300254821777, -8.427300453186035, -7.927599906921387, -2.5102999210357666, -2.7978999614715576, -6.781099796295166, -4.400899887084961, -4.986000061035156, -6.023799896240234, -2.483599901199341, -4.611700057983398, -5.524400234222412, -4.508500099182129, -4.267000198364258, -6.626500129699707, -6.777599811553955, -6.341400146484375, -6.565999984741211, -6.337399959564209, -6.677199840545654, -6.828499794006348, -2.615299940109253, -4.293000221252441, -5.415999889373779, -5.794099807739258, -5.8333001136779785, -5.960400104522705, -6.277200222015381, -6.277400016784668, -6.483699798583984, -6.240099906921387, -6.649600028991699, -6.848100185394287, -6.848100185394287, -6.964399814605713, -6.964900016784668, -6.964900016784668, -6.965099811553955, -7.248000144958496, -7.252399921417236, -7.427000045776367, -7.427199840545654, -7.427599906921387, -7.427599906921387, -7.427999973297119, -7.427499771118164, -6.028299808502197, -7.1041998863220215, -6.756400108337402, -4.865499973297119, -7.248300075531006, -6.7555999755859375, -4.787700176239014, -4.128799915313721, -5.003499984741211, -3.426300048828125, -3.834700107574463, -5.497200012207031, -3.3148999214172363, -4.238999843597412, -4.573500156402588, -5.385200023651123, -4.968400001525879, -4.448699951171875, -4.583199977874756, -5.292900085449219, -5.961100101470947, -5.115099906921387, -4.29640007019043, -2.637500047683716, -4.546000003814697, -2.970900058746338, -3.187000036239624, -2.391900062561035, -4.809599876403809, -4.885700225830078, -5.029300212860107, -3.571500062942505, -4.842299938201904, -4.48769998550415, -4.571800231933594, -4.157599925994873, -4.268099784851074, -4.559700012207031, -4.546500205993652, -4.816800117492676, -4.082200050354004, -5.6315999031066895, -6.321499824523926, -3.3673999309539795, -6.543700218200684, -4.038899898529053, -6.945099830627441, -7.076300144195557, -7.228300094604492, -7.229000091552734, -7.229300022125244, -6.404099941253662, -7.407400131225586, -7.120699882507324, -1.0967999696731567, -4.8383002281188965, -6.221499919891357, -6.038899898529053, -4.8292999267578125, -6.956999778747559, -5.041100025177002, -6.110400199890137, -2.94350004196167, -7.4085001945495605, -7.420400142669678, -7.423500061035156, -5.589900016784668, -6.990900039672852, -7.7947001457214355, -7.112400054931641, -3.2957000732421875, -5.072400093078613, -5.4070000648498535, -3.780900001525879, -2.404900074005127, -3.47979998588562, -2.6080000400543213, -2.2918999195098877, -4.869699954986572, -5.091899871826172, -3.922300100326538, -5.857900142669678, -5.653299808502197, -4.713500022888184, -5.238999843597412, -4.955599784851074, -5.569399833679199, -5.679500102996826, -5.572000026702881, -5.842400074005127, -2.9995999336242676, -4.179299831390381, -5.472799777984619, -5.794300079345703, -5.842899799346924, -5.893899917602539, -5.947700023651123, -6.010200023651123, -6.270999908447266, -6.350500106811523, -6.440499782562256, -6.531400203704834, -6.635499954223633, -6.7519001960754395, -6.751999855041504, -6.751999855041504, -6.752699851989746, -6.883600234985352, -6.8856000900268555, -6.89139986038208, -6.2093000411987305, -7.035299777984619, -7.035299777984619, -7.0355000495910645, -7.035600185394287, -7.035699844360352, -7.035900115966797, -5.721199989318848, -6.050000190734863, -3.662100076675415, -5.223199844360352, -5.905399799346924, -4.883600234985352, -4.698699951171875, -5.7677001953125, -5.939599990844727, -5.359799861907959, -5.871099948883057, -4.8043999671936035, -3.910599946975708, -3.9935998916625977, -5.377999782562256, -4.045100212097168, -5.156400203704834, -3.260499954223633, -5.337399959564209, -3.5592000484466553, -5.159200191497803, -5.382299900054932, -4.407899856567383, -3.6842000484466553, -3.882200002670288, -2.761899948120117, -5.002900123596191, -4.656599998474121, -3.4964001178741455, -5.1697001457214355, -4.598499774932861, -4.644899845123291, -4.7347002029418945, -4.576300144195557, -4.719799995422363, -4.899600028991699, -5.100200176239014, -5.10290002822876, -4.864200115203857, -5.140699863433838, -5.156899929046631, -2.873800039291382, -3.233099937438965, -3.9581000804901123, -3.555500030517578, -4.187099933624268, -4.307300090789795, -4.829100131988525, -4.93209981918335, -4.9994001388549805, -5.022799968719482, -5.463399887084961, -3.6177000999450684, -5.813399791717529, -5.867099761962891, -5.867099761962891, -5.923999786376953, -5.984399795532227, -5.984300136566162, -6.048399925231934, -4.546599864959717, -6.117099761962891, -6.117000102996826, -6.191999912261963, -6.356299877166748, -6.356299877166748, -3.9707000255584717, -4.746099948883057, -6.451000213623047, -6.554800033569336, -6.554900169372559, -5.004300117492676, -2.795300006866455, -3.944700002670288, -4.7382001876831055, -2.9372000694274902, -3.3773000240325928, -4.389599800109863, -4.803500175476074, -4.856900215148926, -5.683899879455566, -3.94950008392334, -4.218900203704834, -4.28439998626709, -4.577899932861328, -4.0467000007629395, -4.582200050354004, -3.97979998588562, -2.8134000301361084, -4.053999900817871, -4.329100131988525, -4.665599822998047, -4.48829984664917, -4.744800090789795, -4.778500080108643, -3.203399896621704, -5.874100208282471, -5.938300132751465, -5.938300132751465, -6.006800174713135, -6.006800174713135, -6.0802998542785645, -6.246200084686279, -6.246300220489502, -6.340400218963623, -6.561200141906738, -6.561399936676025, -6.69290018081665, -6.69320011138916, -6.700099945068359, -6.844900131225586, -6.84499979019165, -6.844900131225586, -6.845099925994873, -6.845300197601318, -6.713500022888184, -6.8471999168396, -6.8572998046875, -5.806700229644775, -7.023900032043457, -7.023900032043457, -7.024099826812744, -7.024199962615967, -7.024899959564209, -7.0258002281188965, -4.286900043487549, -4.211900234222412, -5.200699806213379, -2.888400077819824, -4.286499977111816, -6.444799900054932, -4.586699962615967, -5.529799938201904, -5.5868000984191895, -5.946400165557861, -5.4116997718811035, -6.0879998207092285, -5.960899829864502, -2.535799980163574, -4.2947001457214355, -4.744999885559082, -4.328000068664551, -5.120200157165527, -3.475600004196167, -5.613100051879883, -5.138500213623047, -5.401199817657471, -4.566100120544434, -3.6810998916625977, -3.354099988937378, -2.49780011177063, -4.021500110626221, -4.6230998039245605, -4.790900230407715, -4.385900020599365, -5.526599884033203, -5.1392998695373535, -4.9045000076293945, -4.81820011138916, -4.967700004577637, -5.006400108337402, -4.368899822235107, -4.774400234222412, -5.051199913024902, -4.977399826049805, -5.079100131988525, -2.704699993133545, -3.521699905395508, -4.110300064086914, -4.8755998611450195, -5.230500221252441, -5.516600131988525, -5.787099838256836, -5.9197001457214355, -6.072800159454346, -6.159299850463867, -6.361199855804443, -6.474299907684326, -6.474299907684326, -6.475399971008301, -6.605999946594238, -6.606100082397461, -6.606100082397461, -6.757699966430664, -6.757800102233887, -6.7581000328063965, -6.764900207519531, -5.94189977645874, -6.9369001388549805, -6.936999797821045, -6.937099933624268, -6.937300205230713, -6.9421000480651855, -3.9793999195098877, -6.612400054931641, -5.239799976348877, -2.771899938583374, -4.521900177001953, -4.4054999351501465, -4.574900150299072, -4.028800010681152, -3.999799966812134, -4.6092000007629395, -4.203400135040283, -6.161099910736084, -5.746500015258789, -3.3127999305725098, -4.939199924468994, -5.779900074005127, -4.061699867248535, -4.785699844360352, -5.594799995422363, -4.930500030517578, -5.065800189971924, -2.455199956893921, -3.174499988555908, -4.372099876403809, -3.5641000270843506, -3.670099973678589, -4.655799865722656, -4.361499786376953, -4.480800151824951, -4.9166998863220215, -4.809599876403809, -4.931000232696533, -5.009500026702881, -4.974599838256836, -4.94189977645874], \"loglift\": [30.0, 29.0, 28.0, 27.0, 26.0, 25.0, 24.0, 23.0, 22.0, 21.0, 20.0, 19.0, 18.0, 17.0, 16.0, 15.0, 14.0, 13.0, 12.0, 11.0, 10.0, 9.0, 8.0, 7.0, 6.0, 5.0, 4.0, 3.0, 2.0, 1.0, 1.6913000345230103, 1.6892000436782837, 1.684000015258789, 1.68149995803833, 1.679800033569336, 1.6796000003814697, 1.6747000217437744, 1.6658999919891357, 1.6640000343322754, 1.6628999710083008, 1.6628999710083008, 1.6619999408721924, 1.6601999998092651, 1.6591999530792236, 1.6562000513076782, 1.6526999473571777, 1.645900011062622, 1.645900011062622, 1.645900011062622, 1.6432000398635864, 1.6432000398635864, 1.6432000398635864, 1.642799973487854, 1.6426000595092773, 1.6418999433517456, 1.6401000022888184, 1.6401000022888184, 1.6401000022888184, 1.6382999420166016, 1.6366000175476074, 1.636199951171875, 1.6345000267028809, 1.5920000076293945, 1.5931999683380127, 1.5770000219345093, 1.604699969291687, 1.625599980354309, 1.5433000326156616, 1.5542000532150269, 1.5305999517440796, 1.5848000049591064, 1.6130000352859497, 1.6202000379562378, 1.420199990272522, 1.402999997138977, 1.4800000190734863, 1.4206000566482544, 1.4680999517440796, 1.3529000282287598, 1.3148000240325928, 1.430299997329712, 1.360200047492981, 1.2472000122070312, 1.478600025177002, 0.8259000182151794, 0.8513000011444092, -0.02879999950528145, 1.038100004196167, 0.9729999899864197, 0.6920999884605408, 0.9053999781608582, 0.7573999762535095, 0.791100025177002, -0.04390000179409981, 0.38260000944137573, 0.6144000291824341, -0.44519999623298645, -0.10170000046491623, 0.3675000071525574, -0.05920000001788139, -1.2604999542236328, 1.8214999437332153, 1.7965999841690063, 1.7936999797821045, 1.7932000160217285, 1.7813999652862549, 1.7788000106811523, 1.7788000106811523, 1.767899990081787, 1.7664999961853027, 1.763100028038025, 1.763100028038025, 1.7515000104904175, 1.7515000104904175, 1.7472000122070312, 1.74399995803833, 1.7347999811172485, 1.7347999811172485, 1.7347999811172485, 1.7238999605178833, 1.7226999998092651, 1.718500018119812, 1.7168999910354614, 1.7093000411987305, 1.7092000246047974, 1.7092000246047974, 1.7092000246047974, 1.7092000246047974, 1.7091000080108643, 1.7089999914169312, 1.7071000337600708, 1.6584999561309814, 1.6390999555587769, 1.6856000423431396, 1.6958999633789062, 1.4455000162124634, 1.513200044631958, 1.5305999517440796, 1.4342000484466553, 1.325700044631958, 1.5599000453948975, 1.148800015449524, 1.2125999927520752, 1.5170999765396118, 1.3193000555038452, 0.9460999965667725, 1.0261000394821167, 1.3625999689102173, 0.36410000920295715, 0.6730999946594238, 0.6061000227928162, 1.1449999809265137, 1.309999942779541, 0.41179999709129333, 1.061900019645691, 0.5034999847412109, 1.2267999649047852, 1.0744999647140503, 0.9544000029563904, 1.083899974822998, 0.48899999260902405, 0.7797999978065491, -0.12280000001192093, 0.4027000069618225, 0.5354999899864197, 0.2565000057220459, 0.4004000127315521, 0.5382999777793884, 0.44279998540878296, 1.9728000164031982, 1.9675999879837036, 1.9565000534057617, 1.950700044631958, 1.9491000175476074, 1.945199966430664, 1.944100022315979, 1.9385000467300415, 1.934999942779541, 1.9306999444961548, 1.9254000186920166, 1.9253000020980835, 1.9223999977111816, 1.9220000505447388, 1.9148999452590942, 1.9148999452590942, 1.8938000202178955, 1.8913999795913696, 1.8913999795913696, 1.8890000581741333, 1.88510000705719, 1.8824000358581543, 1.8823000192642212, 1.871399998664856, 1.871399998664856, 1.871399998664856, 1.871399998664856, 1.8573999404907227, 1.857300043106079, 1.847499966621399, 1.8442000150680542, 1.827299952507019, 1.8062000274658203, 1.8410999774932861, 1.767300009727478, 1.6025999784469604, 1.7271000146865845, 1.669700026512146, 1.7490999698638916, 1.729200005531311, 1.5743999481201172, 1.6186000108718872, 1.4113999605178833, 1.6398999691009521, 1.5174000263214111, 1.1933000087738037, 1.5075000524520874, 1.3114999532699585, 1.4713000059127808, 1.1790000200271606, 1.3449000120162964, 1.473099946975708, 1.010200023651123, 0.008500000461935997, 0.9329000115394592, 0.24390000104904175, 0.5461000204086304, 1.1919000148773193, 0.9580000042915344, -0.3257000148296356, 0.7957000136375427, 0.48989999294281006, 0.10570000112056732, -0.5029000043869019, -1.2798999547958374, 0.8222000002861023, -0.08780000358819962, 2.3499999046325684, 2.275099992752075, 2.2527999877929688, 2.139699935913086, 2.0785000324249268, 2.0553998947143555, 2.0532000064849854, 2.0455000400543213, 1.8564000129699707, 1.819200038909912, 1.7374000549316406, 1.7303999662399292, 1.7000999450683594, 1.6205999851226807, 1.6022000312805176, 1.5709999799728394, 1.5240000486373901, 1.4953999519348145, 1.454300045967102, 1.4246000051498413, 1.3931000232696533, 1.3868999481201172, 1.277400016784668, 1.2283999919891357, 1.2216999530792236, 1.2200000286102295, 1.1891000270843506, 1.1261999607086182, 1.1176999807357788, 1.1024999618530273, 1.0922000408172607, 1.0587999820709229, 1.069700002670288, 0.7698000073432922, 0.7156999707221985, 0.8769999742507935, -0.1152999997138977, 0.29919999837875366, 0.5648999810218811, 0.11649999767541885, -0.3538999855518341, 0.8848000168800354, 0.7777000069618225, -0.12349999696016312, 0.22750000655651093, -2.530900001525879, -0.8454999923706055, 0.1573999971151352, 2.432800054550171, 2.427000045776367, 2.4112000465393066, 2.4007999897003174, 2.399399995803833, 2.3947999477386475, 2.3803999423980713, 2.3803000450134277, 2.3680999279022217, 2.360300064086914, 2.3566999435424805, 2.340399980545044, 2.3401999473571777, 2.3292999267578125, 2.3292999267578125, 2.3292999267578125, 2.3292999267578125, 2.296999931335449, 2.292799949645996, 2.272200107574463, 2.2720999717712402, 2.2720999717712402, 2.2720999717712402, 2.2720000743865967, 2.2720000743865967, 2.204200029373169, 2.185800075531006, 2.1839001178741455, 2.175299882888794, 2.1666998863220215, 2.164799928665161, 2.1308999061584473, 2.0999999046325684, 2.117300033569336, 2.00819993019104, 1.9843000173568726, 2.121999979019165, 1.8632999658584595, 1.93149995803833, 1.9608999490737915, 2.0130999088287354, 1.9419000148773193, 1.8410999774932861, 1.8106000423431396, 1.9422999620437622, 2.095400094985962, 1.7781000137329102, 1.4292000532150269, 0.7738999724388123, 1.517300009727478, 0.8356000185012817, 0.6696000099182129, -0.023600000888109207, 1.377500057220459, 1.3671000003814697, 1.4500000476837158, -0.09229999780654907, 1.1410000324249268, 0.37439998984336853, 0.3325999975204468, -0.5551000237464905, -0.3549000024795532, 0.16359999775886536, 0.07850000262260437, 0.18889999389648438, 2.526700019836426, 2.5120999813079834, 2.480799913406372, 2.4788999557495117, 2.4655001163482666, 2.4351999759674072, 2.4286999702453613, 2.4135000705718994, 2.3935000896453857, 2.393399953842163, 2.3931000232696533, 2.3914999961853027, 2.3664000034332275, 2.366300106048584, 2.314500093460083, 2.309499979019165, 2.298799991607666, 2.2112998962402344, 2.206700086593628, 2.204699993133545, 2.197000026702881, 2.0694000720977783, 2.062299966812134, 2.0594000816345215, 2.046600103378296, 2.04259991645813, 2.0425000190734863, 1.9872000217437744, 1.9429999589920044, 1.9279999732971191, 1.6152000427246094, 1.7210999727249146, 1.7555999755859375, 1.4210000038146973, 1.0743999481201172, 1.2608000040054321, 0.9944999814033508, 0.0763000026345253, 1.104699969291687, 1.0111000537872314, -0.009100000374019146, 1.3842999935150146, 1.1371999979019165, 0.19089999794960022, 0.5927000045776367, -0.33059999346733093, 0.6485000252723694, 0.6266999840736389, 0.07509999722242355, 0.5670999884605408, 2.609600067138672, 2.6036999225616455, 2.5827999114990234, 2.571899890899658, 2.569999933242798, 2.5678000450134277, 2.5653998851776123, 2.5576999187469482, 2.548099994659424, 2.5429999828338623, 2.5334999561309814, 2.529900074005127, 2.521199941635132, 2.5106000900268555, 2.5106000900268555, 2.510499954223633, 2.509999990463257, 2.4971001148223877, 2.495500087738037, 2.489799976348877, 2.48009991645813, 2.4793999195098877, 2.4793999195098877, 2.4793999195098877, 2.4793999195098877, 2.4793999195098877, 2.479300022125244, 2.478100061416626, 2.466200113296509, 2.4651999473571777, 2.454200029373169, 2.4625000953674316, 2.4291999340057373, 2.4066998958587646, 2.4302000999450684, 2.430999994277954, 2.3475000858306885, 2.3889999389648438, 2.2342000007629395, 2.1073999404907227, 2.0862998962402344, 2.2922000885009766, 2.015199899673462, 2.1774001121520996, 1.6546000242233276, 2.073699951171875, 1.1813000440597534, 1.9437999725341797, 2.02810001373291, 1.423799991607666, 0.6310999989509583, 0.7427999973297119, -0.3935999870300293, 1.6536999940872192, 1.3307000398635864, 0.10610000044107437, 1.7310999631881714, 1.0484999418258667, 1.0087000131607056, 1.0709999799728394, 0.42399999499320984, 0.19110000133514404, 0.7534000277519226, 1.2060999870300293, 0.9603999853134155, -0.9509999752044678, 0.5842000246047974, 1.0702999830245972, 2.6826999187469482, 2.68179988861084, 2.678100109100342, 2.677999973297119, 2.6763999462127686, 2.675299882888794, 2.6684999465942383, 2.6666998863220215, 2.6654999256134033, 2.6649999618530273, 2.6540000438690186, 2.6435000896453857, 2.641200065612793, 2.6389000415802, 2.6389000415802, 2.636199951171875, 2.63319993019104, 2.63319993019104, 2.6298999786376953, 2.628200054168701, 2.625999927520752, 2.6259000301361084, 2.6201999187469482, 2.6106998920440674, 2.610599994659424, 2.610100030899048, 2.608799934387207, 2.6034998893737793, 2.5950000286102295, 2.5950000286102295, 2.5945000648498535, 2.5267999172210693, 2.5325000286102295, 2.552500009536743, 2.388200044631958, 2.324399948120117, 2.352099895477295, 2.410900115966797, 2.402100086212158, 2.5510001182556152, 2.024899959564209, 2.0292000770568848, 2.0218000411987305, 2.074399948120117, 1.8056999444961548, 1.940500020980835, 1.2813999652862549, -0.44519999623298645, 0.6693000197410583, 1.0745999813079834, 1.7913999557495117, 0.5120000243186951, 1.4774999618530273, -1.299299955368042, 2.7802999019622803, 2.7425999641418457, 2.739300012588501, 2.7392001152038574, 2.7353999614715576, 2.7353999614715576, 2.731100082397461, 2.7200000286102295, 2.7200000286102295, 2.7130000591278076, 2.6937999725341797, 2.6937999725341797, 2.6803998947143555, 2.6803998947143555, 2.673799991607666, 2.662899971008301, 2.662899971008301, 2.662899971008301, 2.662899971008301, 2.6628000736236572, 2.660799980163574, 2.660799980163574, 2.6512999534606934, 2.648099899291992, 2.6389999389648438, 2.6389999389648438, 2.6389999389648438, 2.6389999389648438, 2.6389000415802, 2.638700008392334, 2.6036999225616455, 2.5448999404907227, 2.566699981689453, 2.437999963760376, 2.503999948501587, 2.6129000186920166, 2.483299970626831, 2.5195999145507812, 2.4714999198913574, 2.5160999298095703, 2.411400079727173, 2.5302999019622803, 2.4999001026153564, 1.7795000076293945, 2.08240008354187, 2.069999933242798, 1.8747999668121338, 2.148699998855591, 1.4289000034332275, 2.2934000492095947, 2.0420000553131104, 2.163300037384033, 1.6035000085830688, 0.9438999891281128, 0.5590999722480774, -0.12950000166893005, 0.8894000053405762, 1.3976999521255493, 1.4363000392913818, 0.8159000277519226, 2.17930006980896, 1.496500015258789, 1.0699000358581543, 0.9108999967575073, 1.030500054359436, 1.0569000244140625, -0.5123000144958496, -0.033900000154972076, 0.7806000113487244, 0.02290000021457672, 0.2985000014305115, 2.859800100326538, 2.856800079345703, 2.8524999618530273, 2.8403000831604004, 2.8322999477386475, 2.823199987411499, 2.811300039291382, 2.8043999671936035, 2.795099973678589, 2.7892000675201416, 2.770900011062622, 2.7636001110076904, 2.7636001110076904, 2.763400077819824, 2.7504000663757324, 2.7504000663757324, 2.7504000663757324, 2.7332000732421875, 2.7332000732421875, 2.7332000732421875, 2.7269999980926514, 2.724100112915039, 2.7098000049591064, 2.7098000049591064, 2.709700107574463, 2.709700107574463, 2.7049999237060547, 2.671999931335449, 2.6291000843048096, 2.613300085067749, 2.492000102996826, 2.5573999881744385, 2.45169997215271, 2.411799907684326, 2.3087000846862793, 2.2421000003814697, 2.302299976348877, 2.13100004196167, 2.579400062561035, 2.4123001098632812, 1.4105000495910645, 2.024399995803833, 2.376800060272217, 1.5478999614715576, 1.8770999908447266, 2.275599956512451, 1.8595999479293823, 1.913599967956543, -0.0869000032544136, 0.4278999865055084, 1.1845999956130981, 0.29249998927116394, 0.24310000240802765, 1.2216999530792236, 0.6442000269889832, 0.7803999781608582, 0.8125, 0.3612000048160553, 0.3910999894142151, 0.9887999892234802, -0.05950000137090683, -1.1353000402450562]}, \"token.table\": {\"Topic\": [1, 5, 7, 2, 7, 10, 1, 3, 7, 10, 8, 1, 1, 3, 7, 1, 3, 8, 10, 1, 3, 10, 1, 7, 8, 10, 1, 2, 6, 1, 2, 3, 5, 7, 9, 7, 1, 1, 2, 3, 5, 7, 8, 9, 1, 2, 3, 7, 2, 3, 5, 1, 2, 3, 7, 9, 1, 3, 4, 7, 9, 7, 1, 3, 5, 10, 5, 1, 5, 7, 10, 1, 2, 5, 10, 7, 1, 2, 3, 5, 9, 5, 7, 8, 9, 5, 9, 5, 3, 4, 5, 3, 5, 8, 9, 8, 10, 5, 5, 5, 10, 5, 10, 10, 9, 3, 3, 2, 7, 6, 4, 9, 6, 9, 7, 10, 2, 3, 4, 10, 1, 1, 1, 2, 5, 7, 2, 3, 10, 3, 10, 2, 5, 7, 1, 2, 3, 10, 10, 3, 1, 2, 3, 5, 2, 10, 1, 6, 7, 8, 9, 1, 2, 3, 4, 6, 7, 9, 1, 9, 1, 5, 10, 5, 1, 7, 9, 10, 2, 8, 6, 2, 3, 10, 6, 1, 2, 3, 9, 2, 4, 6, 1, 2, 3, 4, 5, 6, 7, 8, 9, 10, 2, 3, 5, 8, 7, 2, 5, 1, 2, 3, 5, 7, 2, 3, 5, 8, 9, 10, 6, 1, 2, 5, 7, 10, 3, 4, 9, 1, 2, 4, 1, 3, 8, 10, 2, 1, 2, 3, 4, 5, 7, 9, 10, 8, 2, 3, 4, 7, 6, 10, 2, 3, 3, 8, 9, 3, 5, 1, 4, 7, 1, 2, 3, 4, 5, 6, 7, 9, 10, 10, 10, 1, 3, 10, 2, 6, 1, 3, 5, 7, 10, 1, 1, 3, 8, 1, 5, 1, 3, 5, 4, 7, 1, 3, 5, 7, 9, 10, 10, 1, 2, 3, 4, 5, 6, 7, 8, 9, 2, 1, 7, 8, 1, 3, 7, 9, 10, 1, 4, 1, 3, 6, 1, 3, 8, 8, 2, 3, 5, 1, 2, 5, 8, 2, 2, 5, 6, 2, 4, 6, 2, 3, 4, 5, 6, 8, 5, 7, 1, 7, 2, 3, 7, 9, 1, 3, 9, 3, 8, 9, 5, 1, 2, 5, 7, 10, 3, 10, 1, 2, 5, 7, 9, 7, 1, 7, 1, 7, 8, 9, 1, 3, 7, 8, 9, 10, 1, 7, 10, 5, 5, 8, 9, 7, 2, 3, 5, 7, 9, 10, 5, 7, 9, 3, 6, 7, 8, 1, 7, 9, 6, 7, 1, 5, 7, 1, 2, 3, 7, 1, 3, 5, 8, 9, 1, 2, 3, 5, 7, 8, 1, 9, 1, 7, 1, 3, 1, 2, 3, 7, 9, 2, 2, 7, 10, 5, 7, 9, 9, 5, 10, 3, 8, 5, 1, 2, 3, 1, 2, 5, 9, 1, 4, 5, 6, 9, 9, 6, 7, 7, 1, 2, 3, 5, 1, 2, 5, 7, 2, 4, 5, 8, 10, 1, 9, 3, 4, 2, 3, 2, 3, 4, 6, 8, 10, 1, 2, 3, 5, 6, 10, 1, 6, 8, 9, 1, 2, 3, 5, 7, 8, 9, 1, 3, 4, 5, 7, 8, 1, 5, 1, 3, 9, 3, 3, 7, 2, 2, 5, 7, 8, 1, 4, 8, 9, 8, 1, 9, 3, 3, 10, 3, 1, 3, 1, 2, 3, 5, 7, 8, 9, 10, 3, 7, 1, 2, 3, 8, 9, 10, 1, 2, 5, 6, 8, 2, 3, 9, 2, 3, 4, 1, 8, 7, 1, 3, 9, 3, 9, 2, 3, 7, 9, 10, 1, 2, 3, 7, 10, 1, 2, 9, 1, 2, 3, 6, 9, 2, 2, 7, 1, 2, 3, 5, 6, 9, 3, 2, 3, 7, 9, 9, 1, 3, 4, 6, 7, 9, 6, 8, 1, 1, 3, 9, 10, 1, 2, 3, 7, 8, 9, 1, 3, 4, 7, 3, 3, 9, 10, 3, 3, 9, 2, 3, 6, 1, 2, 3, 6, 7, 1, 2, 3, 4, 6, 7, 9, 2, 3, 4, 8, 1, 2, 3, 10, 9, 1, 2, 3, 5, 6, 7, 9, 10, 1, 2, 3, 4, 5, 9, 10, 2, 4, 7, 1, 6, 7, 9, 1, 3, 1, 2, 3, 5, 7, 10, 3, 6, 1, 3, 6, 1, 2, 3, 5, 8, 9, 10, 9, 9, 5, 1, 2, 3, 4, 5, 7, 9, 10, 1, 2, 3, 5, 7, 9, 8, 1, 2, 3, 5, 10, 2, 3, 6, 7, 9, 10, 1, 1, 3, 6, 2, 1, 2, 3, 8, 2, 9, 1, 2, 3, 1, 1, 7, 10, 4, 8, 7, 10, 1, 3, 5, 10, 3, 6, 9, 1, 3, 2, 5, 10, 5, 8, 1, 2, 3, 7, 8, 9, 10, 1, 2, 3, 8, 9, 3, 4, 8, 10, 8, 1, 3, 5, 1, 2, 3, 5, 10, 5, 8, 10, 2, 3, 4, 9, 1, 2, 3, 5, 7, 10, 1, 8, 3, 7, 8, 9, 10, 8, 3, 6, 5, 7, 1, 2, 3, 5, 8, 10, 8, 8, 6, 2, 1, 2, 3, 8, 9, 6, 8, 2, 3, 6, 1, 2, 5, 7, 8, 1, 2, 4, 5, 6, 7, 9, 10, 5, 1, 2, 8, 2, 9, 7, 1, 2, 4, 5, 1, 9, 1, 2, 1, 1, 3, 5, 6, 7, 2, 6, 2, 1, 2, 3, 4, 5, 6, 8, 10, 2, 3, 4, 5, 6, 8, 9, 10, 9, 9, 1, 3, 4, 5, 7, 8, 1, 2, 4, 6, 7, 9, 1, 4, 1, 2, 7, 1, 2, 3, 7, 10, 1, 9, 1, 7, 2, 3, 4, 6, 7, 9, 3, 4, 5, 7, 9, 10, 2, 8, 1, 3, 8, 10, 2, 5, 1, 6, 1, 2, 7, 7, 2, 5, 8, 2, 3, 4, 7, 1, 9, 1, 3, 5, 7, 10, 1, 2, 3, 7, 8, 10, 3, 3, 1, 3, 7, 9, 5, 1, 3, 7, 3, 1, 5, 9, 8, 1, 7, 1, 2, 3, 7, 8, 9, 10, 9, 8, 7, 9, 1, 2, 3, 5, 8, 9, 10, 7, 1, 5, 7, 3, 10, 10, 9, 1, 8, 5, 9, 7, 9, 1, 9, 1, 4, 6, 7, 1, 3, 8, 9, 10, 9, 1, 2, 3, 10, 10, 8, 9, 8, 9, 1, 10, 8, 2, 8, 1, 9, 6, 9, 2, 7, 1, 2, 3, 9, 1, 3, 7, 3, 10, 3, 1, 5, 9, 10, 9, 3, 1, 10, 2, 3, 4, 9, 7, 8, 1, 2, 3, 7, 8, 9, 10, 1, 4, 3, 5, 6, 8, 3, 10, 1, 6, 1, 4, 7, 2, 8, 9, 4, 1, 3, 7, 1, 2, 3, 5, 7, 9, 2, 5, 9, 10, 1, 2, 5, 7, 8, 9, 10, 1, 2, 7, 9, 2, 7, 8, 1, 2, 3, 7, 8, 9, 10, 1, 2, 3, 5, 9, 10, 3, 5, 8, 1, 2, 3, 4, 5, 6, 7, 8, 9, 10, 1, 9, 6, 7, 3, 1, 2, 3, 7, 9, 10, 9, 2, 1, 7, 8, 9, 2, 1, 2, 3, 5, 7, 10, 7, 2, 3, 9, 1, 5, 6, 1, 2, 3, 5, 7, 8, 3, 6, 5, 4, 5, 2, 3, 1, 2, 3, 5, 8, 9, 10, 1, 2, 3, 7, 8, 9, 10, 1, 1, 1, 10, 1, 2, 3, 5, 7, 1, 2, 3, 5, 9, 5, 1, 5, 1, 3, 4, 7, 2, 1, 2, 3, 4, 5, 6, 7, 9, 10, 1, 2, 3, 5, 10, 6, 8, 8, 7, 7, 1, 2, 3, 4, 7, 9, 10, 8, 3, 6, 9, 1, 2, 3, 5, 8, 9, 10, 2, 2, 10], \"Freq\": [0.9119458198547363, 0.02643321081995964, 0.03964981809258461, 0.9118683338165283, 0.8553208112716675, 0.9537334442138672, 0.9010862112045288, 0.06674712896347046, 0.025957215577363968, 0.9524363279342651, 0.8725740909576416, 0.9946892261505127, 0.9712321162223816, 0.939237117767334, 0.8873154520988464, 0.4874938428401947, 0.04301416501402855, 0.41580358147621155, 0.05376770347356796, 0.32670748233795166, 0.22869522869586945, 0.43560996651649475, 0.5127249956130981, 0.045779019594192505, 0.07324643433094025, 0.36623215675354004, 0.9501883387565613, 0.9581612348556519, 0.8171724677085876, 0.2653302848339081, 0.24972261488437653, 0.35228726267814636, 0.04459332302212715, 0.00668899854645133, 0.08249764889478683, 0.9744837284088135, 0.989665150642395, 0.1757420301437378, 0.2651546597480774, 0.057039082050323486, 0.0015415968373417854, 0.13797292113304138, 0.0007707984186708927, 0.36227524280548096, 0.2908489406108856, 0.5401480197906494, 0.0727122351527214, 0.09348715841770172, 0.7230913639068604, 0.024934183806180954, 0.22440765798091888, 0.08343730866909027, 0.3598233759403229, 0.08343730866909027, 0.2138081043958664, 0.25552675127983093, 0.48071834444999695, 0.024035917595028877, 0.04005986079573631, 0.38457468152046204, 0.07210775464773178, 0.8680766224861145, 0.21748709678649902, 0.7146005034446716, 0.04142611473798752, 0.03106958605349064, 0.8636362552642822, 0.2548866868019104, 0.7264270782470703, 0.9742668271064758, 0.950670063495636, 0.2685140073299408, 0.16256971657276154, 0.5644274353981018, 0.001826625899411738, 0.8378278613090515, 0.1665431410074234, 0.23316040635108948, 0.011102876625955105, 0.5495923757553101, 0.03330862894654274, 0.8395975232124329, 0.8680191040039062, 0.9044317007064819, 0.06166579946875572, 0.9814881682395935, 0.9672072529792786, 0.9480734467506409, 0.09477122128009796, 0.37908488512039185, 0.473856121301651, 0.0794472023844719, 0.09930900484323502, 0.2780652344226837, 0.5362686514854431, 0.9676430821418762, 0.7970174551010132, 0.963540256023407, 0.906735897064209, 0.8398414850234985, 0.7967917919158936, 0.9354892373085022, 0.7966356873512268, 0.8189598321914673, 0.8321134448051453, 0.8809995055198669, 0.9958552122116089, 0.9729297161102295, 0.8379654884338379, 0.9046189785003662, 0.28786006569862366, 0.5757201313972473, 0.24731731414794922, 0.7511118054389954, 0.10625516623258591, 0.7437861561775208, 0.19916662573814392, 0.32087957859039307, 0.08851850032806396, 0.38726845383644104, 0.9914986491203308, 0.9502000212669373, 0.16147716343402863, 0.6747438311576843, 0.16147716343402863, 0.9054508805274963, 0.14393389225006104, 0.1799173653125763, 0.6477025151252747, 0.3591110110282898, 0.6104887127876282, 0.20822879672050476, 0.7392122149467468, 0.05205719918012619, 0.06426424533128738, 0.8400254845619202, 0.08262545615434647, 0.009180606342852116, 0.7969240546226501, 0.9068264365196228, 0.13455981016159058, 0.11773984134197235, 0.08409988135099411, 0.6559790968894958, 0.1931503564119339, 0.7726014256477356, 0.011287537403404713, 0.1467379778623581, 0.2426820546388626, 0.5135829448699951, 0.07901275902986526, 0.13775959610939026, 0.019679943099617958, 0.17711947858333588, 0.19679942727088928, 0.2558392584323883, 0.11807965487241745, 0.07871977239847183, 0.9469951391220093, 0.8326927423477173, 0.251746267080307, 0.7342599630355835, 0.9949162602424622, 0.8399931192398071, 0.6399672627449036, 0.27896007895469666, 0.05333060398697853, 0.02871648035943508, 0.8527466058731079, 0.08527465909719467, 0.9570314884185791, 0.18338966369628906, 0.07335586100816727, 0.7335586547851562, 0.8488909006118774, 0.03028927929699421, 0.35741350054740906, 0.12115711718797684, 0.4906863272190094, 0.9448747634887695, 0.4614275395870209, 0.5191059708595276, 0.17850790917873383, 0.2306414544582367, 0.13968271017074585, 0.08160989731550217, 0.08556941151618958, 0.08468952029943466, 0.04949387535452843, 0.0436645969748497, 0.053673356771469116, 0.052353519946336746, 0.8916963934898376, 0.06263983249664307, 0.018423479050397873, 0.025792870670557022, 0.974366307258606, 0.12638013064861298, 0.7582808136940002, 0.06041216850280762, 0.595491349697113, 0.07767278701066971, 0.23301836848258972, 0.025890929624438286, 0.6042360663414001, 0.1555817425251007, 0.06512723863124847, 0.003618180053308606, 0.04703633859753609, 0.13025447726249695, 0.9330462217330933, 0.030448878183960915, 0.24359102547168732, 0.517630934715271, 0.1826932728290558, 0.02029925212264061, 0.16055193543434143, 0.4816558063030243, 0.32110387086868286, 0.15109668672084808, 0.15109668672084808, 0.45329004526138306, 0.050626080483198166, 0.010547099635004997, 0.8543151021003723, 0.08437679708003998, 0.969685971736908, 0.0440237820148468, 0.6798198819160461, 0.033365391194820404, 0.007414531894028187, 0.2020459920167923, 0.0013902246719226241, 0.012975430116057396, 0.01853632926940918, 0.9679568409919739, 0.9238640069961548, 0.2274836003780365, 0.34122541546821594, 0.3980962932109833, 0.5951677560806274, 0.3826078474521637, 0.36630529165267944, 0.6279519200325012, 0.30757808685302734, 0.05592329055070877, 0.6151561737060547, 0.1936938315629959, 0.7747753262519836, 0.31120753288269043, 0.4149433672428131, 0.20747168362140656, 0.11754462122917175, 0.2938615381717682, 0.17683248221874237, 0.06444332003593445, 0.06135004386305809, 0.07784753292798996, 0.028355062007904053, 0.10671813786029816, 0.07269206643104553, 0.9512617588043213, 0.9527515172958374, 0.49179744720458984, 0.12899604439735413, 0.3708636462688446, 0.19621343910694122, 0.6867470145225525, 0.7618105411529541, 0.08706406503915787, 0.029021354392170906, 0.10157474130392075, 0.021766016259789467, 0.9840262532234192, 0.18109510838985443, 0.804867148399353, 0.987899124622345, 0.25988224148750305, 0.7146761417388916, 0.713316798210144, 0.21948209404945374, 0.06096724793314934, 0.6787181496620178, 0.19391946494579315, 0.17706570029258728, 0.030986497178673744, 0.398397833108902, 0.1903456300497055, 0.17706570029258728, 0.02213321253657341, 0.9499314427375793, 0.016670921817421913, 0.41260531544685364, 0.06946217268705368, 0.012503191828727722, 0.1222534254193306, 0.09446855634450912, 0.0013892435235902667, 0.013892434537410736, 0.2556208074092865, 0.8977857232093811, 0.17346899211406708, 0.6465662717819214, 0.17346899211406708, 0.03919823095202446, 0.7839646339416504, 0.01959911547601223, 0.13719381392002106, 0.9495284557342529, 0.6880456805229187, 0.2580171227455139, 0.8025766611099243, 0.19261838495731354, 0.926505982875824, 0.11640661209821701, 0.13757145404815674, 0.7428858280181885, 0.9680811166763306, 0.23749378323554993, 0.14456142485141754, 0.6092231869697571, 0.13526366651058197, 0.5009765028953552, 0.3456737995147705, 0.010019530542194843, 0.9329458475112915, 0.9581769108772278, 0.7861636281013489, 0.15723273158073425, 0.21636202931404114, 0.5679503679275513, 0.1893167793750763, 0.13780313730239868, 0.09186875820159912, 0.11942937970161438, 0.08268187940120697, 0.4409700334072113, 0.12861625850200653, 0.7807368040084839, 0.11153382807970047, 0.10289286077022552, 0.8745893239974976, 0.6282709240913391, 0.17451970279216766, 0.08144252747297287, 0.11634647101163864, 0.2805573642253876, 0.7013933658599854, 0.015586519613862038, 0.9973145127296448, 0.7557536363601685, 0.22392699122428894, 0.8397459387779236, 0.003466939087957144, 0.27042123675346375, 0.6379168033599854, 0.05200408771634102, 0.03466939181089401, 0.8947574496269226, 0.7967293858528137, 0.8036709427833557, 0.11190355569124222, 0.03051915019750595, 0.040692199021577835, 0.8490601181983948, 0.973730206489563, 0.1334269493818283, 0.8450373411178589, 0.030884766951203346, 0.8338887095451355, 0.12353906780481339, 0.015442383475601673, 0.7607167959213257, 0.08024438470602036, 0.012839101254940033, 0.022468427196145058, 0.060985732823610306, 0.06419550627470016, 0.4585840404033661, 0.058048609644174576, 0.4818034768104553, 0.9975907802581787, 0.27042511105537415, 0.7153180241584778, 0.00872339028865099, 0.8943915367126465, 0.465182900428772, 0.21863596141338348, 0.04651828855276108, 0.08373292535543442, 0.144206702709198, 0.04651828855276108, 0.09391669929027557, 0.6808960437774658, 0.21131257712841034, 0.03512527793645859, 0.7142139673233032, 0.11708425730466843, 0.1287926882505417, 0.9502594470977783, 0.17092464864253998, 0.7406734824180603, 0.9853202104568481, 0.015276282094419003, 0.9745414853096008, 0.7706966996192932, 0.15413933992385864, 0.45504435896873474, 0.013685544021427631, 0.3147675096988678, 0.2155473232269287, 0.4670325517654419, 0.06746025383472443, 0.0985957607626915, 0.30097654461860657, 0.06746025383472443, 0.10700302571058273, 0.4708133339881897, 0.07490211725234985, 0.3424097001552582, 0.005350151564925909, 0.9684023261070251, 0.906806468963623, 0.06477189064025879, 0.967275857925415, 0.8382138013839722, 0.952049732208252, 0.03592640534043312, 0.3396260440349579, 0.5943455696105957, 0.053066570311784744, 0.7285149097442627, 0.26491451263427734, 0.8984692692756653, 0.21574367582798004, 0.21574367582798004, 0.5663271546363831, 0.14600737392902374, 0.0973382517695427, 0.7300368547439575, 0.848808765411377, 0.9901710748672485, 0.9536511301994324, 0.005247543100267649, 0.9917856454849243, 0.968658983707428, 0.24589748680591583, 0.14414680004119873, 0.6020248532295227, 0.224600687623024, 0.057455990463495255, 0.7155882120132446, 0.832054853439331, 0.30216264724731445, 0.30216264724731445, 0.3453287184238434, 0.7855983972549438, 0.19639959931373596, 0.8485830426216125, 0.9370762705802917, 0.060571469366550446, 0.9978783130645752, 0.027861090376973152, 0.825384795665741, 0.0835832729935646, 0.059204816818237305, 0.3881338834762573, 0.012520448304712772, 0.08764313906431198, 0.5133383870124817, 0.4706125855445862, 0.4706125855445862, 0.05301084741950035, 0.13252712786197662, 0.7686573266983032, 0.9542802572250366, 0.05022527649998665, 0.2682945728302002, 0.7042732238769531, 0.7748159170150757, 0.216948464512825, 0.16948291659355164, 0.1506514847278595, 0.22597722709178925, 0.05649430677294731, 0.1506514847278595, 0.22597722709178925, 0.02767188474535942, 0.08762763440608978, 0.052269116044044495, 0.10607555508613586, 0.6180053949356079, 0.10915020853281021, 0.06479569524526596, 0.23893411457538605, 0.5183655619621277, 0.17818816006183624, 0.2027568221092224, 0.3496820628643036, 0.041139066219329834, 0.15574075281620026, 0.19981831312179565, 0.035262055695056915, 0.014692523516714573, 0.02642880752682686, 0.132144033908844, 0.587306797504425, 0.05579414963722229, 0.15563631057739258, 0.041111476719379425, 0.9469300508499146, 0.8960332870483398, 0.32639679312705994, 0.6688458919525146, 0.880336582660675, 0.9605559706687927, 0.9504370093345642, 0.8682256937026978, 0.9407272338867188, 0.22352363169193268, 0.776450514793396, 0.06442638486623764, 0.9341826438903809, 0.10144489258527756, 0.3043346703052521, 0.20288978517055511, 0.3043346703052521, 0.9674666523933411, 0.08841324597597122, 0.7957192659378052, 0.9714968800544739, 0.8784692883491516, 0.10980866104364395, 0.9773813486099243, 0.9501705169677734, 0.8813532590866089, 0.3387184739112854, 0.037339042872190475, 0.22136718034744263, 0.05867563933134079, 0.0400061160326004, 0.06134271249175072, 0.05600856617093086, 0.18669521808624268, 0.9307038187980652, 0.04898441210389137, 0.39088279008865356, 0.059054236859083176, 0.18278691172599792, 0.01687263883650303, 0.08155108988285065, 0.26996222138404846, 0.0021848524920642376, 0.012796993367373943, 0.19008216261863708, 0.7943499088287354, 0.00031212178873829544, 0.10082419961690903, 0.8570057153701782, 0.8322029113769531, 0.0011451591271907091, 0.038649119436740875, 0.9599296450614929, 0.953096866607666, 0.988678514957428, 0.838008463382721, 0.07428891956806183, 0.8468937277793884, 0.07428891956806183, 0.8580772876739502, 0.12258247286081314, 0.20301324129104614, 0.10150662064552307, 0.5516663789749146, 0.0353066511452198, 0.10591994971036911, 0.04859882965683937, 0.006942689884454012, 0.6040140390396118, 0.2568795382976532, 0.08331228047609329, 0.9713682532310486, 0.9412358999252319, 0.9673729538917542, 0.23950126767158508, 0.28095340728759766, 0.2348954826593399, 0.2164722979068756, 0.027634762227535248, 0.9698811173439026, 0.9320864081382751, 0.055371467024087906, 0.06406164169311523, 0.1921849250793457, 0.08870073407888412, 0.6061216592788696, 0.009855637326836586, 0.039422549307346344, 0.9756980538368225, 0.16234205663204193, 0.2705700993537903, 0.08117102831602097, 0.4734976589679718, 0.8616324663162231, 0.17734231054782867, 0.10344967991113663, 0.02955705113708973, 0.07389263063669205, 0.10344967991113663, 0.5172483921051025, 0.5214016437530518, 0.3476010859012604, 0.9712972044944763, 0.8686701655387878, 0.08804089576005936, 0.005869393236935139, 0.02934696525335312, 0.0752013623714447, 0.09255552291870117, 0.6305345296859741, 0.1272638440132141, 0.01735416054725647, 0.05784720554947853, 0.9431586265563965, 0.17179395258426666, 0.3435879051685333, 0.3435879051685333, 0.9472119808197021, 0.26035284996032715, 0.7159703373908997, 0.9535245895385742, 0.9393677711486816, 0.16197794675827026, 0.8301370143890381, 0.8973793983459473, 0.06802816689014435, 0.8843661546707153, 0.05006188526749611, 0.4755879044532776, 0.2377939522266388, 0.13767017424106598, 0.10012377053499222, 0.0035116244107484818, 0.014046497642993927, 0.36169731616973877, 0.03862787038087845, 0.14046497642993927, 0.30551132559776306, 0.1334417313337326, 0.2312728762626648, 0.25229769945144653, 0.03504134714603424, 0.4765622913837433, 0.9942891001701355, 0.00781951379030943, 0.9696196913719177, 0.023458540439605713, 0.8096833229064941, 0.16176806390285492, 0.09125377982854843, 0.1742117553949356, 0.21154284477233887, 0.004147898871451616, 0.0290352925658226, 0.17006385326385498, 0.15347225964069366, 0.36625418066978455, 0.23933441936969757, 0.019944533705711365, 0.19763220846652985, 0.08159127831459045, 0.01087883673608303, 0.08159127831459045, 0.16140881180763245, 0.7789729833602905, 0.05614219605922699, 0.3195468485355377, 0.02250329777598381, 0.5895864367485046, 0.06300923228263855, 0.810766875743866, 0.18017041683197021, 0.06766537576913834, 0.07562600821256638, 0.02587205544114113, 0.10547837615013123, 0.03383268788456917, 0.6905848383903503, 0.26602309942245483, 0.6650577187538147, 0.8880755305290222, 0.0557369589805603, 0.05202116072177887, 0.07881416380405426, 0.2074667066335678, 0.2387605607509613, 0.10315383225679398, 0.1332886666059494, 0.003477095626294613, 0.23412443697452545, 0.8110113739967346, 0.8617405891418457, 0.8400225043296814, 0.04628516733646393, 0.31425192952156067, 0.08380050957202911, 0.2640690505504608, 0.17101150751113892, 0.007308184169232845, 0.0365409217774868, 0.07649233192205429, 0.21656039357185364, 0.33505570888519287, 0.0612906776368618, 0.27376502752304077, 0.04086045175790787, 0.0735488086938858, 0.9667527675628662, 0.07047101110219955, 0.4463164210319519, 0.38011637330055237, 0.042709704488515854, 0.05765810236334801, 0.27308958768844604, 0.22632767260074615, 0.3254629373550415, 0.03553905338048935, 0.13841526210308075, 0.8184057474136353, 0.9640583992004395, 0.10781002789735794, 0.8624802231788635, 0.9330896735191345, 0.995403528213501, 0.01595582626760006, 0.24731530249118805, 0.1914699226617813, 0.5424981117248535, 0.9510619640350342, 0.8321622610092163, 0.7694051861763, 0.18273372948169708, 0.04808782413601875, 0.9502201676368713, 0.037470001727342606, 0.8618100881576538, 0.037470001727342606, 0.2518923878669739, 0.6297309398651123, 0.8681308627128601, 0.9972363710403442, 0.8588495850563049, 0.11003055423498154, 0.02139483019709587, 0.006112808361649513, 0.8946337103843689, 0.7097132205963135, 0.2365710735321045, 0.9030808806419373, 0.09193038940429688, 0.3715486526489258, 0.6144843101501465, 0.9527681469917297, 0.9700531959533691, 0.9677592515945435, 0.001529003377072513, 0.01987704262137413, 0.6880515217781067, 0.11161724478006363, 0.11314624547958374, 0.06268913298845291, 0.001529003377072513, 0.683539092540741, 0.05528625100851059, 0.08544238656759262, 0.0904684066772461, 0.08041636645793915, 0.07399797439575195, 0.18807819485664368, 0.6968142986297607, 0.040082238614559174, 0.9846347570419312, 0.989640474319458, 0.3686870336532593, 0.623931884765625, 0.13115617632865906, 0.5421121716499329, 0.20984987914562225, 0.04371872544288635, 0.061206214129924774, 0.016184773296117783, 0.9602965712547302, 0.021579697728157043, 0.169621080160141, 0.14538949728012085, 0.43616849184036255, 0.21808424592018127, 0.17111997306346893, 0.41449061036109924, 0.1749226450920105, 0.08746132254600525, 0.05703999102115631, 0.09126398712396622, 0.13392019271850586, 0.8570892214775085, 0.18643388152122498, 0.07838696986436844, 0.006355700548738241, 0.6991270184516907, 0.027541369199752808, 0.8725370764732361, 0.26627790927886963, 0.6656947731971741, 0.9238694310188293, 0.9209295511245728, 0.24034124612808228, 0.004577928688377142, 0.4509259760379791, 0.029756534844636917, 0.19913989305496216, 0.07553581893444061, 0.9973301887512207, 0.9959109425544739, 0.8148872256278992, 0.9448444247245789, 0.17812232673168182, 0.310441792011261, 0.015267628245055676, 0.0916057676076889, 0.3969583511352539, 0.8944849967956543, 0.10012891888618469, 0.04298873618245125, 0.24360284209251404, 0.7021493911743164, 0.1140746921300888, 0.3153829872608185, 0.37577545642852783, 0.18788772821426392, 0.013420552015304565, 0.15447363257408142, 0.4043574333190918, 0.15901696681976318, 0.031803395599126816, 0.054520104080438614, 0.08178015798330307, 0.06815013289451599, 0.045433420687913895, 0.896003246307373, 0.9469752907752991, 0.898589551448822, 0.9952128529548645, 0.254402756690979, 0.7268649935722351, 0.8381084203720093, 0.11166321486234665, 0.7397688031196594, 0.11166321486234665, 0.027915803715586662, 0.4346613883972168, 0.5490459203720093, 0.12299951910972595, 0.860996663570404, 0.9531665444374084, 0.2598319351673126, 0.3065432906150818, 0.13721461594104767, 0.08466433733701706, 0.21020111441612244, 0.1549641489982605, 0.7748207449913025, 0.923637866973877, 0.18082673847675323, 0.0826636478304863, 0.12399547547101974, 0.0826636478304863, 0.1343284249305725, 0.14982786774635315, 0.14466138184070587, 0.10332956165075302, 0.24185384809970856, 0.02037718892097473, 0.40854594111442566, 0.07983849197626114, 0.22982797026634216, 0.018706927075982094, 0.0006681045633740723, 0.00033405228168703616, 0.8099369406700134, 0.9669839143753052, 0.08966652303934097, 0.014157871715724468, 0.004719290416687727, 0.004719290416687727, 0.8636301755905151, 0.018877161666750908, 0.03065950609743595, 0.08254482597112656, 0.3101326823234558, 0.27711474895477295, 0.23937998712062836, 0.05896058678627014, 0.4480501115322113, 0.4480501115322113, 0.08894576877355576, 0.04447288438677788, 0.8449848294258118, 0.1727089136838913, 0.26116958260536194, 0.12637236714363098, 0.3833295404911041, 0.05335722491145134, 0.28297266364097595, 0.6945692896842957, 0.9456258416175842, 0.029550807550549507, 0.23911026120185852, 0.004194916691631079, 0.12305089086294174, 0.3943221867084503, 0.08949156105518341, 0.14822039008140564, 0.19735755026340485, 0.30700063705444336, 0.1315716952085495, 0.10964307934045792, 0.142535999417305, 0.09867877513170242, 0.040357694029808044, 0.9416795372962952, 0.13313384354114532, 0.26094233989715576, 0.516559362411499, 0.08520566672086716, 0.8975563049316406, 0.9068747758865356, 0.3265779912471771, 0.571511447429657, 0.3237062990665436, 0.06814869493246078, 0.5792638659477234, 0.8552590012550354, 0.89661705493927, 0.03788522630929947, 0.06314204633235931, 0.20179720222949982, 0.2522464990615845, 0.504492998123169, 0.9910176396369934, 0.1946329027414322, 0.8028607368469238, 0.13863806426525116, 0.7347817420959473, 0.09011474251747131, 0.027727611362934113, 0.9536058306694031, 0.08304078876972198, 0.7266069054603577, 0.0034600328654050827, 0.10034095495939255, 0.020760197192430496, 0.06574063003063202, 0.9151118993759155, 0.9559182524681091, 0.4295027554035187, 0.5689517259597778, 0.22579404711723328, 0.7741510272026062, 0.895599365234375, 0.8485614061355591, 0.12058503925800323, 0.03126278892159462, 0.894807755947113, 0.9037743806838989, 0.050209689885377884, 0.050209689885377884, 0.8881850838661194, 0.3934396803379059, 0.604966402053833, 0.09187304973602295, 0.09187304973602295, 0.05906124785542488, 0.19030846655368805, 0.4068663716316223, 0.0984354093670845, 0.05249888449907303, 0.968303918838501, 0.9674543738365173, 0.09675751626491547, 0.8708176612854004, 0.17747965455055237, 0.003169279545545578, 0.5134233236312866, 0.019015677273273468, 0.003169279545545578, 0.15212541818618774, 0.129940465092659, 0.8378278613090515, 0.16313821077346802, 0.01254909299314022, 0.8156910538673401, 0.4551107883453369, 0.5397825241088867, 0.9487498998641968, 0.8096923828125, 0.0776594877243042, 0.8930841088294983, 0.9482977986335754, 0.8322910666465759, 0.8232237696647644, 0.14967703819274902, 0.1950226128101349, 0.7800904512405396, 0.18512344360351562, 0.26446205377578735, 0.13223102688789368, 0.39669308066368103, 0.7186132669448853, 0.0745730772614479, 0.14236678183078766, 0.01355874165892601, 0.05423496663570404, 0.8098733425140381, 0.23405738174915314, 0.08916471898555756, 0.033436767756938934, 0.6352986097335815, 0.8181576728820801, 0.7462426424026489, 0.234115332365036, 0.9283715486526489, 0.06684275716543198, 0.16737405955791473, 0.8289000988006592, 0.9881281852722168, 0.9235092401504517, 0.9867157340049744, 0.9725285172462463, 0.832017183303833, 0.5235540270805359, 0.34903600811958313, 0.20619142055511475, 0.7560352087020874, 0.050725340843200684, 0.03804400563240051, 0.7735614776611328, 0.1268133521080017, 0.23835691809654236, 0.18728043138980865, 0.5618413090705872, 0.9505332708358765, 0.9706027507781982, 0.8935709595680237, 0.01958354562520981, 0.13708481192588806, 0.16646012663841248, 0.6658405065536499, 0.8103744387626648, 0.9150193929672241, 0.42385584115982056, 0.5685871243476868, 0.2338714748620987, 0.4677429497241974, 0.111367367208004, 0.1893245279788971, 0.1057368814945221, 0.8761056065559387, 0.001984630012884736, 0.5060806274414062, 0.08930835127830505, 0.01587704010307789, 0.24609412252902985, 0.01786166988313198, 0.12503169476985931, 0.13438118994235992, 0.6719059348106384, 0.38537248969078064, 0.15946447849273682, 0.45181602239608765, 0.9674674272537231, 0.8060089945793152, 0.1738450825214386, 0.2664870321750641, 0.666217565536499, 0.520681619644165, 0.3905111849308014, 0.8785598278045654, 0.008856255561113358, 0.2125501185655594, 0.7793504595756531, 0.8475364446640015, 0.06420402228832245, 0.9202576875686646, 0.021401342004537582, 0.2461371123790741, 0.1722959727048874, 0.1378367841243744, 0.044304680079221725, 0.08860936015844345, 0.30521002411842346, 0.11704249680042267, 0.535931408405304, 0.17864380776882172, 0.16632354259490967, 0.7482030987739563, 0.06885304301977158, 0.03213142231106758, 0.022951016202569008, 0.01377060916274786, 0.08262365311384201, 0.03672162443399429, 0.9350796341896057, 0.03596460074186325, 0.012263433076441288, 0.9851624965667725, 0.061175331473350525, 0.856454610824585, 0.8812848925590515, 0.28017571568489075, 0.004377745557576418, 0.5297071933746338, 0.021888727322220802, 0.056910689920186996, 0.056910689920186996, 0.043777454644441605, 0.23051781952381134, 0.11368001997470856, 0.1894666999578476, 0.3663022816181183, 0.07262890040874481, 0.02842000499367714, 0.9062154293060303, 0.8637420535087585, 0.968220055103302, 0.16598713397979736, 0.08299356698989868, 0.1544310748577118, 0.10295404493808746, 0.09454963356256485, 0.05672978237271309, 0.1544310748577118, 0.011556066572666168, 0.15758273005485535, 0.019960477948188782, 0.9687007665634155, 0.9674172401428223, 0.1592760980129242, 0.7963804602622986, 0.8949421644210815, 0.028531454503536224, 0.0021947273053228855, 0.9459274411201477, 0.017557818442583084, 0.0065841819159686565, 0.9807857871055603, 0.8494013547897339, 0.89784836769104, 0.044353533536195755, 0.842717170715332, 0.044353533536195755, 0.9682648181915283, 0.953387975692749, 0.4039318263530731, 0.28717029094696045, 0.11676154285669327, 0.03786860778927803, 0.13254012167453766, 0.018934303894639015, 0.8548300862312317, 0.8859074711799622, 0.04662670940160751, 0.967235803604126, 0.5468388795852661, 0.12951447069644928, 0.31659093499183655, 0.4197733998298645, 0.058075446635484695, 0.4564526081085205, 0.023433951660990715, 0.025471685454249382, 0.017320746555924416, 0.33074134588241577, 0.6247336268424988, 0.9514188766479492, 0.8709181547164917, 0.12784120440483093, 0.8975896239280701, 0.9642545580863953, 0.16896222531795502, 0.09386789798736572, 0.17834900319576263, 0.009386789985001087, 0.056320738047361374, 0.48811307549476624, 0.9902125597000122, 0.1696983128786087, 0.19091060757637024, 0.14848601818084717, 0.00848491583019495, 0.15697094798088074, 0.24606256186962128, 0.08060669898986816, 0.9531417489051819, 0.9603074789047241, 0.9954885840415955, 0.8182278275489807, 0.06609265506267548, 0.2738124430179596, 0.002360451966524124, 0.6538451910018921, 0.002360451966524124, 0.33742210268974304, 0.086317278444767, 0.227563738822937, 0.0706232339143753, 0.2746458947658539, 0.8402928113937378, 0.9502145051956177, 0.8961380124092102, 0.9456697702407837, 0.05158198997378349, 0.7088704109191895, 0.2756718397140503, 0.8976114988327026, 0.052145518362522125, 0.14169977605342865, 0.10013451427221298, 0.27281931042671204, 0.050256188958883286, 0.21236073970794678, 0.08161907643079758, 0.001511464361101389, 0.08766493201255798, 0.06988026201725006, 0.02911677584052086, 0.06988026201725006, 0.25622764229774475, 0.5765121579170227, 0.9325368404388428, 0.9891172647476196, 0.9679633378982544, 0.9003419876098633, 0.9741633534431458, 0.11251270771026611, 0.13296957314014435, 0.051142141222953796, 0.22502541542053223, 0.4193655550479889, 0.030685285106301308, 0.030685285106301308, 0.888178825378418, 0.9871016144752502, 0.9588168859481812, 0.9675530791282654, 0.518328070640564, 0.12131083011627197, 0.05514128506183624, 0.0036760857328772545, 0.014704342931509018, 0.09190214425325394, 0.19483254849910736, 0.9411595463752747, 0.05976250022649765, 0.8964375257492065], \"Term\": [\"1\", \"1\", \"1\", \"1/3\", \"13\", \"14\", \"2\", \"2\", \"2\", \"2015\", \"2026\", \"3\", \"30\", \"360\", \"3rd\", \"4\", \"4\", \"4\", \"4\", \"48\", \"48\", \"48\", \"5\", \"5\", \"5\", \"5\", \"7\", \"9v\", \"A++++\", \"AA\", \"AA\", \"AA\", \"AA\", \"AA\", \"AA\", \"AMAZON\", \"Alkaline\", \"Amazon\", \"Amazon\", \"Amazon\", \"Amazon\", \"Amazon\", \"Amazon\", \"Amazon\", \"AmazonBasics\", \"AmazonBasics\", \"AmazonBasics\", \"AmazonBasics\", \"Basic\", \"Basic\", \"Basic\", \"Basics\", \"Basics\", \"Basics\", \"Basics\", \"Basics\", \"Batteries\", \"Batteries\", \"Batteries\", \"Batteries\", \"Batteries\", \"Brand\", \"Christmas\", \"Christmas\", \"Christmas\", \"Christmas\", \"Club\", \"Costco\", \"Costco\", \"Deal\", \"Dollar\", \"Duracell\", \"Duracell\", \"Duracell\", \"Duracell\", \"Energenizer\", \"Energizer\", \"Energizer\", \"Energizer\", \"Energizer\", \"Energizer\", \"GREAT\", \"Good\", \"Great\", \"Great\", \"Kirkland\", \"Love\", \"O\", \"PRICE\", \"PRICE\", \"PRICE\", \"Prime\", \"Prime\", \"Prime\", \"Prime\", \"Product\", \"Quality\", \"Ray\", \"Sam\", \"Sams\", \"Store\", \"Time\", \"Tree\", \"USA\", \"World\", \"XBox\", \"Xbox\", \"absolutely\", \"acceptable\", \"activate\", \"ad\", \"ad\", \"advertise\", \"advertise\", \"afford\", \"afford\", \"affordable\", \"affordable\", \"affordable\", \"affordable\", \"ago\", \"alarm\", \"alkaline\", \"alkaline\", \"alkaline\", \"allow\", \"alot\", \"alot\", \"alot\", \"alternative\", \"alternative\", \"amazing\", \"amazing\", \"amazing\", \"amazon\", \"amazon\", \"amazon\", \"amazon\", \"anyways\", \"apparently\", \"appear\", \"appear\", \"appear\", \"appear\", \"approximately\", \"approximately\", \"arrive\", \"arrive\", \"arrive\", \"arrive\", \"arrive\", \"ask\", \"ask\", \"ask\", \"ask\", \"ask\", \"ask\", \"ask\", \"assume\", \"attention\", \"average\", \"average\", \"awesome\", \"b\", \"bad\", \"bad\", \"bad\", \"bad\", \"band\", \"band\", \"bang\", \"bargain\", \"bargain\", \"bargain\", \"basement\", \"basic\", \"basic\", \"basic\", \"basic\", \"basics\", \"batt\", \"batt\", \"battery\", \"battery\", \"battery\", \"battery\", \"battery\", \"battery\", \"battery\", \"battery\", \"battery\", \"battery\", \"beat\", \"beat\", \"beat\", \"beat\", \"begin\", \"benefit\", \"benefit\", \"better\", \"better\", \"better\", \"better\", \"better\", \"big\", \"big\", \"big\", \"big\", \"big\", \"big\", \"bike\", \"bit\", \"bit\", \"bit\", \"bit\", \"bit\", \"book\", \"book\", \"book\", \"bother\", \"bother\", \"bother\", \"box\", \"box\", \"box\", \"box\", \"brainer\", \"brand\", \"brand\", \"brand\", \"brand\", \"brand\", \"brand\", \"brand\", \"brand\", \"brick\", \"brightness\", \"bring\", \"bring\", \"bring\", \"buck\", \"buck\", \"bulk\", \"bulk\", \"bunch\", \"bunch\", \"bunch\", \"bunny\", \"bunny\", \"business\", \"business\", \"business\", \"buy\", \"buy\", \"buy\", \"buy\", \"buy\", \"buy\", \"buy\", \"buy\", \"buy\", \"cabinet\", \"cam\", \"camera\", \"camera\", \"camera\", \"camping\", \"camping\", \"candle\", \"candle\", \"candle\", \"candle\", \"candle\", \"capacity\", \"car\", \"car\", \"cardboard\", \"cent\", \"cent\", \"change\", \"change\", \"change\", \"channel\", \"channel\", \"charge\", \"charge\", \"charge\", \"charge\", \"charge\", \"charge\", \"charm\", \"cheap\", \"cheap\", \"cheap\", \"cheap\", \"cheap\", \"cheap\", \"cheap\", \"cheap\", \"cheap\", \"cheaply\", \"check\", \"check\", \"check\", \"child\", \"child\", \"child\", \"child\", \"christmas\", \"claim\", \"claim\", \"clock\", \"clock\", \"closet\", \"come\", \"come\", \"come\", \"compact\", \"comparable\", \"comparable\", \"comparable\", \"compare\", \"compare\", \"compare\", \"compare\", \"compete\", \"competition\", \"competitive\", \"competitive\", \"complain\", \"complain\", \"complain\", \"complaint\", \"complaint\", \"complaint\", \"complaint\", \"complaint\", \"complaint\", \"consistently\", \"consistently\", \"contact\", \"contact\", \"continue\", \"continue\", \"continue\", \"continue\", \"control\", \"control\", \"control\", \"controller\", \"convenient\", \"convenient\", \"coppertop\", \"cost\", \"cost\", \"cost\", \"cost\", \"cost\", \"costly\", \"counter\", \"couple\", \"couple\", \"couple\", \"couple\", \"create\", \"customer\", \"damage\", \"damage\", \"date\", \"date\", \"date\", \"date\", \"day\", \"day\", \"day\", \"day\", \"day\", \"day\", \"dead\", \"dead\", \"dead\", \"deal\", \"decent\", \"decent\", \"decent\", \"decision\", \"definitely\", \"definitely\", \"definitely\", \"definitely\", \"definitely\", \"definitely\", \"deliver\", \"deliver\", \"deliver\", \"delivery\", \"delivery\", \"delivery\", \"delivery\", \"depend\", \"dependable\", \"dependable\", \"describe\", \"describe\", \"detector\", \"determine\", \"determine\", \"device\", \"device\", \"device\", \"device\", \"die\", \"die\", \"die\", \"die\", \"die\", \"difference\", \"difference\", \"difference\", \"difference\", \"difference\", \"difficult\", \"digital\", \"digital\", \"dim\", \"directly\", \"disappointed\", \"disappointed\", \"dollar\", \"dollar\", \"dollar\", \"door\", \"door\", \"dry\", \"dud\", \"dud\", \"dud\", \"durability\", \"durability\", \"durability\", \"duracel\", \"duracell\", \"duty\", \"easy\", \"easy\", \"effective\", \"electronic\", \"electronic\", \"electronic\", \"energizer\", \"energizer\", \"energizer\", \"evaluate\", \"everyday\", \"everyday\", \"everyday\", \"exactly\", \"exactly\", \"excelent\", \"excellent\", \"excellent\", \"expect\", \"expensive\", \"expensive\", \"expensive\", \"expensive\", \"experience\", \"experience\", \"experience\", \"experience\", \"extensive\", \"extensive\", \"extremely\", \"extremely\", \"extremely\", \"fail\", \"fail\", \"fair\", \"fair\", \"fan\", \"fan\", \"fantastic\", \"fantastic\", \"fantastic\", \"fantastic\", \"fantastic\", \"fantastic\", \"far\", \"far\", \"far\", \"far\", \"far\", \"far\", \"fast\", \"fast\", \"fast\", \"fast\", \"find\", \"find\", \"find\", \"find\", \"find\", \"find\", \"find\", \"fine\", \"fine\", \"fine\", \"fine\", \"fine\", \"fine\", \"fire\", \"fix\", \"flashlight\", \"flashlight\", \"folk\", \"forever\", \"forget\", \"form\", \"forward\", \"fraction\", \"fraction\", \"free\", \"free\", \"friendly\", \"friendly\", \"friendly\", \"friendly\", \"frustration\", \"functional\", \"functional\", \"gadget\", \"game\", \"game\", \"gaming\", \"garbage\", \"gear\", \"get\", \"get\", \"get\", \"get\", \"get\", \"get\", \"get\", \"get\", \"gift\", \"gift\", \"go\", \"go\", \"go\", \"go\", \"go\", \"go\", \"good\", \"good\", \"good\", \"good\", \"good\", \"grab\", \"grab\", \"grandchild\", \"great\", \"great\", \"great\", \"green\", \"group\", \"guarantee\", \"hand\", \"hand\", \"hand\", \"handy\", \"handy\", \"happy\", \"happy\", \"happy\", \"happy\", \"happy\", \"have\", \"have\", \"have\", \"have\", \"have\", \"headphone\", \"hesitant\", \"hey\", \"high\", \"high\", \"high\", \"high\", \"high\", \"higher\", \"highly\", \"highly\", \"hold\", \"hold\", \"hold\", \"hold\", \"hold\", \"hold\", \"holiday\", \"home\", \"home\", \"home\", \"home\", \"hooked\", \"hope\", \"hope\", \"hope\", \"hope\", \"hope\", \"hope\", \"hopefully\", \"hopefully\", \"horrible\", \"hour\", \"hour\", \"hour\", \"hour\", \"house\", \"house\", \"house\", \"house\", \"house\", \"house\", \"hrs\", \"hurt\", \"hurt\", \"hurt\", \"husband\", \"idea\", \"idea\", \"ill\", \"individually\", \"inexpensive\", \"inexpensive\", \"insulin\", \"intend\", \"intend\", \"issue\", \"issue\", \"issue\", \"issue\", \"issue\", \"item\", \"item\", \"item\", \"item\", \"item\", \"item\", \"item\", \"job\", \"job\", \"job\", \"job\", \"keyboard\", \"kid\", \"kid\", \"kid\", \"kill\", \"know\", \"know\", \"know\", \"know\", \"know\", \"know\", \"know\", \"know\", \"last\", \"last\", \"last\", \"last\", \"last\", \"last\", \"last\", \"lasting\", \"lasting\", \"lasting\", \"leak\", \"leak\", \"leak\", \"leak\", \"led\", \"led\", \"life\", \"life\", \"life\", \"life\", \"life\", \"life\", \"lifetime\", \"lifetime\", \"light\", \"light\", \"light\", \"like\", \"like\", \"like\", \"like\", \"like\", \"like\", \"like\", \"liquid\", \"living\", \"logo\", \"long\", \"long\", \"long\", \"long\", \"long\", \"long\", \"long\", \"long\", \"longer\", \"longer\", \"longer\", \"longer\", \"longer\", \"longer\", \"loose\", \"lot\", \"lot\", \"lot\", \"lot\", \"lot\", \"love\", \"love\", \"love\", \"love\", \"love\", \"m\", \"mAh\", \"mainly\", \"mainly\", \"maintain\", \"major\", \"make\", \"make\", \"make\", \"make\", \"market\", \"material\", \"maybe\", \"maybe\", \"maybe\", \"mic\", \"miss\", \"miss\", \"miss\", \"model\", \"model\", \"mom\", \"money\", \"month\", \"month\", \"month\", \"month\", \"monthly\", \"motion\", \"motion\", \"mouse\", \"mouse\", \"name\", \"name\", \"namebrand\", \"national\", \"neatly\", \"need\", \"need\", \"need\", \"need\", \"need\", \"need\", \"need\", \"new\", \"new\", \"new\", \"new\", \"new\", \"nice\", \"nice\", \"nice\", \"nice\", \"nicely\", \"night\", \"not\", \"not\", \"notice\", \"notice\", \"notice\", \"notice\", \"notice\", \"ok\", \"ok\", \"ok\", \"okay\", \"okay\", \"okay\", \"okay\", \"one\", \"one\", \"one\", \"one\", \"one\", \"one\", \"open\", \"open\", \"order\", \"order\", \"order\", \"order\", \"order\", \"organize\", \"originally\", \"originally\", \"outdoor\", \"outstanding\", \"pack\", \"pack\", \"pack\", \"pack\", \"pack\", \"pack\", \"package\", \"packaging\", \"paper\", \"par\", \"pay\", \"pay\", \"pay\", \"pay\", \"pay\", \"perfect\", \"perfect\", \"perfectly\", \"perfectly\", \"perfectly\", \"perform\", \"perform\", \"perform\", \"perform\", \"perform\", \"performance\", \"performance\", \"performance\", \"performance\", \"performance\", \"performance\", \"performance\", \"performance\", \"personally\", \"photo\", \"pic\", \"plastic\", \"pleased\", \"pleased\", \"pocket\", \"point\", \"point\", \"point\", \"point\", \"poor\", \"poor\", \"popular\", \"popular\", \"possible\", \"power\", \"power\", \"power\", \"power\", \"power\", \"powerful\", \"powerful\", \"present\", \"pretty\", \"pretty\", \"pretty\", \"pretty\", \"pretty\", \"pretty\", \"pretty\", \"pretty\", \"price\", \"price\", \"price\", \"price\", \"price\", \"price\", \"price\", \"price\", \"pricey\", \"pro\", \"problem\", \"problem\", \"problem\", \"problem\", \"problem\", \"problem\", \"product\", \"product\", \"product\", \"product\", \"product\", \"product\", \"proof\", \"proof\", \"provide\", \"provide\", \"provide\", \"purchase\", \"purchase\", \"purchase\", \"purchase\", \"purchase\", \"purpose\", \"purpose\", \"put\", \"put\", \"quality\", \"quality\", \"quality\", \"quality\", \"quality\", \"quality\", \"quantity\", \"quantity\", \"quantity\", \"quantity\", \"quantity\", \"quantity\", \"quick\", \"quick\", \"quickly\", \"quickly\", \"quickly\", \"quickly\", \"ratio\", \"rayovac\", \"rc\", \"rc\", \"read\", \"read\", \"read\", \"reading\", \"reasonable\", \"reasonable\", \"reasonable\", \"reasonably\", \"reasonably\", \"reasonably\", \"receive\", \"recharge\", \"recharge\", \"rechargeable\", \"rechargeable\", \"rechargeable\", \"rechargeable\", \"recieve\", \"recommend\", \"recommend\", \"recommend\", \"recommend\", \"recommend\", \"recommend\", \"recycle\", \"regularly\", \"remote\", \"remote\", \"reorder\", \"reorder\", \"repeat\", \"replace\", \"replace\", \"replace\", \"repurchase\", \"result\", \"result\", \"result\", \"retail\", \"review\", \"review\", \"right\", \"right\", \"right\", \"right\", \"right\", \"right\", \"right\", \"rock\", \"roll\", \"room\", \"room\", \"run\", \"run\", \"run\", \"run\", \"run\", \"run\", \"run\", \"sanity\", \"satisfied\", \"satisfied\", \"satisfied\", \"save\", \"save\", \"saver\", \"score\", \"seal\", \"seal\", \"season\", \"seemingly\", \"seller\", \"seller\", \"serve\", \"serve\", \"service\", \"service\", \"service\", \"service\", \"set\", \"set\", \"set\", \"set\", \"set\", \"shall\", \"shelf\", \"shelf\", \"shelf\", \"shelf\", \"shiny\", \"ship\", \"ship\", \"shipping\", \"shipping\", \"short\", \"short\", \"shrink\", \"significant\", \"simple\", \"sit\", \"site\", \"smile\", \"smile\", \"solid\", \"solid\", \"son\", \"son\", \"son\", \"son\", \"soon\", \"soon\", \"soon\", \"space\", \"span\", \"spare\", \"spend\", \"spend\", \"spend\", \"spend\", \"staff\", \"staple\", \"star\", \"star\", \"stock\", \"stock\", \"stock\", \"stock\", \"storage\", \"storage\", \"store\", \"store\", \"store\", \"store\", \"store\", \"store\", \"store\", \"story\", \"story\", \"stuff\", \"stuff\", \"stuff\", \"sturdy\", \"subscribe\", \"subscribe\", \"sufficient\", \"sufficient\", \"suggest\", \"suggest\", \"suit\", \"super\", \"super\", \"super\", \"superb\", \"supply\", \"supply\", \"supply\", \"sure\", \"sure\", \"sure\", \"sure\", \"sure\", \"sure\", \"tell\", \"tell\", \"tell\", \"tell\", \"test\", \"test\", \"test\", \"test\", \"test\", \"test\", \"test\", \"tester\", \"tester\", \"thank\", \"thank\", \"thanks\", \"thanks\", \"thesis\", \"thing\", \"thing\", \"thing\", \"thing\", \"thing\", \"thing\", \"thing\", \"think\", \"think\", \"think\", \"think\", \"think\", \"think\", \"thinking\", \"tier\", \"tight\", \"time\", \"time\", \"time\", \"time\", \"time\", \"time\", \"time\", \"time\", \"time\", \"time\", \"timer\", \"to\", \"toddler\", \"toddler\", \"tomorrow\", \"toy\", \"toy\", \"toy\", \"toy\", \"toy\", \"trail\", \"tree\", \"trick\", \"triple\", \"triple\", \"triple\", \"truck\", \"truly\", \"try\", \"try\", \"try\", \"try\", \"try\", \"try\", \"twin\", \"unbeatable\", \"unbeatable\", \"unfortunately\", \"update\", \"update\", \"update\", \"use\", \"use\", \"use\", \"use\", \"use\", \"use\", \"useful\", \"useful\", \"vac\", \"value\", \"value\", \"versus\", \"video\", \"want\", \"want\", \"want\", \"want\", \"want\", \"want\", \"waste\", \"way\", \"way\", \"way\", \"way\", \"way\", \"way\", \"way\", \"weak\", \"weather\", \"week\", \"weird\", \"well\", \"well\", \"well\", \"well\", \"well\", \"will\", \"will\", \"will\", \"will\", \"will\", \"willing\", \"window\", \"winner\", \"wireless\", \"wireless\", \"wonderful\", \"wonderful\", \"wonderfully\", \"work\", \"work\", \"work\", \"work\", \"work\", \"work\", \"work\", \"work\", \"work\", \"worth\", \"worth\", \"worth\", \"worth\", \"worth\", \"worthless\", \"wrap\", \"wrapper\", \"wrapping\", \"write\", \"wrong\", \"wrong\", \"wrong\", \"wrong\", \"wrong\", \"wrong\", \"wrong\", \"x\", \"xbox\", \"yay\", \"yeah\", \"year\", \"year\", \"year\", \"year\", \"year\", \"year\", \"year\", \"yup\", \"zero\", \"zero\"]}, \"R\": 30, \"lambda.step\": 0.01, \"plot.opts\": {\"xlab\": \"PC1\", \"ylab\": \"PC2\"}, \"topic.order\": [5, 6, 10, 8, 3, 1, 9, 4, 2, 7]};\n",
       "\n",
       "function LDAvis_load_lib(url, callback){\n",
       "  var s = document.createElement('script');\n",
       "  s.src = url;\n",
       "  s.async = true;\n",
       "  s.onreadystatechange = s.onload = callback;\n",
       "  s.onerror = function(){console.warn(\"failed to load library \" + url);};\n",
       "  document.getElementsByTagName(\"head\")[0].appendChild(s);\n",
       "}\n",
       "\n",
       "if(typeof(LDAvis) !== \"undefined\"){\n",
       "   // already loaded: just create the visualization\n",
       "   !function(LDAvis){\n",
       "       new LDAvis(\"#\" + \"ldavis_el1568818277968600242471934577\", ldavis_el1568818277968600242471934577_data);\n",
       "   }(LDAvis);\n",
       "}else if(typeof define === \"function\" && define.amd){\n",
       "   // require.js is available: use it to load d3/LDAvis\n",
       "   require.config({paths: {d3: \"https://cdnjs.cloudflare.com/ajax/libs/d3/3.5.5/d3.min\"}});\n",
       "   require([\"d3\"], function(d3){\n",
       "      window.d3 = d3;\n",
       "      LDAvis_load_lib(\"https://cdn.rawgit.com/bmabey/pyLDAvis/files/ldavis.v1.0.0.js\", function(){\n",
       "        new LDAvis(\"#\" + \"ldavis_el1568818277968600242471934577\", ldavis_el1568818277968600242471934577_data);\n",
       "      });\n",
       "    });\n",
       "}else{\n",
       "    // require.js not available: dynamically load d3 & LDAvis\n",
       "    LDAvis_load_lib(\"https://cdnjs.cloudflare.com/ajax/libs/d3/3.5.5/d3.min.js\", function(){\n",
       "         LDAvis_load_lib(\"https://cdn.rawgit.com/bmabey/pyLDAvis/files/ldavis.v1.0.0.js\", function(){\n",
       "                 new LDAvis(\"#\" + \"ldavis_el1568818277968600242471934577\", ldavis_el1568818277968600242471934577_data);\n",
       "            })\n",
       "         });\n",
       "}\n",
       "</script>"
      ],
      "text/plain": [
       "PreparedData(topic_coordinates=              x         y  topics  cluster       Freq\n",
       "topic                                                \n",
       "4     -0.168392  0.095770       1        1  18.370701\n",
       "5      0.041943  0.091765       2        1  16.021786\n",
       "9     -0.108287  0.058280       3        1  13.852226\n",
       "7      0.264945 -0.075190       4        1   9.155677\n",
       "2      0.116319  0.068752       5        1   8.761871\n",
       "0      0.258502 -0.067392       6        1   7.850523\n",
       "8     -0.072510  0.079462       7        1   7.337670\n",
       "3     -0.176499 -0.346849       8        1   6.820713\n",
       "1     -0.079628  0.072505       9        1   6.114483\n",
       "6     -0.076395  0.022897      10        1   5.714352, topic_info=         Term         Freq        Total Category  logprob  loglift\n",
       "19      great  3492.000000  3492.000000  Default  30.0000  30.0000\n",
       "30       good  3203.000000  3203.000000  Default  29.0000  29.0000\n",
       "16      price  2993.000000  2993.000000  Default  28.0000  28.0000\n",
       "17      brand  2157.000000  2157.000000  Default  27.0000  27.0000\n",
       "22     Amazon  1297.000000  1297.000000  Default  26.0000  26.0000\n",
       "..        ...          ...          ...      ...      ...      ...\n",
       "20       last    45.226784   551.529541  Topic10  -4.8096   0.3612\n",
       "130       box    40.056065   474.063965  Topic10  -4.9310   0.3911\n",
       "98       know    37.029949   241.085907  Topic10  -5.0095   0.9888\n",
       "35   purchase    38.345562   712.180969  Topic10  -4.9746  -0.0595\n",
       "17      brand    39.622311  2157.924561  Topic10  -4.9419  -1.1353\n",
       "\n",
       "[654 rows x 6 columns], token_table=      Topic      Freq  Term\n",
       "term                       \n",
       "342       1  0.911946     1\n",
       "342       5  0.026433     1\n",
       "342       7  0.039650     1\n",
       "1381      2  0.911868   1/3\n",
       "1251      7  0.855321    13\n",
       "...     ...       ...   ...\n",
       "90        9  0.091902  year\n",
       "90       10  0.194833  year\n",
       "896       2  0.941160   yup\n",
       "1105      2  0.059763  zero\n",
       "1105     10  0.896438  zero\n",
       "\n",
       "[1264 rows x 3 columns], R=30, lambda_step=0.01, plot_opts={'xlab': 'PC1', 'ylab': 'PC2'}, topic_order=[5, 6, 10, 8, 3, 1, 9, 4, 2, 7])"
      ]
     },
     "execution_count": 144,
     "metadata": {},
     "output_type": "execute_result"
    }
   ],
   "source": [
    "pyLDAvis.gensim.prepare(lda,corpus,id2word)"
   ]
  },
  {
   "cell_type": "code",
   "execution_count": 146,
   "metadata": {},
   "outputs": [],
   "source": [
    "# store our data in aa dataframe\n",
    "distro = [lda[d] for d in corpus]"
   ]
  },
  {
   "cell_type": "code",
   "execution_count": 155,
   "metadata": {},
   "outputs": [],
   "source": [
    "def update(doc):\n",
    "        d_dist = {k:0 for k in range(0, len(lda.get_topics()))}\n",
    "        for t in doc:\n",
    "            d_dist[t[0]] = t[1]\n",
    "        return d_dist\n",
    "    \n",
    "new_distro = [update(d) for d in distro]"
   ]
  },
  {
   "cell_type": "code",
   "execution_count": 157,
   "metadata": {},
   "outputs": [
    {
     "data": {
      "text/html": [
       "<div>\n",
       "<style scoped>\n",
       "    .dataframe tbody tr th:only-of-type {\n",
       "        vertical-align: middle;\n",
       "    }\n",
       "\n",
       "    .dataframe tbody tr th {\n",
       "        vertical-align: top;\n",
       "    }\n",
       "\n",
       "    .dataframe thead th {\n",
       "        text-align: right;\n",
       "    }\n",
       "</style>\n",
       "<table border=\"1\" class=\"dataframe\">\n",
       "  <thead>\n",
       "    <tr style=\"text-align: right;\">\n",
       "      <th></th>\n",
       "      <th>good battery price work far</th>\n",
       "      <th>battery Amazon order thank buy</th>\n",
       "      <th>battery deal good brand long</th>\n",
       "      <th>box battery package come packaging</th>\n",
       "      <th>battery use week month 2</th>\n",
       "      <th>battery brand price long buy</th>\n",
       "      <th>battery money life work like</th>\n",
       "      <th>great price battery work value</th>\n",
       "      <th>battery expect purchase work product</th>\n",
       "      <th>battery need use toy buy</th>\n",
       "    </tr>\n",
       "  </thead>\n",
       "  <tbody>\n",
       "    <tr>\n",
       "      <th>0</th>\n",
       "      <td>0.010005</td>\n",
       "      <td>0.010008</td>\n",
       "      <td>0.010002</td>\n",
       "      <td>0.010002</td>\n",
       "      <td>0.139720</td>\n",
       "      <td>0.010003</td>\n",
       "      <td>0.010003</td>\n",
       "      <td>0.010005</td>\n",
       "      <td>0.780244</td>\n",
       "      <td>0.010006</td>\n",
       "    </tr>\n",
       "    <tr>\n",
       "      <th>1</th>\n",
       "      <td>0.016674</td>\n",
       "      <td>0.016673</td>\n",
       "      <td>0.016668</td>\n",
       "      <td>0.016671</td>\n",
       "      <td>0.016669</td>\n",
       "      <td>0.849953</td>\n",
       "      <td>0.016672</td>\n",
       "      <td>0.016674</td>\n",
       "      <td>0.016674</td>\n",
       "      <td>0.016672</td>\n",
       "    </tr>\n",
       "    <tr>\n",
       "      <th>2</th>\n",
       "      <td>0.025015</td>\n",
       "      <td>0.025001</td>\n",
       "      <td>0.524953</td>\n",
       "      <td>0.025002</td>\n",
       "      <td>0.025001</td>\n",
       "      <td>0.025011</td>\n",
       "      <td>0.025003</td>\n",
       "      <td>0.025024</td>\n",
       "      <td>0.274988</td>\n",
       "      <td>0.025002</td>\n",
       "    </tr>\n",
       "    <tr>\n",
       "      <th>3</th>\n",
       "      <td>0.016673</td>\n",
       "      <td>0.016667</td>\n",
       "      <td>0.016674</td>\n",
       "      <td>0.016667</td>\n",
       "      <td>0.016668</td>\n",
       "      <td>0.849969</td>\n",
       "      <td>0.016669</td>\n",
       "      <td>0.016674</td>\n",
       "      <td>0.016669</td>\n",
       "      <td>0.016669</td>\n",
       "    </tr>\n",
       "    <tr>\n",
       "      <th>4</th>\n",
       "      <td>0.016669</td>\n",
       "      <td>0.016668</td>\n",
       "      <td>0.016669</td>\n",
       "      <td>0.016668</td>\n",
       "      <td>0.016669</td>\n",
       "      <td>0.016671</td>\n",
       "      <td>0.016669</td>\n",
       "      <td>0.849982</td>\n",
       "      <td>0.016668</td>\n",
       "      <td>0.016668</td>\n",
       "    </tr>\n",
       "  </tbody>\n",
       "</table>\n",
       "</div>"
      ],
      "text/plain": [
       "   good battery price work far  battery Amazon order thank buy  \\\n",
       "0                     0.010005                        0.010008   \n",
       "1                     0.016674                        0.016673   \n",
       "2                     0.025015                        0.025001   \n",
       "3                     0.016673                        0.016667   \n",
       "4                     0.016669                        0.016668   \n",
       "\n",
       "   battery deal good brand long  box battery package come packaging  \\\n",
       "0                      0.010002                            0.010002   \n",
       "1                      0.016668                            0.016671   \n",
       "2                      0.524953                            0.025002   \n",
       "3                      0.016674                            0.016667   \n",
       "4                      0.016669                            0.016668   \n",
       "\n",
       "   battery use week month 2  battery brand price long buy  \\\n",
       "0                  0.139720                      0.010003   \n",
       "1                  0.016669                      0.849953   \n",
       "2                  0.025001                      0.025011   \n",
       "3                  0.016668                      0.849969   \n",
       "4                  0.016669                      0.016671   \n",
       "\n",
       "   battery money life work like  great price battery work value  \\\n",
       "0                      0.010003                        0.010005   \n",
       "1                      0.016672                        0.016674   \n",
       "2                      0.025003                        0.025024   \n",
       "3                      0.016669                        0.016674   \n",
       "4                      0.016669                        0.849982   \n",
       "\n",
       "   battery expect purchase work product  battery need use toy buy  \n",
       "0                              0.780244                  0.010006  \n",
       "1                              0.016674                  0.016672  \n",
       "2                              0.274988                  0.025002  \n",
       "3                              0.016669                  0.016669  \n",
       "4                              0.016668                  0.016668  "
      ]
     },
     "execution_count": 157,
     "metadata": {},
     "output_type": "execute_result"
    }
   ],
   "source": [
    "doc_topics = pd.DataFrame.from_records(new_distro)\n",
    "doc_topics.columns = topics\n",
    "doc_topics.head()"
   ]
  },
  {
   "cell_type": "code",
   "execution_count": 158,
   "metadata": {},
   "outputs": [],
   "source": [
    "doc_topics['primary_topic'] = doc_topics.idxmax(axis=1)"
   ]
  },
  {
   "cell_type": "code",
   "execution_count": 163,
   "metadata": {},
   "outputs": [
    {
     "data": {
      "text/plain": [
       "great price battery work value          2317\n",
       "good battery price work far             2069\n",
       "battery brand price long buy            1871\n",
       "battery need use toy buy                1131\n",
       "battery use week month 2                1131\n",
       "battery deal good brand long             998\n",
       "battery Amazon order thank buy           691\n",
       "battery expect purchase work product     670\n",
       "box battery package come packaging       651\n",
       "battery money life work like             542\n",
       "Name: primary_topic, dtype: int64"
      ]
     },
     "execution_count": 163,
     "metadata": {},
     "output_type": "execute_result"
    }
   ],
   "source": [
    "doc_topics['primary_topic'].value_counts()"
   ]
  },
  {
   "cell_type": "markdown",
   "metadata": {},
   "source": [
    "### Compute Coherence"
   ]
  },
  {
   "cell_type": "code",
   "execution_count": 164,
   "metadata": {},
   "outputs": [],
   "source": [
    "def compute_coherence_values(dictionary, corpus, limit, start=2, step=3, passes=5):\n",
    "    \"\"\"\n",
    "    Compute c_v coherence for various number of topics\n",
    "\n",
    "    Parameters:\n",
    "    ----------\n",
    "    dictionary : Gensim dictionary\n",
    "    corpus : Gensim corpus\n",
    "    limit : Max num of topics\n",
    "    passes: the number of times the entire lda model & coherence values are calculated\n",
    "\n",
    "    Returns:\n",
    "    -------\n",
    "    coherence_values : Coherence values corresponding to the LDA model with respective number of topics\n",
    "    \"\"\"\n",
    "    \n",
    "    coherence_values = []\n",
    "    \n",
    "    for iter_ in range(passes):\n",
    "        for num_topics in range(start, limit, step):\n",
    "            model = LdaMulticore(corpus=corpus, num_topics=num_topics, id2word=dictionary, workers=12)\n",
    "            coherencemodel = CoherenceModel(model=model,dictionary=dictionary,corpus=corpus, coherence='u_mass')\n",
    "            coherence_values.append({'pass': iter_, \n",
    "                                     'num_topics': num_topics, \n",
    "                                     'coherence_score': coherencemodel.get_coherence()\n",
    "                                    })\n",
    "\n",
    "    return coherence_values"
   ]
  },
  {
   "cell_type": "code",
   "execution_count": 169,
   "metadata": {},
   "outputs": [],
   "source": [
    "# Can take a long time to run.\n",
    "coherence_values = compute_coherence_values(dictionary=id2word, \n",
    "                                                        corpus=corpus,\n",
    "                                                        start=3, \n",
    "                                                        limit=40, \n",
    "                                                        step=2,\n",
    "                                                        passes=10)"
   ]
  },
  {
   "cell_type": "code",
   "execution_count": 172,
   "metadata": {},
   "outputs": [],
   "source": [
    "topic_coherence = pd.DataFrame.from_records(coherence_values)"
   ]
  },
  {
   "cell_type": "code",
   "execution_count": 173,
   "metadata": {},
   "outputs": [
    {
     "data": {
      "text/html": [
       "<div>\n",
       "<style scoped>\n",
       "    .dataframe tbody tr th:only-of-type {\n",
       "        vertical-align: middle;\n",
       "    }\n",
       "\n",
       "    .dataframe tbody tr th {\n",
       "        vertical-align: top;\n",
       "    }\n",
       "\n",
       "    .dataframe thead th {\n",
       "        text-align: right;\n",
       "    }\n",
       "</style>\n",
       "<table border=\"1\" class=\"dataframe\">\n",
       "  <thead>\n",
       "    <tr style=\"text-align: right;\">\n",
       "      <th></th>\n",
       "      <th>pass</th>\n",
       "      <th>num_topics</th>\n",
       "      <th>coherence_score</th>\n",
       "    </tr>\n",
       "  </thead>\n",
       "  <tbody>\n",
       "    <tr>\n",
       "      <th>0</th>\n",
       "      <td>0</td>\n",
       "      <td>3</td>\n",
       "      <td>-2.498747</td>\n",
       "    </tr>\n",
       "    <tr>\n",
       "      <th>1</th>\n",
       "      <td>0</td>\n",
       "      <td>5</td>\n",
       "      <td>-2.551048</td>\n",
       "    </tr>\n",
       "    <tr>\n",
       "      <th>2</th>\n",
       "      <td>0</td>\n",
       "      <td>7</td>\n",
       "      <td>-2.600977</td>\n",
       "    </tr>\n",
       "    <tr>\n",
       "      <th>3</th>\n",
       "      <td>0</td>\n",
       "      <td>9</td>\n",
       "      <td>-2.519637</td>\n",
       "    </tr>\n",
       "    <tr>\n",
       "      <th>4</th>\n",
       "      <td>0</td>\n",
       "      <td>11</td>\n",
       "      <td>-2.538683</td>\n",
       "    </tr>\n",
       "  </tbody>\n",
       "</table>\n",
       "</div>"
      ],
      "text/plain": [
       "   pass  num_topics  coherence_score\n",
       "0     0           3        -2.498747\n",
       "1     0           5        -2.551048\n",
       "2     0           7        -2.600977\n",
       "3     0           9        -2.519637\n",
       "4     0          11        -2.538683"
      ]
     },
     "execution_count": 173,
     "metadata": {},
     "output_type": "execute_result"
    }
   ],
   "source": [
    "topic_coherence.head()"
   ]
  },
  {
   "cell_type": "code",
   "execution_count": 176,
   "metadata": {},
   "outputs": [
    {
     "data": {
      "image/png": "[encoded data removed]",
      "text/plain": [
       "<Figure size 432x288 with 1 Axes>"
      ]
     },
     "metadata": {
      "needs_background": "light"
     },
     "output_type": "display_data"
    }
   ],
   "source": [
    "ax = sns.lineplot(x=\"num_topics\", y=\"coherence_score\", data=topic_coherence)"
   ]
  },
  {
   "cell_type": "markdown",
   "metadata": {},
   "source": [
    "## Stretch Goals\n",
    "\n",
    "* Incorporate Named Entity Recognition in your analysis\n",
    "* Incorporate some custom pre-processing from our previous lessons (like spacy lemmatization)\n",
    "* Analyze a dataset of interest to you with topic modeling"
   ]
  }
 ],
 "metadata": {
  "kernelspec": {
   "display_name": "U4-S1-NLP (Python3)",
   "language": "python",
   "name": "u4-s1-nlp"
  },
  "language_info": {
   "codemirror_mode": {
    "name": "ipython",
    "version": 3
   },
   "file_extension": ".py",
   "mimetype": "text/x-python",
   "name": "python",
   "nbconvert_exporter": "python",
   "pygments_lexer": "ipython3",
   "version": "3.7.0"
  }
 },
 "nbformat": 4,
 "nbformat_minor": 4
}
